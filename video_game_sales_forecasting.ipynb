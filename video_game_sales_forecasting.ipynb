{
 "cells": [
  {
   "cell_type": "markdown",
   "metadata": {},
   "source": [
    "# Video Game Sales Forecasting\n",
    "You work for the online store Ice, which sells video games all over the world. User and expert reviews, genres, platforms (e.g. Xbox or PlayStation), and historical data on game sales are available from open sources. You need to identify patterns that determine whether a game succeeds or not. This will allow you to spot potential big winners and plan advertising campaigns.\n",
    "\n",
    "In front of you is data going back to 2016. Let’s imagine that it’s December 2016 and you’re planning a campaign for 2017. \n",
    "\n",
    "### Import packages and data file"
   ]
  },
  {
   "cell_type": "code",
   "execution_count": 1,
   "metadata": {},
   "outputs": [],
   "source": [
    "#import packages and libraries needed\n",
    "import pandas as pd\n",
    "import numpy as np\n",
    "from scipy import stats as st\n",
    "import plotly.express as px\n",
    "import matplotlib.pyplot as plt\n",
    "import seaborn as sns"
   ]
  },
  {
   "cell_type": "code",
   "execution_count": 2,
   "metadata": {},
   "outputs": [],
   "source": [
    "#import dataset\n",
    "df = pd.read_csv('C:/Users/susan/Documents/TripleTen/video_game_sales/games.csv')"
   ]
  },
  {
   "cell_type": "code",
   "execution_count": 3,
   "metadata": {},
   "outputs": [
    {
     "data": {
      "text/html": [
       "<div>\n",
       "<style scoped>\n",
       "    .dataframe tbody tr th:only-of-type {\n",
       "        vertical-align: middle;\n",
       "    }\n",
       "\n",
       "    .dataframe tbody tr th {\n",
       "        vertical-align: top;\n",
       "    }\n",
       "\n",
       "    .dataframe thead th {\n",
       "        text-align: right;\n",
       "    }\n",
       "</style>\n",
       "<table border=\"1\" class=\"dataframe\">\n",
       "  <thead>\n",
       "    <tr style=\"text-align: right;\">\n",
       "      <th></th>\n",
       "      <th>Name</th>\n",
       "      <th>Platform</th>\n",
       "      <th>Year_of_Release</th>\n",
       "      <th>Genre</th>\n",
       "      <th>NA_sales</th>\n",
       "      <th>EU_sales</th>\n",
       "      <th>JP_sales</th>\n",
       "      <th>Other_sales</th>\n",
       "      <th>Critic_Score</th>\n",
       "      <th>User_Score</th>\n",
       "      <th>Rating</th>\n",
       "    </tr>\n",
       "  </thead>\n",
       "  <tbody>\n",
       "    <tr>\n",
       "      <th>0</th>\n",
       "      <td>Wii Sports</td>\n",
       "      <td>Wii</td>\n",
       "      <td>2006.0</td>\n",
       "      <td>Sports</td>\n",
       "      <td>41.36</td>\n",
       "      <td>28.96</td>\n",
       "      <td>3.77</td>\n",
       "      <td>8.45</td>\n",
       "      <td>76.0</td>\n",
       "      <td>8</td>\n",
       "      <td>E</td>\n",
       "    </tr>\n",
       "    <tr>\n",
       "      <th>1</th>\n",
       "      <td>Super Mario Bros.</td>\n",
       "      <td>NES</td>\n",
       "      <td>1985.0</td>\n",
       "      <td>Platform</td>\n",
       "      <td>29.08</td>\n",
       "      <td>3.58</td>\n",
       "      <td>6.81</td>\n",
       "      <td>0.77</td>\n",
       "      <td>NaN</td>\n",
       "      <td>NaN</td>\n",
       "      <td>NaN</td>\n",
       "    </tr>\n",
       "    <tr>\n",
       "      <th>2</th>\n",
       "      <td>Mario Kart Wii</td>\n",
       "      <td>Wii</td>\n",
       "      <td>2008.0</td>\n",
       "      <td>Racing</td>\n",
       "      <td>15.68</td>\n",
       "      <td>12.76</td>\n",
       "      <td>3.79</td>\n",
       "      <td>3.29</td>\n",
       "      <td>82.0</td>\n",
       "      <td>8.3</td>\n",
       "      <td>E</td>\n",
       "    </tr>\n",
       "    <tr>\n",
       "      <th>3</th>\n",
       "      <td>Wii Sports Resort</td>\n",
       "      <td>Wii</td>\n",
       "      <td>2009.0</td>\n",
       "      <td>Sports</td>\n",
       "      <td>15.61</td>\n",
       "      <td>10.93</td>\n",
       "      <td>3.28</td>\n",
       "      <td>2.95</td>\n",
       "      <td>80.0</td>\n",
       "      <td>8</td>\n",
       "      <td>E</td>\n",
       "    </tr>\n",
       "    <tr>\n",
       "      <th>4</th>\n",
       "      <td>Pokemon Red/Pokemon Blue</td>\n",
       "      <td>GB</td>\n",
       "      <td>1996.0</td>\n",
       "      <td>Role-Playing</td>\n",
       "      <td>11.27</td>\n",
       "      <td>8.89</td>\n",
       "      <td>10.22</td>\n",
       "      <td>1.00</td>\n",
       "      <td>NaN</td>\n",
       "      <td>NaN</td>\n",
       "      <td>NaN</td>\n",
       "    </tr>\n",
       "  </tbody>\n",
       "</table>\n",
       "</div>"
      ],
      "text/plain": [
       "                       Name Platform  Year_of_Release         Genre  NA_sales  \\\n",
       "0                Wii Sports      Wii           2006.0        Sports     41.36   \n",
       "1         Super Mario Bros.      NES           1985.0      Platform     29.08   \n",
       "2            Mario Kart Wii      Wii           2008.0        Racing     15.68   \n",
       "3         Wii Sports Resort      Wii           2009.0        Sports     15.61   \n",
       "4  Pokemon Red/Pokemon Blue       GB           1996.0  Role-Playing     11.27   \n",
       "\n",
       "   EU_sales  JP_sales  Other_sales  Critic_Score User_Score Rating  \n",
       "0     28.96      3.77         8.45          76.0          8      E  \n",
       "1      3.58      6.81         0.77           NaN        NaN    NaN  \n",
       "2     12.76      3.79         3.29          82.0        8.3      E  \n",
       "3     10.93      3.28         2.95          80.0          8      E  \n",
       "4      8.89     10.22         1.00           NaN        NaN    NaN  "
      ]
     },
     "execution_count": 3,
     "metadata": {},
     "output_type": "execute_result"
    }
   ],
   "source": [
    "df.head()"
   ]
  },
  {
   "cell_type": "code",
   "execution_count": 4,
   "metadata": {},
   "outputs": [
    {
     "data": {
      "text/plain": [
       "(16715, 11)"
      ]
     },
     "execution_count": 4,
     "metadata": {},
     "output_type": "execute_result"
    }
   ],
   "source": [
    "df.shape"
   ]
  },
  {
   "cell_type": "code",
   "execution_count": 5,
   "metadata": {},
   "outputs": [
    {
     "name": "stdout",
     "output_type": "stream",
     "text": [
      "<class 'pandas.core.frame.DataFrame'>\n",
      "RangeIndex: 16715 entries, 0 to 16714\n",
      "Data columns (total 11 columns):\n",
      " #   Column           Non-Null Count  Dtype  \n",
      "---  ------           --------------  -----  \n",
      " 0   Name             16713 non-null  object \n",
      " 1   Platform         16715 non-null  object \n",
      " 2   Year_of_Release  16446 non-null  float64\n",
      " 3   Genre            16713 non-null  object \n",
      " 4   NA_sales         16715 non-null  float64\n",
      " 5   EU_sales         16715 non-null  float64\n",
      " 6   JP_sales         16715 non-null  float64\n",
      " 7   Other_sales      16715 non-null  float64\n",
      " 8   Critic_Score     8137 non-null   float64\n",
      " 9   User_Score       10014 non-null  object \n",
      " 10  Rating           9949 non-null   object \n",
      "dtypes: float64(6), object(5)\n",
      "memory usage: 1.4+ MB\n"
     ]
    }
   ],
   "source": [
    "df.info()"
   ]
  },
  {
   "cell_type": "markdown",
   "metadata": {},
   "source": [
    "### Prepare the data\n",
    "\n",
    "<b>Replace column names with lowercase letters"
   ]
  },
  {
   "cell_type": "code",
   "execution_count": 6,
   "metadata": {},
   "outputs": [
    {
     "name": "stdout",
     "output_type": "stream",
     "text": [
      "<class 'pandas.core.frame.DataFrame'>\n",
      "RangeIndex: 16715 entries, 0 to 16714\n",
      "Data columns (total 11 columns):\n",
      " #   Column           Non-Null Count  Dtype  \n",
      "---  ------           --------------  -----  \n",
      " 0   name             16713 non-null  object \n",
      " 1   platform         16715 non-null  object \n",
      " 2   year_of_release  16446 non-null  float64\n",
      " 3   genre            16713 non-null  object \n",
      " 4   na_sales         16715 non-null  float64\n",
      " 5   eu_sales         16715 non-null  float64\n",
      " 6   jp_sales         16715 non-null  float64\n",
      " 7   other_sales      16715 non-null  float64\n",
      " 8   critic_score     8137 non-null   float64\n",
      " 9   user_score       10014 non-null  object \n",
      " 10  rating           9949 non-null   object \n",
      "dtypes: float64(6), object(5)\n",
      "memory usage: 1.4+ MB\n"
     ]
    }
   ],
   "source": [
    "df = df.rename(columns=str.lower)\n",
    "df.info()"
   ]
  },
  {
   "cell_type": "markdown",
   "metadata": {},
   "source": [
    "<b>Handle missing values.<b>\n",
    "    \n",
    "Critic_score and user_score cannot be determined, so we will leave those missing values. The empty ratings values are filled with 'undefined' since we don't have the ratings for those rows. NaN values for year_of_release will be dropped since they make up about 1% of the data. Rows with empty values in the name and genre columns will also be dropped because they do not consist of a significant percentage of the data."
   ]
  },
  {
   "cell_type": "code",
   "execution_count": 7,
   "metadata": {},
   "outputs": [],
   "source": [
    "df['rating'] = df['rating'].fillna('undefined')"
   ]
  },
  {
   "cell_type": "code",
   "execution_count": 8,
   "metadata": {},
   "outputs": [
    {
     "data": {
      "text/plain": [
       "name                0.011965\n",
       "platform            0.000000\n",
       "year_of_release     1.609333\n",
       "genre               0.011965\n",
       "na_sales            0.000000\n",
       "eu_sales            0.000000\n",
       "jp_sales            0.000000\n",
       "other_sales         0.000000\n",
       "critic_score       51.319174\n",
       "user_score         40.089740\n",
       "rating              0.000000\n",
       "dtype: float64"
      ]
     },
     "execution_count": 8,
     "metadata": {},
     "output_type": "execute_result"
    }
   ],
   "source": [
    "df.isna().mean()*100\n"
   ]
  },
  {
   "cell_type": "code",
   "execution_count": 9,
   "metadata": {},
   "outputs": [
    {
     "name": "stdout",
     "output_type": "stream",
     "text": [
      "<class 'pandas.core.frame.DataFrame'>\n",
      "Index: 16444 entries, 0 to 16714\n",
      "Data columns (total 11 columns):\n",
      " #   Column           Non-Null Count  Dtype  \n",
      "---  ------           --------------  -----  \n",
      " 0   name             16444 non-null  object \n",
      " 1   platform         16444 non-null  object \n",
      " 2   year_of_release  16444 non-null  float64\n",
      " 3   genre            16444 non-null  object \n",
      " 4   na_sales         16444 non-null  float64\n",
      " 5   eu_sales         16444 non-null  float64\n",
      " 6   jp_sales         16444 non-null  float64\n",
      " 7   other_sales      16444 non-null  float64\n",
      " 8   critic_score     7983 non-null   float64\n",
      " 9   user_score       9839 non-null   object \n",
      " 10  rating           16444 non-null  object \n",
      "dtypes: float64(6), object(5)\n",
      "memory usage: 1.5+ MB\n"
     ]
    }
   ],
   "source": [
    "#Since there are only 1.6% of rows in the year_of_release column that are missing data, I will drop those rows along with the missing values in the name and genre columns\n",
    "df= df.dropna(subset=['year_of_release', 'name', 'genre'])\n",
    "df.info()"
   ]
  },
  {
   "cell_type": "code",
   "execution_count": 10,
   "metadata": {},
   "outputs": [
    {
     "name": "stdout",
     "output_type": "stream",
     "text": [
      "<class 'pandas.core.frame.DataFrame'>\n",
      "Index: 16444 entries, 0 to 16714\n",
      "Data columns (total 11 columns):\n",
      " #   Column           Non-Null Count  Dtype  \n",
      "---  ------           --------------  -----  \n",
      " 0   name             16444 non-null  object \n",
      " 1   platform         16444 non-null  object \n",
      " 2   year_of_release  16444 non-null  int32  \n",
      " 3   genre            16444 non-null  object \n",
      " 4   na_sales         16444 non-null  float64\n",
      " 5   eu_sales         16444 non-null  float64\n",
      " 6   jp_sales         16444 non-null  float64\n",
      " 7   other_sales      16444 non-null  float64\n",
      " 8   critic_score     7983 non-null   float64\n",
      " 9   user_score       7463 non-null   float64\n",
      " 10  rating           16444 non-null  object \n",
      "dtypes: float64(6), int32(1), object(4)\n",
      "memory usage: 1.4+ MB\n"
     ]
    }
   ],
   "source": [
    "#change the 'user_score' column to a numeric data type\n",
    "df['user_score'] = pd.to_numeric(df['user_score'], errors='coerce')\n",
    "#change 'year_of_release' column to be an integer instead of float data type\n",
    "df['year_of_release'] = df['year_of_release'].astype('int')\n",
    "df.info()"
   ]
  },
  {
   "cell_type": "markdown",
   "metadata": {},
   "source": [
    "<b>Check for duplicates."
   ]
  },
  {
   "cell_type": "code",
   "execution_count": 11,
   "metadata": {},
   "outputs": [
    {
     "data": {
      "text/html": [
       "<div>\n",
       "<style scoped>\n",
       "    .dataframe tbody tr th:only-of-type {\n",
       "        vertical-align: middle;\n",
       "    }\n",
       "\n",
       "    .dataframe tbody tr th {\n",
       "        vertical-align: top;\n",
       "    }\n",
       "\n",
       "    .dataframe thead th {\n",
       "        text-align: right;\n",
       "    }\n",
       "</style>\n",
       "<table border=\"1\" class=\"dataframe\">\n",
       "  <thead>\n",
       "    <tr style=\"text-align: right;\">\n",
       "      <th></th>\n",
       "      <th>name</th>\n",
       "      <th>platform</th>\n",
       "      <th>year_of_release</th>\n",
       "      <th>genre</th>\n",
       "      <th>na_sales</th>\n",
       "      <th>eu_sales</th>\n",
       "      <th>jp_sales</th>\n",
       "      <th>other_sales</th>\n",
       "      <th>critic_score</th>\n",
       "      <th>user_score</th>\n",
       "      <th>rating</th>\n",
       "    </tr>\n",
       "  </thead>\n",
       "  <tbody>\n",
       "  </tbody>\n",
       "</table>\n",
       "</div>"
      ],
      "text/plain": [
       "Empty DataFrame\n",
       "Columns: [name, platform, year_of_release, genre, na_sales, eu_sales, jp_sales, other_sales, critic_score, user_score, rating]\n",
       "Index: []"
      ]
     },
     "execution_count": 11,
     "metadata": {},
     "output_type": "execute_result"
    }
   ],
   "source": [
    "duplicate = df[df.duplicated()]\n",
    "duplicate"
   ]
  },
  {
   "cell_type": "markdown",
   "metadata": {},
   "source": [
    "<b>Add a column for the total sales in all regions for each game."
   ]
  },
  {
   "cell_type": "code",
   "execution_count": 12,
   "metadata": {},
   "outputs": [
    {
     "data": {
      "text/html": [
       "<div>\n",
       "<style scoped>\n",
       "    .dataframe tbody tr th:only-of-type {\n",
       "        vertical-align: middle;\n",
       "    }\n",
       "\n",
       "    .dataframe tbody tr th {\n",
       "        vertical-align: top;\n",
       "    }\n",
       "\n",
       "    .dataframe thead th {\n",
       "        text-align: right;\n",
       "    }\n",
       "</style>\n",
       "<table border=\"1\" class=\"dataframe\">\n",
       "  <thead>\n",
       "    <tr style=\"text-align: right;\">\n",
       "      <th></th>\n",
       "      <th>name</th>\n",
       "      <th>platform</th>\n",
       "      <th>year_of_release</th>\n",
       "      <th>genre</th>\n",
       "      <th>na_sales</th>\n",
       "      <th>eu_sales</th>\n",
       "      <th>jp_sales</th>\n",
       "      <th>other_sales</th>\n",
       "      <th>critic_score</th>\n",
       "      <th>user_score</th>\n",
       "      <th>rating</th>\n",
       "      <th>total_sales</th>\n",
       "    </tr>\n",
       "  </thead>\n",
       "  <tbody>\n",
       "    <tr>\n",
       "      <th>0</th>\n",
       "      <td>Wii Sports</td>\n",
       "      <td>Wii</td>\n",
       "      <td>2006</td>\n",
       "      <td>Sports</td>\n",
       "      <td>41.36</td>\n",
       "      <td>28.96</td>\n",
       "      <td>3.77</td>\n",
       "      <td>8.45</td>\n",
       "      <td>76.0</td>\n",
       "      <td>8.0</td>\n",
       "      <td>E</td>\n",
       "      <td>82.54</td>\n",
       "    </tr>\n",
       "    <tr>\n",
       "      <th>1</th>\n",
       "      <td>Super Mario Bros.</td>\n",
       "      <td>NES</td>\n",
       "      <td>1985</td>\n",
       "      <td>Platform</td>\n",
       "      <td>29.08</td>\n",
       "      <td>3.58</td>\n",
       "      <td>6.81</td>\n",
       "      <td>0.77</td>\n",
       "      <td>NaN</td>\n",
       "      <td>NaN</td>\n",
       "      <td>undefined</td>\n",
       "      <td>40.24</td>\n",
       "    </tr>\n",
       "    <tr>\n",
       "      <th>2</th>\n",
       "      <td>Mario Kart Wii</td>\n",
       "      <td>Wii</td>\n",
       "      <td>2008</td>\n",
       "      <td>Racing</td>\n",
       "      <td>15.68</td>\n",
       "      <td>12.76</td>\n",
       "      <td>3.79</td>\n",
       "      <td>3.29</td>\n",
       "      <td>82.0</td>\n",
       "      <td>8.3</td>\n",
       "      <td>E</td>\n",
       "      <td>35.52</td>\n",
       "    </tr>\n",
       "    <tr>\n",
       "      <th>3</th>\n",
       "      <td>Wii Sports Resort</td>\n",
       "      <td>Wii</td>\n",
       "      <td>2009</td>\n",
       "      <td>Sports</td>\n",
       "      <td>15.61</td>\n",
       "      <td>10.93</td>\n",
       "      <td>3.28</td>\n",
       "      <td>2.95</td>\n",
       "      <td>80.0</td>\n",
       "      <td>8.0</td>\n",
       "      <td>E</td>\n",
       "      <td>32.77</td>\n",
       "    </tr>\n",
       "    <tr>\n",
       "      <th>4</th>\n",
       "      <td>Pokemon Red/Pokemon Blue</td>\n",
       "      <td>GB</td>\n",
       "      <td>1996</td>\n",
       "      <td>Role-Playing</td>\n",
       "      <td>11.27</td>\n",
       "      <td>8.89</td>\n",
       "      <td>10.22</td>\n",
       "      <td>1.00</td>\n",
       "      <td>NaN</td>\n",
       "      <td>NaN</td>\n",
       "      <td>undefined</td>\n",
       "      <td>31.38</td>\n",
       "    </tr>\n",
       "  </tbody>\n",
       "</table>\n",
       "</div>"
      ],
      "text/plain": [
       "                       name platform  year_of_release         genre  na_sales  \\\n",
       "0                Wii Sports      Wii             2006        Sports     41.36   \n",
       "1         Super Mario Bros.      NES             1985      Platform     29.08   \n",
       "2            Mario Kart Wii      Wii             2008        Racing     15.68   \n",
       "3         Wii Sports Resort      Wii             2009        Sports     15.61   \n",
       "4  Pokemon Red/Pokemon Blue       GB             1996  Role-Playing     11.27   \n",
       "\n",
       "   eu_sales  jp_sales  other_sales  critic_score  user_score     rating  \\\n",
       "0     28.96      3.77         8.45          76.0         8.0          E   \n",
       "1      3.58      6.81         0.77           NaN         NaN  undefined   \n",
       "2     12.76      3.79         3.29          82.0         8.3          E   \n",
       "3     10.93      3.28         2.95          80.0         8.0          E   \n",
       "4      8.89     10.22         1.00           NaN         NaN  undefined   \n",
       "\n",
       "   total_sales  \n",
       "0        82.54  \n",
       "1        40.24  \n",
       "2        35.52  \n",
       "3        32.77  \n",
       "4        31.38  "
      ]
     },
     "execution_count": 12,
     "metadata": {},
     "output_type": "execute_result"
    }
   ],
   "source": [
    "df['total_sales'] = df['na_sales'] + df['eu_sales'] + df['jp_sales'] + df['other_sales']\n",
    "df.head()"
   ]
  },
  {
   "cell_type": "markdown",
   "metadata": {},
   "source": [
    "### Analyze the data\n",
    "\n",
    "<b>How many games were released in different years? Is the data for every period significant?"
   ]
  },
  {
   "cell_type": "code",
   "execution_count": 20,
   "metadata": {},
   "outputs": [
    {
     "data": {
      "application/vnd.plotly.v1+json": {
       "config": {
        "plotlyServerURL": "https://plot.ly"
       },
       "data": [
        {
         "alignmentgroup": "True",
         "hovertemplate": "Year Released=%{x}<br>Number of Games=%{y}<extra></extra>",
         "legendgroup": "",
         "marker": {
          "color": "#636efa",
          "pattern": {
           "shape": ""
          }
         },
         "name": "",
         "offsetgroup": "",
         "orientation": "v",
         "showlegend": false,
         "textposition": "auto",
         "type": "bar",
         "x": [
          1980,
          1981,
          1982,
          1983,
          1984,
          1985,
          1986,
          1987,
          1988,
          1989,
          1990,
          1991,
          1992,
          1993,
          1994,
          1995,
          1996,
          1997,
          1998,
          1999,
          2000,
          2001,
          2002,
          2003,
          2004,
          2005,
          2006,
          2007,
          2008,
          2009,
          2010,
          2011,
          2012,
          2013,
          2014,
          2015,
          2016
         ],
         "xaxis": "x",
         "y": [
          9,
          46,
          36,
          17,
          14,
          14,
          21,
          16,
          15,
          17,
          16,
          41,
          43,
          60,
          121,
          219,
          263,
          289,
          379,
          338,
          350,
          482,
          829,
          775,
          762,
          939,
          1006,
          1197,
          1427,
          1426,
          1255,
          1136,
          653,
          544,
          581,
          606,
          502
         ],
         "yaxis": "y"
        }
       ],
       "layout": {
        "barmode": "relative",
        "legend": {
         "tracegroupgap": 0
        },
        "template": {
         "data": {
          "bar": [
           {
            "error_x": {
             "color": "#2a3f5f"
            },
            "error_y": {
             "color": "#2a3f5f"
            },
            "marker": {
             "line": {
              "color": "#E5ECF6",
              "width": 0.5
             },
             "pattern": {
              "fillmode": "overlay",
              "size": 10,
              "solidity": 0.2
             }
            },
            "type": "bar"
           }
          ],
          "barpolar": [
           {
            "marker": {
             "line": {
              "color": "#E5ECF6",
              "width": 0.5
             },
             "pattern": {
              "fillmode": "overlay",
              "size": 10,
              "solidity": 0.2
             }
            },
            "type": "barpolar"
           }
          ],
          "carpet": [
           {
            "aaxis": {
             "endlinecolor": "#2a3f5f",
             "gridcolor": "white",
             "linecolor": "white",
             "minorgridcolor": "white",
             "startlinecolor": "#2a3f5f"
            },
            "baxis": {
             "endlinecolor": "#2a3f5f",
             "gridcolor": "white",
             "linecolor": "white",
             "minorgridcolor": "white",
             "startlinecolor": "#2a3f5f"
            },
            "type": "carpet"
           }
          ],
          "choropleth": [
           {
            "colorbar": {
             "outlinewidth": 0,
             "ticks": ""
            },
            "type": "choropleth"
           }
          ],
          "contour": [
           {
            "colorbar": {
             "outlinewidth": 0,
             "ticks": ""
            },
            "colorscale": [
             [
              0,
              "#0d0887"
             ],
             [
              0.1111111111111111,
              "#46039f"
             ],
             [
              0.2222222222222222,
              "#7201a8"
             ],
             [
              0.3333333333333333,
              "#9c179e"
             ],
             [
              0.4444444444444444,
              "#bd3786"
             ],
             [
              0.5555555555555556,
              "#d8576b"
             ],
             [
              0.6666666666666666,
              "#ed7953"
             ],
             [
              0.7777777777777778,
              "#fb9f3a"
             ],
             [
              0.8888888888888888,
              "#fdca26"
             ],
             [
              1,
              "#f0f921"
             ]
            ],
            "type": "contour"
           }
          ],
          "contourcarpet": [
           {
            "colorbar": {
             "outlinewidth": 0,
             "ticks": ""
            },
            "type": "contourcarpet"
           }
          ],
          "heatmap": [
           {
            "colorbar": {
             "outlinewidth": 0,
             "ticks": ""
            },
            "colorscale": [
             [
              0,
              "#0d0887"
             ],
             [
              0.1111111111111111,
              "#46039f"
             ],
             [
              0.2222222222222222,
              "#7201a8"
             ],
             [
              0.3333333333333333,
              "#9c179e"
             ],
             [
              0.4444444444444444,
              "#bd3786"
             ],
             [
              0.5555555555555556,
              "#d8576b"
             ],
             [
              0.6666666666666666,
              "#ed7953"
             ],
             [
              0.7777777777777778,
              "#fb9f3a"
             ],
             [
              0.8888888888888888,
              "#fdca26"
             ],
             [
              1,
              "#f0f921"
             ]
            ],
            "type": "heatmap"
           }
          ],
          "heatmapgl": [
           {
            "colorbar": {
             "outlinewidth": 0,
             "ticks": ""
            },
            "colorscale": [
             [
              0,
              "#0d0887"
             ],
             [
              0.1111111111111111,
              "#46039f"
             ],
             [
              0.2222222222222222,
              "#7201a8"
             ],
             [
              0.3333333333333333,
              "#9c179e"
             ],
             [
              0.4444444444444444,
              "#bd3786"
             ],
             [
              0.5555555555555556,
              "#d8576b"
             ],
             [
              0.6666666666666666,
              "#ed7953"
             ],
             [
              0.7777777777777778,
              "#fb9f3a"
             ],
             [
              0.8888888888888888,
              "#fdca26"
             ],
             [
              1,
              "#f0f921"
             ]
            ],
            "type": "heatmapgl"
           }
          ],
          "histogram": [
           {
            "marker": {
             "pattern": {
              "fillmode": "overlay",
              "size": 10,
              "solidity": 0.2
             }
            },
            "type": "histogram"
           }
          ],
          "histogram2d": [
           {
            "colorbar": {
             "outlinewidth": 0,
             "ticks": ""
            },
            "colorscale": [
             [
              0,
              "#0d0887"
             ],
             [
              0.1111111111111111,
              "#46039f"
             ],
             [
              0.2222222222222222,
              "#7201a8"
             ],
             [
              0.3333333333333333,
              "#9c179e"
             ],
             [
              0.4444444444444444,
              "#bd3786"
             ],
             [
              0.5555555555555556,
              "#d8576b"
             ],
             [
              0.6666666666666666,
              "#ed7953"
             ],
             [
              0.7777777777777778,
              "#fb9f3a"
             ],
             [
              0.8888888888888888,
              "#fdca26"
             ],
             [
              1,
              "#f0f921"
             ]
            ],
            "type": "histogram2d"
           }
          ],
          "histogram2dcontour": [
           {
            "colorbar": {
             "outlinewidth": 0,
             "ticks": ""
            },
            "colorscale": [
             [
              0,
              "#0d0887"
             ],
             [
              0.1111111111111111,
              "#46039f"
             ],
             [
              0.2222222222222222,
              "#7201a8"
             ],
             [
              0.3333333333333333,
              "#9c179e"
             ],
             [
              0.4444444444444444,
              "#bd3786"
             ],
             [
              0.5555555555555556,
              "#d8576b"
             ],
             [
              0.6666666666666666,
              "#ed7953"
             ],
             [
              0.7777777777777778,
              "#fb9f3a"
             ],
             [
              0.8888888888888888,
              "#fdca26"
             ],
             [
              1,
              "#f0f921"
             ]
            ],
            "type": "histogram2dcontour"
           }
          ],
          "mesh3d": [
           {
            "colorbar": {
             "outlinewidth": 0,
             "ticks": ""
            },
            "type": "mesh3d"
           }
          ],
          "parcoords": [
           {
            "line": {
             "colorbar": {
              "outlinewidth": 0,
              "ticks": ""
             }
            },
            "type": "parcoords"
           }
          ],
          "pie": [
           {
            "automargin": true,
            "type": "pie"
           }
          ],
          "scatter": [
           {
            "fillpattern": {
             "fillmode": "overlay",
             "size": 10,
             "solidity": 0.2
            },
            "type": "scatter"
           }
          ],
          "scatter3d": [
           {
            "line": {
             "colorbar": {
              "outlinewidth": 0,
              "ticks": ""
             }
            },
            "marker": {
             "colorbar": {
              "outlinewidth": 0,
              "ticks": ""
             }
            },
            "type": "scatter3d"
           }
          ],
          "scattercarpet": [
           {
            "marker": {
             "colorbar": {
              "outlinewidth": 0,
              "ticks": ""
             }
            },
            "type": "scattercarpet"
           }
          ],
          "scattergeo": [
           {
            "marker": {
             "colorbar": {
              "outlinewidth": 0,
              "ticks": ""
             }
            },
            "type": "scattergeo"
           }
          ],
          "scattergl": [
           {
            "marker": {
             "colorbar": {
              "outlinewidth": 0,
              "ticks": ""
             }
            },
            "type": "scattergl"
           }
          ],
          "scattermapbox": [
           {
            "marker": {
             "colorbar": {
              "outlinewidth": 0,
              "ticks": ""
             }
            },
            "type": "scattermapbox"
           }
          ],
          "scatterpolar": [
           {
            "marker": {
             "colorbar": {
              "outlinewidth": 0,
              "ticks": ""
             }
            },
            "type": "scatterpolar"
           }
          ],
          "scatterpolargl": [
           {
            "marker": {
             "colorbar": {
              "outlinewidth": 0,
              "ticks": ""
             }
            },
            "type": "scatterpolargl"
           }
          ],
          "scatterternary": [
           {
            "marker": {
             "colorbar": {
              "outlinewidth": 0,
              "ticks": ""
             }
            },
            "type": "scatterternary"
           }
          ],
          "surface": [
           {
            "colorbar": {
             "outlinewidth": 0,
             "ticks": ""
            },
            "colorscale": [
             [
              0,
              "#0d0887"
             ],
             [
              0.1111111111111111,
              "#46039f"
             ],
             [
              0.2222222222222222,
              "#7201a8"
             ],
             [
              0.3333333333333333,
              "#9c179e"
             ],
             [
              0.4444444444444444,
              "#bd3786"
             ],
             [
              0.5555555555555556,
              "#d8576b"
             ],
             [
              0.6666666666666666,
              "#ed7953"
             ],
             [
              0.7777777777777778,
              "#fb9f3a"
             ],
             [
              0.8888888888888888,
              "#fdca26"
             ],
             [
              1,
              "#f0f921"
             ]
            ],
            "type": "surface"
           }
          ],
          "table": [
           {
            "cells": {
             "fill": {
              "color": "#EBF0F8"
             },
             "line": {
              "color": "white"
             }
            },
            "header": {
             "fill": {
              "color": "#C8D4E3"
             },
             "line": {
              "color": "white"
             }
            },
            "type": "table"
           }
          ]
         },
         "layout": {
          "annotationdefaults": {
           "arrowcolor": "#2a3f5f",
           "arrowhead": 0,
           "arrowwidth": 1
          },
          "autotypenumbers": "strict",
          "coloraxis": {
           "colorbar": {
            "outlinewidth": 0,
            "ticks": ""
           }
          },
          "colorscale": {
           "diverging": [
            [
             0,
             "#8e0152"
            ],
            [
             0.1,
             "#c51b7d"
            ],
            [
             0.2,
             "#de77ae"
            ],
            [
             0.3,
             "#f1b6da"
            ],
            [
             0.4,
             "#fde0ef"
            ],
            [
             0.5,
             "#f7f7f7"
            ],
            [
             0.6,
             "#e6f5d0"
            ],
            [
             0.7,
             "#b8e186"
            ],
            [
             0.8,
             "#7fbc41"
            ],
            [
             0.9,
             "#4d9221"
            ],
            [
             1,
             "#276419"
            ]
           ],
           "sequential": [
            [
             0,
             "#0d0887"
            ],
            [
             0.1111111111111111,
             "#46039f"
            ],
            [
             0.2222222222222222,
             "#7201a8"
            ],
            [
             0.3333333333333333,
             "#9c179e"
            ],
            [
             0.4444444444444444,
             "#bd3786"
            ],
            [
             0.5555555555555556,
             "#d8576b"
            ],
            [
             0.6666666666666666,
             "#ed7953"
            ],
            [
             0.7777777777777778,
             "#fb9f3a"
            ],
            [
             0.8888888888888888,
             "#fdca26"
            ],
            [
             1,
             "#f0f921"
            ]
           ],
           "sequentialminus": [
            [
             0,
             "#0d0887"
            ],
            [
             0.1111111111111111,
             "#46039f"
            ],
            [
             0.2222222222222222,
             "#7201a8"
            ],
            [
             0.3333333333333333,
             "#9c179e"
            ],
            [
             0.4444444444444444,
             "#bd3786"
            ],
            [
             0.5555555555555556,
             "#d8576b"
            ],
            [
             0.6666666666666666,
             "#ed7953"
            ],
            [
             0.7777777777777778,
             "#fb9f3a"
            ],
            [
             0.8888888888888888,
             "#fdca26"
            ],
            [
             1,
             "#f0f921"
            ]
           ]
          },
          "colorway": [
           "#636efa",
           "#EF553B",
           "#00cc96",
           "#ab63fa",
           "#FFA15A",
           "#19d3f3",
           "#FF6692",
           "#B6E880",
           "#FF97FF",
           "#FECB52"
          ],
          "font": {
           "color": "#2a3f5f"
          },
          "geo": {
           "bgcolor": "white",
           "lakecolor": "white",
           "landcolor": "#E5ECF6",
           "showlakes": true,
           "showland": true,
           "subunitcolor": "white"
          },
          "hoverlabel": {
           "align": "left"
          },
          "hovermode": "closest",
          "mapbox": {
           "style": "light"
          },
          "paper_bgcolor": "white",
          "plot_bgcolor": "#E5ECF6",
          "polar": {
           "angularaxis": {
            "gridcolor": "white",
            "linecolor": "white",
            "ticks": ""
           },
           "bgcolor": "#E5ECF6",
           "radialaxis": {
            "gridcolor": "white",
            "linecolor": "white",
            "ticks": ""
           }
          },
          "scene": {
           "xaxis": {
            "backgroundcolor": "#E5ECF6",
            "gridcolor": "white",
            "gridwidth": 2,
            "linecolor": "white",
            "showbackground": true,
            "ticks": "",
            "zerolinecolor": "white"
           },
           "yaxis": {
            "backgroundcolor": "#E5ECF6",
            "gridcolor": "white",
            "gridwidth": 2,
            "linecolor": "white",
            "showbackground": true,
            "ticks": "",
            "zerolinecolor": "white"
           },
           "zaxis": {
            "backgroundcolor": "#E5ECF6",
            "gridcolor": "white",
            "gridwidth": 2,
            "linecolor": "white",
            "showbackground": true,
            "ticks": "",
            "zerolinecolor": "white"
           }
          },
          "shapedefaults": {
           "line": {
            "color": "#2a3f5f"
           }
          },
          "ternary": {
           "aaxis": {
            "gridcolor": "white",
            "linecolor": "white",
            "ticks": ""
           },
           "baxis": {
            "gridcolor": "white",
            "linecolor": "white",
            "ticks": ""
           },
           "bgcolor": "#E5ECF6",
           "caxis": {
            "gridcolor": "white",
            "linecolor": "white",
            "ticks": ""
           }
          },
          "title": {
           "x": 0.05
          },
          "xaxis": {
           "automargin": true,
           "gridcolor": "white",
           "linecolor": "white",
           "ticks": "",
           "title": {
            "standoff": 15
           },
           "zerolinecolor": "white",
           "zerolinewidth": 2
          },
          "yaxis": {
           "automargin": true,
           "gridcolor": "white",
           "linecolor": "white",
           "ticks": "",
           "title": {
            "standoff": 15
           },
           "zerolinecolor": "white",
           "zerolinewidth": 2
          }
         }
        },
        "title": {
         "text": "Number of Games Released by Year"
        },
        "xaxis": {
         "anchor": "y",
         "domain": [
          0,
          1
         ],
         "title": {
          "text": "Year Released"
         }
        },
        "yaxis": {
         "anchor": "x",
         "domain": [
          0,
          1
         ],
         "title": {
          "text": "Number of Games"
         }
        }
       }
      }
     },
     "metadata": {},
     "output_type": "display_data"
    }
   ],
   "source": [
    "games_released = df['year_of_release'].value_counts().sort_index().reset_index()\n",
    "games_fig = px.bar(games_released, x='year_of_release', y='count', title='Number of Games Released by Year', labels={'year_of_release': 'Year Released', 'count': 'Number of Games'})\n",
    "games_fig.show()"
   ]
  },
  {
   "cell_type": "markdown",
   "metadata": {},
   "source": [
    "Game sales appear to have peaked in 2008-2009. It also appears that the number of games released before 1995 is not significant, so we will filter out the data from before that time.\n",
    "\n"
   ]
  },
  {
   "cell_type": "code",
   "execution_count": 21,
   "metadata": {},
   "outputs": [
    {
     "name": "stdout",
     "output_type": "stream",
     "text": [
      "<class 'pandas.core.frame.DataFrame'>\n",
      "Index: 15958 entries, 0 to 16714\n",
      "Data columns (total 12 columns):\n",
      " #   Column           Non-Null Count  Dtype  \n",
      "---  ------           --------------  -----  \n",
      " 0   name             15958 non-null  object \n",
      " 1   platform         15958 non-null  object \n",
      " 2   year_of_release  15958 non-null  int32  \n",
      " 3   genre            15958 non-null  object \n",
      " 4   na_sales         15958 non-null  float64\n",
      " 5   eu_sales         15958 non-null  float64\n",
      " 6   jp_sales         15958 non-null  float64\n",
      " 7   other_sales      15958 non-null  float64\n",
      " 8   critic_score     7979 non-null   float64\n",
      " 9   user_score       7459 non-null   float64\n",
      " 10  rating           15958 non-null  object \n",
      " 11  total_sales      15958 non-null  float64\n",
      "dtypes: float64(7), int32(1), object(4)\n",
      "memory usage: 1.5+ MB\n"
     ]
    }
   ],
   "source": [
    "df = df.loc[df['year_of_release'] >= 1995, :]\n",
    "df.info()"
   ]
  },
  {
   "cell_type": "markdown",
   "metadata": {},
   "source": [
    "<b>How do sales vary between platforms?"
   ]
  },
  {
   "cell_type": "code",
   "execution_count": 22,
   "metadata": {},
   "outputs": [
    {
     "data": {
      "image/png": "[encoded data removed]",
      "text/plain": [
       "<Figure size 640x480 with 1 Axes>"
      ]
     },
     "metadata": {},
     "output_type": "display_data"
    }
   ],
   "source": [
    "platform_sales = df.groupby('platform')['total_sales'].sum().sort_values(ascending=False).reset_index()\n",
    "platform_sales.plot(kind='bar', x='platform', y='total_sales', title='Total Sales By Platform', ylabel='total sales')\n",
    "plt.show()"
   ]
  },
  {
   "cell_type": "markdown",
   "metadata": {},
   "source": [
    "We can see from the plot that the PS2, X360, PS3, Wii, DS, and PS have a significantly higher number of sales than all other platforms. However, we can calcuate which of these are in the top 25% of platforms for more accuracy. Then, we can look at the total sales of these top platforms over time."
   ]
  },
  {
   "cell_type": "code",
   "execution_count": 23,
   "metadata": {},
   "outputs": [
    {
     "data": {
      "text/plain": [
       "Index(['PS2', 'X360', 'PS3', 'Wii', 'DS', 'PS'], dtype='object', name='platform')"
      ]
     },
     "execution_count": 23,
     "metadata": {},
     "output_type": "execute_result"
    }
   ],
   "source": [
    "top_percentage = 0.25\n",
    "platform_sales = df.groupby('platform')['total_sales'].sum().sort_values(ascending=False)\n",
    "num_top_platforms = int(len(platform_sales) * top_percentage)\n",
    "top_platforms = platform_sales.head(num_top_platforms).index\n",
    "top_platforms"
   ]
  },
  {
   "cell_type": "code",
   "execution_count": 24,
   "metadata": {
    "scrolled": true
   },
   "outputs": [
    {
     "data": {
      "image/png": "[encoded data removed]",
      "text/plain": [
       "<Figure size 1000x600 with 1 Axes>"
      ]
     },
     "metadata": {},
     "output_type": "display_data"
    }
   ],
   "source": [
    "platform_data = df[df['platform'].isin(top_platforms)]\n",
    "\n",
    "platform_data_yearly = platform_data.groupby(['year_of_release', 'platform'])['total_sales'].sum().unstack()\n",
    "\n",
    "platform_data_yearly.plot(kind='bar', stacked=True, figsize=(10, 6))\n",
    "plt.xlabel('Year of Release')\n",
    "plt.ylabel('Total Sales (in million USD)')\n",
    "plt.title('Yearly Distribution of Total Sales for Top Platforms')\n",
    "plt.legend(title='Platform')\n",
    "plt.show()\n"
   ]
  },
  {
   "cell_type": "markdown",
   "metadata": {},
   "source": [
    "We can see that after the PS2 was introduced in 2000, sales for the PS declined. This also happened to the PS2 when the DS was introduced. Sales for different platforms tend to last around 10 years, which sugggests that the gaming industry shifts rather quickly as new games are introduced."
   ]
  },
  {
   "cell_type": "markdown",
   "metadata": {},
   "source": [
    "<b>Find platforms that used to be popular but now have zero sales. "
   ]
  },
  {
   "cell_type": "code",
   "execution_count": 25,
   "metadata": {},
   "outputs": [
    {
     "name": "stdout",
     "output_type": "stream",
     "text": [
      "Popular platforms with zero sales now: ['PS2']\n"
     ]
    }
   ],
   "source": [
    "#identify popular platforms, those that have over 10 in total sales\n",
    "popular_sales_threshold = 10\n",
    "pop_platforms = df[df['total_sales'] > popular_sales_threshold]['platform'].unique()\n",
    "\n",
    "#define most recent years\n",
    "recent_years = [2011, 2012, 2013, 2014, 2015, 2016]\n",
    "#filter data to only include recent years\n",
    "recent_data = df[df['year_of_release'].isin(recent_years)]\n",
    "#group and sum total sales\n",
    "recent_sales = recent_data.groupby('platform')['total_sales'].sum()\n",
    "#find platforms with zero sales in recent years\n",
    "zero_sales = recent_sales[recent_sales < 1].index\n",
    "#find popular platforms with zero sales now\n",
    "popular_zero_sales = [platform for platform in pop_platforms if platform in zero_sales]\n",
    "\n",
    "print(\"Popular platforms with zero sales now:\", popular_zero_sales)"
   ]
  },
  {
   "cell_type": "code",
   "execution_count": 26,
   "metadata": {},
   "outputs": [],
   "source": [
    "modern_platforms = df.loc[df['year_of_release'] >= 2011, :]"
   ]
  },
  {
   "cell_type": "code",
   "execution_count": 27,
   "metadata": {},
   "outputs": [
    {
     "data": {
      "image/png": "[encoded data removed]",
      "text/plain": [
       "<Figure size 1400x800 with 1 Axes>"
      ]
     },
     "metadata": {},
     "output_type": "display_data"
    }
   ],
   "source": [
    "plt.figure(figsize=(14,8))\n",
    "sns.lineplot(data=modern_platforms, x='year_of_release', y='total_sales', hue='platform')\n",
    "plt.xlabel('Year of Release')\n",
    "plt.ylabel('Total Sales (in million USD)')\n",
    "plt.title('Platform Total Sales From 2011-2016')\n",
    "plt.legend()\n",
    "plt.show()\n"
   ]
  },
  {
   "cell_type": "markdown",
   "metadata": {},
   "source": [
    "It appears that most gaming platforms have declined in sales since 2014, although 3DS appears to have made an increase in sales from 2015 to 2016. I also wonder how many games have been released in the last few years. If the market has been saturated with lots of new games, perhaps that would be one reason for none of the platforms having a strong sales trend."
   ]
  },
  {
   "cell_type": "code",
   "execution_count": 28,
   "metadata": {},
   "outputs": [
    {
     "data": {
      "text/plain": [
       "year_of_release\n",
       "2011    116\n",
       "2012     93\n",
       "2013     91\n",
       "2014     80\n",
       "2015     86\n",
       "2016     46\n",
       "Name: count, dtype: int64"
      ]
     },
     "execution_count": 28,
     "metadata": {},
     "output_type": "execute_result"
    }
   ],
   "source": [
    "game_3ds = modern_platforms[modern_platforms['platform'] == '3DS']\n",
    "game_3ds = game_3ds['year_of_release'].value_counts().sort_index()\n",
    "game_3ds"
   ]
  },
  {
   "cell_type": "code",
   "execution_count": 29,
   "metadata": {},
   "outputs": [
    {
     "data": {
      "text/plain": [
       "Text(0.5, 1.0, 'Number of 3DS Games Released by Year')"
      ]
     },
     "execution_count": 29,
     "metadata": {},
     "output_type": "execute_result"
    },
    {
     "data": {
      "image/png": "[encoded data removed]",
      "text/plain": [
       "<Figure size 640x480 with 1 Axes>"
      ]
     },
     "metadata": {},
     "output_type": "display_data"
    }
   ],
   "source": [
    "game_3ds.plot(kind='bar')\n",
    "plt.xlabel('Year')\n",
    "plt.ylabel('Number of Games Released')\n",
    "plt.title('Number of 3DS Games Released by Year')"
   ]
  },
  {
   "cell_type": "code",
   "execution_count": 30,
   "metadata": {},
   "outputs": [
    {
     "data": {
      "text/html": [
       "<div>\n",
       "<style scoped>\n",
       "    .dataframe tbody tr th:only-of-type {\n",
       "        vertical-align: middle;\n",
       "    }\n",
       "\n",
       "    .dataframe tbody tr th {\n",
       "        vertical-align: top;\n",
       "    }\n",
       "\n",
       "    .dataframe thead th {\n",
       "        text-align: right;\n",
       "    }\n",
       "</style>\n",
       "<table border=\"1\" class=\"dataframe\">\n",
       "  <thead>\n",
       "    <tr style=\"text-align: right;\">\n",
       "      <th></th>\n",
       "      <th>name</th>\n",
       "      <th>platform</th>\n",
       "      <th>year_of_release</th>\n",
       "      <th>genre</th>\n",
       "      <th>na_sales</th>\n",
       "      <th>eu_sales</th>\n",
       "      <th>jp_sales</th>\n",
       "      <th>other_sales</th>\n",
       "      <th>critic_score</th>\n",
       "      <th>user_score</th>\n",
       "      <th>rating</th>\n",
       "      <th>total_sales</th>\n",
       "    </tr>\n",
       "  </thead>\n",
       "  <tbody>\n",
       "    <tr>\n",
       "      <th>31</th>\n",
       "      <td>Call of Duty: Black Ops 3</td>\n",
       "      <td>PS4</td>\n",
       "      <td>2015</td>\n",
       "      <td>Shooter</td>\n",
       "      <td>6.03</td>\n",
       "      <td>5.86</td>\n",
       "      <td>0.36</td>\n",
       "      <td>2.38</td>\n",
       "      <td>NaN</td>\n",
       "      <td>NaN</td>\n",
       "      <td>undefined</td>\n",
       "      <td>14.63</td>\n",
       "    </tr>\n",
       "    <tr>\n",
       "      <th>42</th>\n",
       "      <td>Grand Theft Auto V</td>\n",
       "      <td>PS4</td>\n",
       "      <td>2014</td>\n",
       "      <td>Action</td>\n",
       "      <td>3.96</td>\n",
       "      <td>6.31</td>\n",
       "      <td>0.38</td>\n",
       "      <td>1.97</td>\n",
       "      <td>97.0</td>\n",
       "      <td>8.3</td>\n",
       "      <td>M</td>\n",
       "      <td>12.62</td>\n",
       "    </tr>\n",
       "    <tr>\n",
       "      <th>47</th>\n",
       "      <td>Pokemon Omega Ruby/Pokemon Alpha Sapphire</td>\n",
       "      <td>3DS</td>\n",
       "      <td>2014</td>\n",
       "      <td>Role-Playing</td>\n",
       "      <td>4.35</td>\n",
       "      <td>3.49</td>\n",
       "      <td>3.10</td>\n",
       "      <td>0.74</td>\n",
       "      <td>NaN</td>\n",
       "      <td>NaN</td>\n",
       "      <td>undefined</td>\n",
       "      <td>11.68</td>\n",
       "    </tr>\n",
       "    <tr>\n",
       "      <th>77</th>\n",
       "      <td>FIFA 16</td>\n",
       "      <td>PS4</td>\n",
       "      <td>2015</td>\n",
       "      <td>Sports</td>\n",
       "      <td>1.12</td>\n",
       "      <td>6.12</td>\n",
       "      <td>0.06</td>\n",
       "      <td>1.28</td>\n",
       "      <td>82.0</td>\n",
       "      <td>4.3</td>\n",
       "      <td>E</td>\n",
       "      <td>8.58</td>\n",
       "    </tr>\n",
       "    <tr>\n",
       "      <th>87</th>\n",
       "      <td>Star Wars Battlefront (2015)</td>\n",
       "      <td>PS4</td>\n",
       "      <td>2015</td>\n",
       "      <td>Shooter</td>\n",
       "      <td>2.99</td>\n",
       "      <td>3.49</td>\n",
       "      <td>0.22</td>\n",
       "      <td>1.28</td>\n",
       "      <td>NaN</td>\n",
       "      <td>NaN</td>\n",
       "      <td>undefined</td>\n",
       "      <td>7.98</td>\n",
       "    </tr>\n",
       "  </tbody>\n",
       "</table>\n",
       "</div>"
      ],
      "text/plain": [
       "                                         name platform  year_of_release  \\\n",
       "31                  Call of Duty: Black Ops 3      PS4             2015   \n",
       "42                         Grand Theft Auto V      PS4             2014   \n",
       "47  Pokemon Omega Ruby/Pokemon Alpha Sapphire      3DS             2014   \n",
       "77                                    FIFA 16      PS4             2015   \n",
       "87               Star Wars Battlefront (2015)      PS4             2015   \n",
       "\n",
       "           genre  na_sales  eu_sales  jp_sales  other_sales  critic_score  \\\n",
       "31       Shooter      6.03      5.86      0.36         2.38           NaN   \n",
       "42        Action      3.96      6.31      0.38         1.97          97.0   \n",
       "47  Role-Playing      4.35      3.49      3.10         0.74           NaN   \n",
       "77        Sports      1.12      6.12      0.06         1.28          82.0   \n",
       "87       Shooter      2.99      3.49      0.22         1.28           NaN   \n",
       "\n",
       "    user_score     rating  total_sales  \n",
       "31         NaN  undefined        14.63  \n",
       "42         8.3          M        12.62  \n",
       "47         NaN  undefined        11.68  \n",
       "77         4.3          E         8.58  \n",
       "87         NaN  undefined         7.98  "
      ]
     },
     "execution_count": 30,
     "metadata": {},
     "output_type": "execute_result"
    }
   ],
   "source": [
    "#Filter the data to include years 2014 and later\n",
    "latest_years = df.loc[df['year_of_release'] >= 2014, :]\n",
    "latest_years.head()\n"
   ]
  },
  {
   "cell_type": "code",
   "execution_count": 31,
   "metadata": {},
   "outputs": [
    {
     "data": {
      "image/png": "[encoded data removed]",
      "text/plain": [
       "<Figure size 1200x600 with 1 Axes>"
      ]
     },
     "metadata": {},
     "output_type": "display_data"
    }
   ],
   "source": [
    "#Create list of platforms\n",
    "plat_names = latest_years['platform'].unique()\n",
    "#aggregate sales by year\n",
    "aggregated_data = latest_years.groupby(['year_of_release', 'platform'])['total_sales'].sum().reset_index()\n",
    "#Create a plot\n",
    "plt.figure(figsize=(12,6))\n",
    "#Loop through each platform and plot its data\n",
    "for platform in plat_names:\n",
    "    platform_fig_data = aggregated_data[aggregated_data['platform'] == platform]\n",
    "    plt.plot(platform_fig_data['year_of_release'], platform_fig_data['total_sales'], label=platform)\n",
    "    \n",
    "plt.title('Sales for Platforms in 2014-2016')\n",
    "plt.xlabel('Year')\n",
    "plt.ylabel('Total Sales')\n",
    "plt.legend(title='Platform')\n",
    "plt.show()"
   ]
  },
  {
   "cell_type": "markdown",
   "metadata": {},
   "source": [
    "No new games appear in the 2015 data that did not appear with sales in 2014. PS4, XOne, and 3DS hold the top number of sales for the latest two years."
   ]
  },
  {
   "cell_type": "markdown",
   "metadata": {},
   "source": [
    "<b>Build a box plot for the global sales of all games, broken down by platform. Are the differences in sales significant? What about average sales on various platforms?"
   ]
  },
  {
   "cell_type": "code",
   "execution_count": 32,
   "metadata": {},
   "outputs": [
    {
     "data": {
      "image/png": "[encoded data removed]",
      "text/plain": [
       "<Figure size 1200x600 with 2 Axes>"
      ]
     },
     "metadata": {},
     "output_type": "display_data"
    }
   ],
   "source": [
    "game_sales = df.groupby(['platform', 'year_of_release'])['total_sales'].agg(['sum', 'mean']).reset_index()\n",
    "game_sales.columns = ['platform', 'year', 'yearly_sales', 'yearly_avg_sales']\n",
    "\n",
    "sns.set_style('whitegrid')\n",
    "fig, (ax1, ax2) = plt.subplots(1, 2, figsize=(12, 6))\n",
    "\n",
    "sns.boxplot(data=game_sales, x='platform', y='yearly_sales', ax=ax1)\n",
    "sns.boxplot(data=game_sales, x='platform', y='yearly_avg_sales', ax=ax2)\n",
    "\n",
    "fig.suptitle('Yearly Game Global Sales (million USD) per Platform', fontsize=15, fontweight='bold')\n",
    "\n",
    "ax1.set_title('Total Global Sales', fontsize=13, fontweight='bold')\n",
    "ax1.set_xlabel('Platform', fontsize=11, fontweight='bold')\n",
    "ax1.set_ylabel('Sales (million USD)', fontsize=11, fontweight='bold')\n",
    "plt.setp(ax1.get_xticklabels(), rotation=90)\n",
    "\n",
    "ax2.set_title('Average Global Sales', fontsize=13, fontweight='bold')\n",
    "ax2.set_xlabel('Platform', fontsize=11, fontweight='bold')\n",
    "ax2.set_ylabel('Sales (million USD)', fontsize=11, fontweight='bold')\n",
    "plt.setp(ax2.get_xticklabels(), rotation=90)\n",
    "\n",
    "plt.tight_layout()\n",
    "plt.show()"
   ]
  },
  {
   "cell_type": "markdown",
   "metadata": {},
   "source": [
    "There is a significant difference in sales between platforms. The top 6 performing platforms all have a median of close to 100 million in sales. When looking at the averages sales data, GB and PS4 stand out the most as having the highest average sales."
   ]
  },
  {
   "cell_type": "markdown",
   "metadata": {},
   "source": [
    "<b>Take a look at how user and professional reviews affect sales for one popular platform (you choose). Build a scatter plot and calculate the correlation between reviews and sales. Draw conclusions."
   ]
  },
  {
   "cell_type": "code",
   "execution_count": 33,
   "metadata": {},
   "outputs": [
    {
     "data": {
      "text/plain": [
       "Text(0.5, 1.0, 'Relationship Between Professional Reviews and Total Sales of PS4')"
      ]
     },
     "execution_count": 33,
     "metadata": {},
     "output_type": "execute_result"
    },
    {
     "data": {
      "image/png": "[encoded data removed]",
      "text/plain": [
       "<Figure size 640x480 with 1 Axes>"
      ]
     },
     "metadata": {},
     "output_type": "display_data"
    }
   ],
   "source": [
    "#Filter the data to inlcude only the PS4 platform\n",
    "df_ps4 = latest_years[latest_years['platform'] == 'PS4']\n",
    "#Filter out the rows with no critic or user score given\n",
    "df_ps4 = latest_years.dropna()\n",
    "\n",
    "#Create a scatterplot for critic score vs sales\n",
    "plt.scatter(x=df_ps4['critic_score'], y=df_ps4['total_sales'])\n",
    "plt.ylabel('Total Sales (in millions USD)')\n",
    "plt.xlabel('Critic Score')\n",
    "plt.title('Relationship Between Professional Reviews and Total Sales of PS4')\n"
   ]
  },
  {
   "cell_type": "code",
   "execution_count": 34,
   "metadata": {},
   "outputs": [
    {
     "data": {
      "text/plain": [
       "Text(0.5, 1.0, 'Relationship Between User Reviews and Total Sales of PS4')"
      ]
     },
     "execution_count": 34,
     "metadata": {},
     "output_type": "execute_result"
    },
    {
     "data": {
      "image/png": "[encoded data removed]",
      "text/plain": [
       "<Figure size 640x480 with 1 Axes>"
      ]
     },
     "metadata": {},
     "output_type": "display_data"
    }
   ],
   "source": [
    "#Create a scatterplot for user score vs sales\n",
    "plt.scatter(x=df_ps4['user_score'], y=df_ps4['total_sales'])\n",
    "plt.ylabel('Total Sales (in millions USD)')\n",
    "plt.xlabel('User Score')\n",
    "plt.title('Relationship Between User Reviews and Total Sales of PS4')"
   ]
  },
  {
   "cell_type": "code",
   "execution_count": 35,
   "metadata": {},
   "outputs": [
    {
     "name": "stdout",
     "output_type": "stream",
     "text": [
      "Correlation between Critic Score and Total Sales for the PS4: 0.3253626120075885\n",
      "Correlation between User Score and Total Sales for the PS4: 0.005202258360087506\n"
     ]
    }
   ],
   "source": [
    "#Calculate the correlation between critic_score and total_sales of the X360\n",
    "corr_critic_ps4 = df_ps4['critic_score'].corr(df_ps4['total_sales'])\n",
    "corr_user_ps4 = df_ps4['user_score'].corr(df_ps4['total_sales'])\n",
    "print(f\"Correlation between Critic Score and Total Sales for the PS4: {corr_critic_ps4}\")\n",
    "print(f\"Correlation between User Score and Total Sales for the PS4: {corr_user_ps4}\")"
   ]
  },
  {
   "cell_type": "markdown",
   "metadata": {},
   "source": [
    "So we can see a slightly positive correlation between professional reviews and game sales. While it is not a large relationship, it is reasonable to suggest that the higher the reviews given the greater impact there will be on sales. User reviews do not seem to have a significant correlation with total sales."
   ]
  },
  {
   "cell_type": "markdown",
   "metadata": {},
   "source": [
    "<b>Compare the sales of the same games on other platforms."
   ]
  },
  {
   "cell_type": "code",
   "execution_count": 37,
   "metadata": {},
   "outputs": [
    {
     "data": {
      "text/html": [
       "<div>\n",
       "<style scoped>\n",
       "    .dataframe tbody tr th:only-of-type {\n",
       "        vertical-align: middle;\n",
       "    }\n",
       "\n",
       "    .dataframe tbody tr th {\n",
       "        vertical-align: top;\n",
       "    }\n",
       "\n",
       "    .dataframe thead th {\n",
       "        text-align: right;\n",
       "    }\n",
       "</style>\n",
       "<table border=\"1\" class=\"dataframe\">\n",
       "  <thead>\n",
       "    <tr style=\"text-align: right;\">\n",
       "      <th>platform</th>\n",
       "      <th>3DS</th>\n",
       "      <th>PC</th>\n",
       "      <th>PS3</th>\n",
       "      <th>PS4</th>\n",
       "      <th>PSV</th>\n",
       "      <th>WiiU</th>\n",
       "      <th>X360</th>\n",
       "      <th>XOne</th>\n",
       "    </tr>\n",
       "    <tr>\n",
       "      <th>name</th>\n",
       "      <th></th>\n",
       "      <th></th>\n",
       "      <th></th>\n",
       "      <th></th>\n",
       "      <th></th>\n",
       "      <th></th>\n",
       "      <th></th>\n",
       "      <th></th>\n",
       "    </tr>\n",
       "  </thead>\n",
       "  <tbody>\n",
       "    <tr>\n",
       "      <th>2014 FIFA World Cup Brazil</th>\n",
       "      <td>NaN</td>\n",
       "      <td>NaN</td>\n",
       "      <td>0.61</td>\n",
       "      <td>NaN</td>\n",
       "      <td>NaN</td>\n",
       "      <td>NaN</td>\n",
       "      <td>0.43</td>\n",
       "      <td>NaN</td>\n",
       "    </tr>\n",
       "    <tr>\n",
       "      <th>7 Days to Die</th>\n",
       "      <td>NaN</td>\n",
       "      <td>NaN</td>\n",
       "      <td>NaN</td>\n",
       "      <td>0.14</td>\n",
       "      <td>NaN</td>\n",
       "      <td>NaN</td>\n",
       "      <td>NaN</td>\n",
       "      <td>0.05</td>\n",
       "    </tr>\n",
       "    <tr>\n",
       "      <th>Adventure Time: The Secret of the Nameless Kingdom</th>\n",
       "      <td>0.07</td>\n",
       "      <td>NaN</td>\n",
       "      <td>NaN</td>\n",
       "      <td>NaN</td>\n",
       "      <td>NaN</td>\n",
       "      <td>NaN</td>\n",
       "      <td>0.05</td>\n",
       "      <td>NaN</td>\n",
       "    </tr>\n",
       "    <tr>\n",
       "      <th>Agatha Christie's The ABC Murders</th>\n",
       "      <td>NaN</td>\n",
       "      <td>NaN</td>\n",
       "      <td>NaN</td>\n",
       "      <td>0.02</td>\n",
       "      <td>NaN</td>\n",
       "      <td>NaN</td>\n",
       "      <td>NaN</td>\n",
       "      <td>0.01</td>\n",
       "    </tr>\n",
       "    <tr>\n",
       "      <th>Alien: Isolation</th>\n",
       "      <td>NaN</td>\n",
       "      <td>0.15</td>\n",
       "      <td>NaN</td>\n",
       "      <td>1.12</td>\n",
       "      <td>NaN</td>\n",
       "      <td>NaN</td>\n",
       "      <td>NaN</td>\n",
       "      <td>0.50</td>\n",
       "    </tr>\n",
       "    <tr>\n",
       "      <th>...</th>\n",
       "      <td>...</td>\n",
       "      <td>...</td>\n",
       "      <td>...</td>\n",
       "      <td>...</td>\n",
       "      <td>...</td>\n",
       "      <td>...</td>\n",
       "      <td>...</td>\n",
       "      <td>...</td>\n",
       "    </tr>\n",
       "    <tr>\n",
       "      <th>Worms: WMD</th>\n",
       "      <td>NaN</td>\n",
       "      <td>NaN</td>\n",
       "      <td>NaN</td>\n",
       "      <td>0.03</td>\n",
       "      <td>NaN</td>\n",
       "      <td>NaN</td>\n",
       "      <td>NaN</td>\n",
       "      <td>0.01</td>\n",
       "    </tr>\n",
       "    <tr>\n",
       "      <th>XCOM 2</th>\n",
       "      <td>NaN</td>\n",
       "      <td>0.23</td>\n",
       "      <td>NaN</td>\n",
       "      <td>0.14</td>\n",
       "      <td>NaN</td>\n",
       "      <td>NaN</td>\n",
       "      <td>NaN</td>\n",
       "      <td>0.04</td>\n",
       "    </tr>\n",
       "    <tr>\n",
       "      <th>Yaiba: Ninja Gaiden Z</th>\n",
       "      <td>NaN</td>\n",
       "      <td>NaN</td>\n",
       "      <td>0.10</td>\n",
       "      <td>NaN</td>\n",
       "      <td>NaN</td>\n",
       "      <td>NaN</td>\n",
       "      <td>0.04</td>\n",
       "      <td>NaN</td>\n",
       "    </tr>\n",
       "    <tr>\n",
       "      <th>Zero Escape: Zero Time Dilemma</th>\n",
       "      <td>0.08</td>\n",
       "      <td>NaN</td>\n",
       "      <td>NaN</td>\n",
       "      <td>NaN</td>\n",
       "      <td>0.06</td>\n",
       "      <td>NaN</td>\n",
       "      <td>NaN</td>\n",
       "      <td>NaN</td>\n",
       "    </tr>\n",
       "    <tr>\n",
       "      <th>Zombie Army Trilogy</th>\n",
       "      <td>NaN</td>\n",
       "      <td>NaN</td>\n",
       "      <td>NaN</td>\n",
       "      <td>0.20</td>\n",
       "      <td>NaN</td>\n",
       "      <td>NaN</td>\n",
       "      <td>NaN</td>\n",
       "      <td>0.11</td>\n",
       "    </tr>\n",
       "  </tbody>\n",
       "</table>\n",
       "<p>195 rows × 8 columns</p>\n",
       "</div>"
      ],
      "text/plain": [
       "platform                                             3DS    PC   PS3   PS4  \\\n",
       "name                                                                         \n",
       "2014 FIFA World Cup Brazil                           NaN   NaN  0.61   NaN   \n",
       "7 Days to Die                                        NaN   NaN   NaN  0.14   \n",
       "Adventure Time: The Secret of the Nameless Kingdom  0.07   NaN   NaN   NaN   \n",
       "Agatha Christie's The ABC Murders                    NaN   NaN   NaN  0.02   \n",
       "Alien: Isolation                                     NaN  0.15   NaN  1.12   \n",
       "...                                                  ...   ...   ...   ...   \n",
       "Worms: WMD                                           NaN   NaN   NaN  0.03   \n",
       "XCOM 2                                               NaN  0.23   NaN  0.14   \n",
       "Yaiba: Ninja Gaiden Z                                NaN   NaN  0.10   NaN   \n",
       "Zero Escape: Zero Time Dilemma                      0.08   NaN   NaN   NaN   \n",
       "Zombie Army Trilogy                                  NaN   NaN   NaN  0.20   \n",
       "\n",
       "platform                                             PSV  WiiU  X360  XOne  \n",
       "name                                                                        \n",
       "2014 FIFA World Cup Brazil                           NaN   NaN  0.43   NaN  \n",
       "7 Days to Die                                        NaN   NaN   NaN  0.05  \n",
       "Adventure Time: The Secret of the Nameless Kingdom   NaN   NaN  0.05   NaN  \n",
       "Agatha Christie's The ABC Murders                    NaN   NaN   NaN  0.01  \n",
       "Alien: Isolation                                     NaN   NaN   NaN  0.50  \n",
       "...                                                  ...   ...   ...   ...  \n",
       "Worms: WMD                                           NaN   NaN   NaN  0.01  \n",
       "XCOM 2                                               NaN   NaN   NaN  0.04  \n",
       "Yaiba: Ninja Gaiden Z                                NaN   NaN  0.04   NaN  \n",
       "Zero Escape: Zero Time Dilemma                      0.06   NaN   NaN   NaN  \n",
       "Zombie Army Trilogy                                  NaN   NaN   NaN  0.11  \n",
       "\n",
       "[195 rows x 8 columns]"
      ]
     },
     "execution_count": 37,
     "metadata": {},
     "output_type": "execute_result"
    }
   ],
   "source": [
    "#Filter the data for those rows that have a critic or user score\n",
    "games_by_platform = latest_years.dropna()\n",
    "#Count unique platforms\n",
    "games = games_by_platform.groupby('name').platform.nunique().reset_index()\n",
    "#Filter games that appear on more than one platform\n",
    "multi_platform_games = games[games.platform > 1]\n",
    "#Select game names that are in the filtered list\n",
    "multi_platform_names = multi_platform_games['name']\n",
    "#Join with the original dataframe to get platform names\n",
    "result = games_by_platform[games_by_platform['name'].isin(multi_platform_names)]\n",
    "#group by name and platform to aggregate scores and sales\n",
    "comparison = result.groupby(['name', 'platform'])[['user_score', 'critic_score', 'total_sales']].mean().reset_index()\n",
    "\n",
    "#to specifically compare sales of the same games across different platforms\n",
    "game_pivot = comparison.pivot_table(index='name', columns='platform', values='total_sales')\n",
    "game_pivot\n"
   ]
  },
  {
   "cell_type": "markdown",
   "metadata": {},
   "source": [
    "<b>Take a look at the general distribution of games by genre. What can we say about the most profitable genres? Can you generalize about genres with high and low sales?"
   ]
  },
  {
   "cell_type": "code",
   "execution_count": 38,
   "metadata": {
    "scrolled": true
   },
   "outputs": [
    {
     "name": "stderr",
     "output_type": "stream",
     "text": [
      "C:\\Users\\susan\\AppData\\Local\\Temp\\ipykernel_13616\\2529802135.py:6: FutureWarning:\n",
      "\n",
      "\n",
      "\n",
      "Passing `palette` without assigning `hue` is deprecated and will be removed in v0.14.0. Assign the `x` variable to `hue` and set `legend=False` for the same effect.\n",
      "\n",
      "\n"
     ]
    },
    {
     "data": {
      "text/plain": [
       "([0, 1, 2, 3, 4, 5, 6, 7, 8, 9, 10, 11],\n",
       " [Text(0, 0, 'Action'),\n",
       "  Text(1, 0, 'Role-Playing'),\n",
       "  Text(2, 0, 'Adventure'),\n",
       "  Text(3, 0, 'Sports'),\n",
       "  Text(4, 0, 'Shooter'),\n",
       "  Text(5, 0, 'Misc'),\n",
       "  Text(6, 0, 'Racing'),\n",
       "  Text(7, 0, 'Fighting'),\n",
       "  Text(8, 0, 'Simulation'),\n",
       "  Text(9, 0, 'Platform'),\n",
       "  Text(10, 0, 'Strategy'),\n",
       "  Text(11, 0, 'Puzzle')])"
      ]
     },
     "execution_count": 38,
     "metadata": {},
     "output_type": "execute_result"
    },
    {
     "data": {
      "image/png": "[encoded data removed]",
      "text/plain": [
       "<Figure size 1200x600 with 1 Axes>"
      ]
     },
     "metadata": {},
     "output_type": "display_data"
    }
   ],
   "source": [
    "#count the number of games by genre\n",
    "genre_distribution = latest_years['genre'].value_counts()\n",
    "\n",
    "#create bar plot for genre distribution\n",
    "plt.figure(figsize=(12,6))\n",
    "sns.barplot(x=genre_distribution.index, y=genre_distribution.values, palette='dark')\n",
    "plt.xlabel('genre', fontsize=12)\n",
    "plt.ylabel('Number of Games', fontsize=12)\n",
    "plt.title('Distribution of Games by Genre', fontsize=16)\n",
    "plt.tight_layout()\n",
    "plt.xticks(rotation=45)"
   ]
  },
  {
   "cell_type": "code",
   "execution_count": 39,
   "metadata": {},
   "outputs": [
    {
     "data": {
      "image/png": "[encoded data removed]",
      "text/plain": [
       "<Figure size 640x480 with 1 Axes>"
      ]
     },
     "metadata": {},
     "output_type": "display_data"
    },
    {
     "data": {
      "text/plain": [
       "<Figure size 1400x800 with 0 Axes>"
      ]
     },
     "metadata": {},
     "output_type": "display_data"
    }
   ],
   "source": [
    "#boxplot for total sales by genre\n",
    "latest_years.boxplot(column='total_sales', by='genre')\n",
    "plt.title('Total Sales by Genre')\n",
    "plt.suptitle('')\n",
    "plt.xlabel('Genre')\n",
    "plt.ylabel('Total Sales(in million USD)')\n",
    "plt.xticks(rotation=90)\n",
    "plt.yscale('log')\n",
    "plt.figure(figsize=(14, 8))\n",
    "plt.show()"
   ]
  },
  {
   "cell_type": "markdown",
   "metadata": {},
   "source": [
    "It is interesting that Action games have by far the most games released in the last two years. However, Shooter and Sports games have higher sales than Action games. While Puzzles have the least number of games released, sales for this genre are higher than Adventure games, which have the 3rd most games released. From this data, I would conclude that Shooter and Sports games are the most profitable, as they have very high sales even with less amounts of games produced."
   ]
  },
  {
   "cell_type": "markdown",
   "metadata": {},
   "source": [
    "### Create a user profile for each region.\n",
    "\n",
    "<b> Determine the top five platforms and genres for each region. Do ESRB ratings affect sales in individual regions?\n"
   ]
  },
  {
   "cell_type": "code",
   "execution_count": 40,
   "metadata": {},
   "outputs": [],
   "source": [
    "#groupy by region and genre\n",
    "region_genre_sales = latest_years.groupby(['na_sales', 'eu_sales', 'jp_sales', 'genre']).sum().reset_index()\n",
    "\n",
    "#group by region and platform\n",
    "region_platform_sales = latest_years.groupby(['na_sales', 'eu_sales', 'jp_sales', 'platform']).sum().reset_index()\n",
    "\n",
    "#group by region and ratings\n",
    "region_rating_sales = latest_years.groupby(['na_sales', 'eu_sales', 'jp_sales', 'rating']).sum().reset_index()\n"
   ]
  },
  {
   "cell_type": "code",
   "execution_count": 41,
   "metadata": {},
   "outputs": [
    {
     "name": "stdout",
     "output_type": "stream",
     "text": [
      "Top 5 genres in North America:\n"
     ]
    },
    {
     "data": {
      "text/html": [
       "<div>\n",
       "<style scoped>\n",
       "    .dataframe tbody tr th:only-of-type {\n",
       "        vertical-align: middle;\n",
       "    }\n",
       "\n",
       "    .dataframe tbody tr th {\n",
       "        vertical-align: top;\n",
       "    }\n",
       "\n",
       "    .dataframe thead th {\n",
       "        text-align: right;\n",
       "    }\n",
       "</style>\n",
       "<table border=\"1\" class=\"dataframe\">\n",
       "  <thead>\n",
       "    <tr style=\"text-align: right;\">\n",
       "      <th></th>\n",
       "      <th>genre</th>\n",
       "      <th>na_sales</th>\n",
       "    </tr>\n",
       "  </thead>\n",
       "  <tbody>\n",
       "    <tr>\n",
       "      <th>8</th>\n",
       "      <td>Shooter</td>\n",
       "      <td>78.83</td>\n",
       "    </tr>\n",
       "    <tr>\n",
       "      <th>0</th>\n",
       "      <td>Action</td>\n",
       "      <td>69.49</td>\n",
       "    </tr>\n",
       "    <tr>\n",
       "      <th>10</th>\n",
       "      <td>Sports</td>\n",
       "      <td>45.89</td>\n",
       "    </tr>\n",
       "    <tr>\n",
       "      <th>7</th>\n",
       "      <td>Role-Playing</td>\n",
       "      <td>33.35</td>\n",
       "    </tr>\n",
       "    <tr>\n",
       "      <th>3</th>\n",
       "      <td>Misc</td>\n",
       "      <td>14.80</td>\n",
       "    </tr>\n",
       "  </tbody>\n",
       "</table>\n",
       "</div>"
      ],
      "text/plain": [
       "           genre  na_sales\n",
       "8        Shooter     78.83\n",
       "0         Action     69.49\n",
       "10        Sports     45.89\n",
       "7   Role-Playing     33.35\n",
       "3           Misc     14.80"
      ]
     },
     "metadata": {},
     "output_type": "display_data"
    },
    {
     "name": "stdout",
     "output_type": "stream",
     "text": [
      "Top 5 platforms in North America:\n"
     ]
    },
    {
     "data": {
      "text/html": [
       "<div>\n",
       "<style scoped>\n",
       "    .dataframe tbody tr th:only-of-type {\n",
       "        vertical-align: middle;\n",
       "    }\n",
       "\n",
       "    .dataframe tbody tr th {\n",
       "        vertical-align: top;\n",
       "    }\n",
       "\n",
       "    .dataframe thead th {\n",
       "        text-align: right;\n",
       "    }\n",
       "</style>\n",
       "<table border=\"1\" class=\"dataframe\">\n",
       "  <thead>\n",
       "    <tr style=\"text-align: right;\">\n",
       "      <th></th>\n",
       "      <th>platform</th>\n",
       "      <th>na_sales</th>\n",
       "    </tr>\n",
       "  </thead>\n",
       "  <tbody>\n",
       "    <tr>\n",
       "      <th>3</th>\n",
       "      <td>PS4</td>\n",
       "      <td>97.38</td>\n",
       "    </tr>\n",
       "    <tr>\n",
       "      <th>9</th>\n",
       "      <td>XOne</td>\n",
       "      <td>79.29</td>\n",
       "    </tr>\n",
       "    <tr>\n",
       "      <th>8</th>\n",
       "      <td>X360</td>\n",
       "      <td>26.92</td>\n",
       "    </tr>\n",
       "    <tr>\n",
       "      <th>0</th>\n",
       "      <td>3DS</td>\n",
       "      <td>22.45</td>\n",
       "    </tr>\n",
       "    <tr>\n",
       "      <th>2</th>\n",
       "      <td>PS3</td>\n",
       "      <td>21.85</td>\n",
       "    </tr>\n",
       "  </tbody>\n",
       "</table>\n",
       "</div>"
      ],
      "text/plain": [
       "  platform  na_sales\n",
       "3      PS4     97.38\n",
       "9     XOne     79.29\n",
       "8     X360     26.92\n",
       "0      3DS     22.45\n",
       "2      PS3     21.85"
      ]
     },
     "metadata": {},
     "output_type": "display_data"
    },
    {
     "name": "stdout",
     "output_type": "stream",
     "text": [
      "Sales by ESRB ratings in North America:\n"
     ]
    },
    {
     "data": {
      "text/html": [
       "<div>\n",
       "<style scoped>\n",
       "    .dataframe tbody tr th:only-of-type {\n",
       "        vertical-align: middle;\n",
       "    }\n",
       "\n",
       "    .dataframe tbody tr th {\n",
       "        vertical-align: top;\n",
       "    }\n",
       "\n",
       "    .dataframe thead th {\n",
       "        text-align: right;\n",
       "    }\n",
       "</style>\n",
       "<table border=\"1\" class=\"dataframe\">\n",
       "  <thead>\n",
       "    <tr style=\"text-align: right;\">\n",
       "      <th></th>\n",
       "      <th>rating</th>\n",
       "      <th>na_sales</th>\n",
       "    </tr>\n",
       "  </thead>\n",
       "  <tbody>\n",
       "    <tr>\n",
       "      <th>2</th>\n",
       "      <td>M</td>\n",
       "      <td>95.65</td>\n",
       "    </tr>\n",
       "    <tr>\n",
       "      <th>4</th>\n",
       "      <td>undefined</td>\n",
       "      <td>63.43</td>\n",
       "    </tr>\n",
       "    <tr>\n",
       "      <th>0</th>\n",
       "      <td>E</td>\n",
       "      <td>50.00</td>\n",
       "    </tr>\n",
       "    <tr>\n",
       "      <th>3</th>\n",
       "      <td>T</td>\n",
       "      <td>38.33</td>\n",
       "    </tr>\n",
       "    <tr>\n",
       "      <th>1</th>\n",
       "      <td>E10+</td>\n",
       "      <td>31.79</td>\n",
       "    </tr>\n",
       "  </tbody>\n",
       "</table>\n",
       "</div>"
      ],
      "text/plain": [
       "      rating  na_sales\n",
       "2          M     95.65\n",
       "4  undefined     63.43\n",
       "0          E     50.00\n",
       "3          T     38.33\n",
       "1       E10+     31.79"
      ]
     },
     "metadata": {},
     "output_type": "display_data"
    }
   ],
   "source": [
    "#North America top 5 genres\n",
    "na_genre_sales = region_genre_sales.groupby('genre')['na_sales'].sum().reset_index().sort_values(by='na_sales', ascending=False)\n",
    "print('Top 5 genres in North America:')\n",
    "display(na_genre_sales.head())\n",
    "\n",
    "#North America top 5 platforms\n",
    "na_platform_sales = region_platform_sales.groupby('platform')['na_sales'].sum().reset_index().sort_values(by='na_sales', ascending=False)\n",
    "print('Top 5 platforms in North America:')\n",
    "display(na_platform_sales.head())\n",
    "\n",
    "#North America ratings data\n",
    "na_rating_sales = region_rating_sales.groupby('rating')['na_sales'].sum().reset_index().sort_values(by='na_sales', ascending=False)\n",
    "print('Sales by ESRB ratings in North America:')\n",
    "display(na_rating_sales)\n"
   ]
  },
  {
   "cell_type": "code",
   "execution_count": 42,
   "metadata": {},
   "outputs": [
    {
     "name": "stdout",
     "output_type": "stream",
     "text": [
      "Top 5 genres in Europe:\n"
     ]
    },
    {
     "data": {
      "text/html": [
       "<div>\n",
       "<style scoped>\n",
       "    .dataframe tbody tr th:only-of-type {\n",
       "        vertical-align: middle;\n",
       "    }\n",
       "\n",
       "    .dataframe tbody tr th {\n",
       "        vertical-align: top;\n",
       "    }\n",
       "\n",
       "    .dataframe thead th {\n",
       "        text-align: right;\n",
       "    }\n",
       "</style>\n",
       "<table border=\"1\" class=\"dataframe\">\n",
       "  <thead>\n",
       "    <tr style=\"text-align: right;\">\n",
       "      <th></th>\n",
       "      <th>genre</th>\n",
       "      <th>eu_sales</th>\n",
       "    </tr>\n",
       "  </thead>\n",
       "  <tbody>\n",
       "    <tr>\n",
       "      <th>0</th>\n",
       "      <td>Action</td>\n",
       "      <td>70.99</td>\n",
       "    </tr>\n",
       "    <tr>\n",
       "      <th>8</th>\n",
       "      <td>Shooter</td>\n",
       "      <td>65.50</td>\n",
       "    </tr>\n",
       "    <tr>\n",
       "      <th>10</th>\n",
       "      <td>Sports</td>\n",
       "      <td>45.01</td>\n",
       "    </tr>\n",
       "    <tr>\n",
       "      <th>7</th>\n",
       "      <td>Role-Playing</td>\n",
       "      <td>27.87</td>\n",
       "    </tr>\n",
       "    <tr>\n",
       "      <th>6</th>\n",
       "      <td>Racing</td>\n",
       "      <td>13.75</td>\n",
       "    </tr>\n",
       "  </tbody>\n",
       "</table>\n",
       "</div>"
      ],
      "text/plain": [
       "           genre  eu_sales\n",
       "0         Action     70.99\n",
       "8        Shooter     65.50\n",
       "10        Sports     45.01\n",
       "7   Role-Playing     27.87\n",
       "6         Racing     13.75"
      ]
     },
     "metadata": {},
     "output_type": "display_data"
    },
    {
     "name": "stdout",
     "output_type": "stream",
     "text": [
      "Top 5 platforms in Europe:\n"
     ]
    },
    {
     "data": {
      "text/html": [
       "<div>\n",
       "<style scoped>\n",
       "    .dataframe tbody tr th:only-of-type {\n",
       "        vertical-align: middle;\n",
       "    }\n",
       "\n",
       "    .dataframe tbody tr th {\n",
       "        vertical-align: top;\n",
       "    }\n",
       "\n",
       "    .dataframe thead th {\n",
       "        text-align: right;\n",
       "    }\n",
       "</style>\n",
       "<table border=\"1\" class=\"dataframe\">\n",
       "  <thead>\n",
       "    <tr style=\"text-align: right;\">\n",
       "      <th></th>\n",
       "      <th>platform</th>\n",
       "      <th>eu_sales</th>\n",
       "    </tr>\n",
       "  </thead>\n",
       "  <tbody>\n",
       "    <tr>\n",
       "      <th>3</th>\n",
       "      <td>PS4</td>\n",
       "      <td>128.26</td>\n",
       "    </tr>\n",
       "    <tr>\n",
       "      <th>9</th>\n",
       "      <td>XOne</td>\n",
       "      <td>45.13</td>\n",
       "    </tr>\n",
       "    <tr>\n",
       "      <th>2</th>\n",
       "      <td>PS3</td>\n",
       "      <td>25.24</td>\n",
       "    </tr>\n",
       "    <tr>\n",
       "      <th>0</th>\n",
       "      <td>3DS</td>\n",
       "      <td>15.97</td>\n",
       "    </tr>\n",
       "    <tr>\n",
       "      <th>1</th>\n",
       "      <td>PC</td>\n",
       "      <td>15.34</td>\n",
       "    </tr>\n",
       "  </tbody>\n",
       "</table>\n",
       "</div>"
      ],
      "text/plain": [
       "  platform  eu_sales\n",
       "3      PS4    128.26\n",
       "9     XOne     45.13\n",
       "2      PS3     25.24\n",
       "0      3DS     15.97\n",
       "1       PC     15.34"
      ]
     },
     "metadata": {},
     "output_type": "display_data"
    },
    {
     "name": "stdout",
     "output_type": "stream",
     "text": [
      "Sales by ESRB ratings in Europe:\n"
     ]
    },
    {
     "data": {
      "text/html": [
       "<div>\n",
       "<style scoped>\n",
       "    .dataframe tbody tr th:only-of-type {\n",
       "        vertical-align: middle;\n",
       "    }\n",
       "\n",
       "    .dataframe tbody tr th {\n",
       "        vertical-align: top;\n",
       "    }\n",
       "\n",
       "    .dataframe thead th {\n",
       "        text-align: right;\n",
       "    }\n",
       "</style>\n",
       "<table border=\"1\" class=\"dataframe\">\n",
       "  <thead>\n",
       "    <tr style=\"text-align: right;\">\n",
       "      <th></th>\n",
       "      <th>rating</th>\n",
       "      <th>eu_sales</th>\n",
       "    </tr>\n",
       "  </thead>\n",
       "  <tbody>\n",
       "    <tr>\n",
       "      <th>2</th>\n",
       "      <td>M</td>\n",
       "      <td>92.56</td>\n",
       "    </tr>\n",
       "    <tr>\n",
       "      <th>4</th>\n",
       "      <td>undefined</td>\n",
       "      <td>57.03</td>\n",
       "    </tr>\n",
       "    <tr>\n",
       "      <th>0</th>\n",
       "      <td>E</td>\n",
       "      <td>56.57</td>\n",
       "    </tr>\n",
       "    <tr>\n",
       "      <th>3</th>\n",
       "      <td>T</td>\n",
       "      <td>33.25</td>\n",
       "    </tr>\n",
       "    <tr>\n",
       "      <th>1</th>\n",
       "      <td>E10+</td>\n",
       "      <td>24.55</td>\n",
       "    </tr>\n",
       "  </tbody>\n",
       "</table>\n",
       "</div>"
      ],
      "text/plain": [
       "      rating  eu_sales\n",
       "2          M     92.56\n",
       "4  undefined     57.03\n",
       "0          E     56.57\n",
       "3          T     33.25\n",
       "1       E10+     24.55"
      ]
     },
     "metadata": {},
     "output_type": "display_data"
    }
   ],
   "source": [
    "#Europe top 5 genres\n",
    "eu_genre_sales = region_genre_sales.groupby('genre')['eu_sales'].sum().reset_index().sort_values(by='eu_sales', ascending=False)\n",
    "print('Top 5 genres in Europe:')\n",
    "display(eu_genre_sales.head())\n",
    "\n",
    "#Europe top 5 platforms\n",
    "eu_platform_sales = region_platform_sales.groupby('platform')['eu_sales'].sum().reset_index().sort_values(by='eu_sales', ascending=False)\n",
    "print('Top 5 platforms in Europe:')\n",
    "display(eu_platform_sales.head())\n",
    "\n",
    "#Europe ratings data\n",
    "eu_rating_sales = region_rating_sales.groupby('rating')['eu_sales'].sum().reset_index().sort_values(by='eu_sales', ascending=False)\n",
    "print('Sales by ESRB ratings in Europe:')\n",
    "display(eu_rating_sales)\n"
   ]
  },
  {
   "cell_type": "code",
   "execution_count": 43,
   "metadata": {},
   "outputs": [
    {
     "name": "stdout",
     "output_type": "stream",
     "text": [
      "Top 5 genres in Japan:\n"
     ]
    },
    {
     "data": {
      "text/html": [
       "<div>\n",
       "<style scoped>\n",
       "    .dataframe tbody tr th:only-of-type {\n",
       "        vertical-align: middle;\n",
       "    }\n",
       "\n",
       "    .dataframe tbody tr th {\n",
       "        vertical-align: top;\n",
       "    }\n",
       "\n",
       "    .dataframe thead th {\n",
       "        text-align: right;\n",
       "    }\n",
       "</style>\n",
       "<table border=\"1\" class=\"dataframe\">\n",
       "  <thead>\n",
       "    <tr style=\"text-align: right;\">\n",
       "      <th></th>\n",
       "      <th>genre</th>\n",
       "      <th>jp_sales</th>\n",
       "    </tr>\n",
       "  </thead>\n",
       "  <tbody>\n",
       "    <tr>\n",
       "      <th>7</th>\n",
       "      <td>Role-Playing</td>\n",
       "      <td>27.57</td>\n",
       "    </tr>\n",
       "    <tr>\n",
       "      <th>0</th>\n",
       "      <td>Action</td>\n",
       "      <td>21.30</td>\n",
       "    </tr>\n",
       "    <tr>\n",
       "      <th>2</th>\n",
       "      <td>Fighting</td>\n",
       "      <td>6.23</td>\n",
       "    </tr>\n",
       "    <tr>\n",
       "      <th>8</th>\n",
       "      <td>Shooter</td>\n",
       "      <td>4.87</td>\n",
       "    </tr>\n",
       "    <tr>\n",
       "      <th>3</th>\n",
       "      <td>Misc</td>\n",
       "      <td>4.35</td>\n",
       "    </tr>\n",
       "  </tbody>\n",
       "</table>\n",
       "</div>"
      ],
      "text/plain": [
       "          genre  jp_sales\n",
       "7  Role-Playing     27.57\n",
       "0        Action     21.30\n",
       "2      Fighting      6.23\n",
       "8       Shooter      4.87\n",
       "3          Misc      4.35"
      ]
     },
     "metadata": {},
     "output_type": "display_data"
    },
    {
     "name": "stdout",
     "output_type": "stream",
     "text": [
      "Top 5 platforms in Japan:\n"
     ]
    },
    {
     "data": {
      "text/html": [
       "<div>\n",
       "<style scoped>\n",
       "    .dataframe tbody tr th:only-of-type {\n",
       "        vertical-align: middle;\n",
       "    }\n",
       "\n",
       "    .dataframe tbody tr th {\n",
       "        vertical-align: top;\n",
       "    }\n",
       "\n",
       "    .dataframe thead th {\n",
       "        text-align: right;\n",
       "    }\n",
       "</style>\n",
       "<table border=\"1\" class=\"dataframe\">\n",
       "  <thead>\n",
       "    <tr style=\"text-align: right;\">\n",
       "      <th></th>\n",
       "      <th>platform</th>\n",
       "      <th>jp_sales</th>\n",
       "    </tr>\n",
       "  </thead>\n",
       "  <tbody>\n",
       "    <tr>\n",
       "      <th>0</th>\n",
       "      <td>3DS</td>\n",
       "      <td>39.92</td>\n",
       "    </tr>\n",
       "    <tr>\n",
       "      <th>3</th>\n",
       "      <td>PS4</td>\n",
       "      <td>13.38</td>\n",
       "    </tr>\n",
       "    <tr>\n",
       "      <th>2</th>\n",
       "      <td>PS3</td>\n",
       "      <td>8.06</td>\n",
       "    </tr>\n",
       "    <tr>\n",
       "      <th>7</th>\n",
       "      <td>WiiU</td>\n",
       "      <td>7.24</td>\n",
       "    </tr>\n",
       "    <tr>\n",
       "      <th>5</th>\n",
       "      <td>PSV</td>\n",
       "      <td>7.05</td>\n",
       "    </tr>\n",
       "  </tbody>\n",
       "</table>\n",
       "</div>"
      ],
      "text/plain": [
       "  platform  jp_sales\n",
       "0      3DS     39.92\n",
       "3      PS4     13.38\n",
       "2      PS3      8.06\n",
       "7     WiiU      7.24\n",
       "5      PSV      7.05"
      ]
     },
     "metadata": {},
     "output_type": "display_data"
    },
    {
     "name": "stdout",
     "output_type": "stream",
     "text": [
      "Sales by ESRB ratings in Japan:\n"
     ]
    },
    {
     "data": {
      "text/html": [
       "<div>\n",
       "<style scoped>\n",
       "    .dataframe tbody tr th:only-of-type {\n",
       "        vertical-align: middle;\n",
       "    }\n",
       "\n",
       "    .dataframe tbody tr th {\n",
       "        vertical-align: top;\n",
       "    }\n",
       "\n",
       "    .dataframe thead th {\n",
       "        text-align: right;\n",
       "    }\n",
       "</style>\n",
       "<table border=\"1\" class=\"dataframe\">\n",
       "  <thead>\n",
       "    <tr style=\"text-align: right;\">\n",
       "      <th></th>\n",
       "      <th>rating</th>\n",
       "      <th>jp_sales</th>\n",
       "    </tr>\n",
       "  </thead>\n",
       "  <tbody>\n",
       "    <tr>\n",
       "      <th>4</th>\n",
       "      <td>undefined</td>\n",
       "      <td>38.07</td>\n",
       "    </tr>\n",
       "    <tr>\n",
       "      <th>3</th>\n",
       "      <td>T</td>\n",
       "      <td>13.83</td>\n",
       "    </tr>\n",
       "    <tr>\n",
       "      <th>0</th>\n",
       "      <td>E</td>\n",
       "      <td>8.93</td>\n",
       "    </tr>\n",
       "    <tr>\n",
       "      <th>2</th>\n",
       "      <td>M</td>\n",
       "      <td>7.94</td>\n",
       "    </tr>\n",
       "    <tr>\n",
       "      <th>1</th>\n",
       "      <td>E10+</td>\n",
       "      <td>4.46</td>\n",
       "    </tr>\n",
       "  </tbody>\n",
       "</table>\n",
       "</div>"
      ],
      "text/plain": [
       "      rating  jp_sales\n",
       "4  undefined     38.07\n",
       "3          T     13.83\n",
       "0          E      8.93\n",
       "2          M      7.94\n",
       "1       E10+      4.46"
      ]
     },
     "metadata": {},
     "output_type": "display_data"
    }
   ],
   "source": [
    "#Japan top 5 genres\n",
    "jp_genre_sales = region_genre_sales.groupby('genre')['jp_sales'].sum().reset_index().sort_values(by='jp_sales', ascending=False)\n",
    "print('Top 5 genres in Japan:')\n",
    "display(jp_genre_sales.head())\n",
    "\n",
    "#Japan top 5 platforms\n",
    "jp_platform_sales = region_platform_sales.groupby('platform')['jp_sales'].sum().reset_index().sort_values(by='jp_sales', ascending=False)\n",
    "print('Top 5 platforms in Japan:')\n",
    "display(jp_platform_sales.head())\n",
    "\n",
    "#Japan ratings data\n",
    "jp_rating_sales = region_rating_sales.groupby('rating')['jp_sales'].sum().reset_index().sort_values(by='jp_sales', ascending=False)\n",
    "print('Sales by ESRB ratings in Japan:')\n",
    "display(jp_rating_sales)"
   ]
  },
  {
   "cell_type": "code",
   "execution_count": 44,
   "metadata": {},
   "outputs": [
    {
     "name": "stderr",
     "output_type": "stream",
     "text": [
      "C:\\Users\\susan\\AppData\\Local\\Temp\\ipykernel_13616\\3159533689.py:13: FutureWarning:\n",
      "\n",
      "\n",
      "\n",
      "Passing `palette` without assigning `hue` is deprecated and will be removed in v0.14.0. Assign the `y` variable to `hue` and set `legend=False` for the same effect.\n",
      "\n",
      "\n",
      "C:\\Users\\susan\\AppData\\Local\\Temp\\ipykernel_13616\\3159533689.py:13: FutureWarning:\n",
      "\n",
      "\n",
      "\n",
      "Passing `palette` without assigning `hue` is deprecated and will be removed in v0.14.0. Assign the `y` variable to `hue` and set `legend=False` for the same effect.\n",
      "\n",
      "\n",
      "C:\\Users\\susan\\AppData\\Local\\Temp\\ipykernel_13616\\3159533689.py:13: FutureWarning:\n",
      "\n",
      "\n",
      "\n",
      "Passing `palette` without assigning `hue` is deprecated and will be removed in v0.14.0. Assign the `y` variable to `hue` and set `legend=False` for the same effect.\n",
      "\n",
      "\n"
     ]
    },
    {
     "data": {
      "image/png": "[encoded data removed]",
      "text/plain": [
       "<Figure size 1800x600 with 3 Axes>"
      ]
     },
     "metadata": {},
     "output_type": "display_data"
    }
   ],
   "source": [
    "# Calculate sales per platform per region\n",
    "regions = ['NA', 'EU', 'JP']\n",
    "\n",
    "# Calculate sales per platform per region\n",
    "top_platforms_by_region = {}\n",
    "for region in regions:\n",
    "    region_column = f'{region.lower()}_sales'\n",
    "    top_platforms_by_region[region] = latest_years.groupby('platform')[region_column].sum().sort_values(ascending=False).head(5)\n",
    "    \n",
    "# Plot top platforms for each region\n",
    "fig, axes = plt.subplots(1, 3, figsize=(18, 6), sharey=False)\n",
    "for ax, (region, platforms) in zip(axes, top_platforms_by_region.items()):\n",
    "    sns.barplot(x=platforms.values, y=platforms.index, ax=ax, palette='bright')\n",
    "    ax.set_title(f'Top Platforms in {region}')\n",
    "    ax.set_xlabel('Total Sales (in million USD)')\n",
    "    ax.set_ylabel('Platform')\n",
    "\n",
    "plt.tight_layout()\n",
    "plt.show()"
   ]
  },
  {
   "cell_type": "markdown",
   "metadata": {},
   "source": [
    "PS4 has performed the best across all regions, ranking 1st in NA and EU and 2nd in Japan. The 3DS is the top performing platform in Japan and is also in the top 5 platforms of NA and EU. PS3 is the other platform that made it into the top 5 of all regions."
   ]
  },
  {
   "cell_type": "code",
   "execution_count": 45,
   "metadata": {},
   "outputs": [
    {
     "name": "stderr",
     "output_type": "stream",
     "text": [
      "C:\\Users\\susan\\AppData\\Local\\Temp\\ipykernel_13616\\2906419393.py:10: FutureWarning:\n",
      "\n",
      "\n",
      "\n",
      "Passing `palette` without assigning `hue` is deprecated and will be removed in v0.14.0. Assign the `y` variable to `hue` and set `legend=False` for the same effect.\n",
      "\n",
      "\n",
      "C:\\Users\\susan\\AppData\\Local\\Temp\\ipykernel_13616\\2906419393.py:10: FutureWarning:\n",
      "\n",
      "\n",
      "\n",
      "Passing `palette` without assigning `hue` is deprecated and will be removed in v0.14.0. Assign the `y` variable to `hue` and set `legend=False` for the same effect.\n",
      "\n",
      "\n",
      "C:\\Users\\susan\\AppData\\Local\\Temp\\ipykernel_13616\\2906419393.py:10: FutureWarning:\n",
      "\n",
      "\n",
      "\n",
      "Passing `palette` without assigning `hue` is deprecated and will be removed in v0.14.0. Assign the `y` variable to `hue` and set `legend=False` for the same effect.\n",
      "\n",
      "\n"
     ]
    },
    {
     "data": {
      "image/png": "[encoded data removed]",
      "text/plain": [
       "<Figure size 1800x600 with 3 Axes>"
      ]
     },
     "metadata": {},
     "output_type": "display_data"
    }
   ],
   "source": [
    "# Calculate sales per genre per region\n",
    "top_genres_by_region = {}\n",
    "for region in regions:\n",
    "    region_column = f'{region.lower()}_sales'\n",
    "    top_genres_by_region[region] = latest_years.groupby('genre')[region_column].sum().sort_values(ascending=False).head(5)\n",
    "    \n",
    "# Plot top genres for each region\n",
    "fig, axes = plt.subplots(1, 3, figsize=(18, 6), sharey=False)\n",
    "for ax, (region, genres) in zip(axes, top_genres_by_region.items()):\n",
    "    sns.barplot(x=genres.values, y=genres.index, ax=ax, palette='dark')\n",
    "    ax.set_title(f'Top Genres in {region}')\n",
    "    ax.set_xlabel('Total Sales (in million USD)')\n",
    "    ax.set_ylabel('Genre')\n",
    "\n",
    "plt.tight_layout()\n",
    "plt.show()"
   ]
  },
  {
   "cell_type": "markdown",
   "metadata": {},
   "source": [
    "Action and Shooter genres were the top two performing categories in NA and EU. Japan's top genre was Roleplaying, with Action and Fighting following. Sports is a genre that sold well in NA and EU but did not make the top 5 selling genres in Japan. Sales by genre were very similar between NA and EU, but customers in Japan seem to follow different trends."
   ]
  },
  {
   "cell_type": "code",
   "execution_count": 46,
   "metadata": {},
   "outputs": [
    {
     "name": "stderr",
     "output_type": "stream",
     "text": [
      "C:\\Users\\susan\\AppData\\Local\\Temp\\ipykernel_13616\\1274398516.py:11: FutureWarning:\n",
      "\n",
      "\n",
      "\n",
      "Passing `palette` without assigning `hue` is deprecated and will be removed in v0.14.0. Assign the `y` variable to `hue` and set `legend=False` for the same effect.\n",
      "\n",
      "\n",
      "C:\\Users\\susan\\AppData\\Local\\Temp\\ipykernel_13616\\1274398516.py:11: FutureWarning:\n",
      "\n",
      "\n",
      "\n",
      "Passing `palette` without assigning `hue` is deprecated and will be removed in v0.14.0. Assign the `y` variable to `hue` and set `legend=False` for the same effect.\n",
      "\n",
      "\n",
      "C:\\Users\\susan\\AppData\\Local\\Temp\\ipykernel_13616\\1274398516.py:11: FutureWarning:\n",
      "\n",
      "\n",
      "\n",
      "Passing `palette` without assigning `hue` is deprecated and will be removed in v0.14.0. Assign the `y` variable to `hue` and set `legend=False` for the same effect.\n",
      "\n",
      "\n"
     ]
    },
    {
     "data": {
      "image/png": "[encoded data removed]",
      "text/plain": [
       "<Figure size 1800x600 with 3 Axes>"
      ]
     },
     "metadata": {},
     "output_type": "display_data"
    }
   ],
   "source": [
    "# Calculate sales per ESRB rating per region\n",
    "sales_by_esrb_rating = {}\n",
    "\n",
    "for region in regions:\n",
    "    region_column = f'{region.lower()}_sales'\n",
    "    sales_by_esrb_rating[region] = latest_years.groupby('rating')[region_column].sum().sort_values(ascending=False)\n",
    "    \n",
    "# Plot sales by ESRB rating for each region\n",
    "fig, axes = plt.subplots(1, 3, figsize=(18, 6), sharey=False)\n",
    "for ax, (region, ratings) in zip(axes, sales_by_esrb_rating.items()):\n",
    "    sns.barplot(x=ratings.values, y=ratings.index, ax=ax, palette='viridis')\n",
    "    ax.set_title(f'Sales by ESRB Rating in {region}')\n",
    "    ax.set_xlabel('Total Sales (in million USD)')\n",
    "    ax.set_ylabel('ESRB Rating')\n",
    "\n",
    "plt.tight_layout()\n",
    "plt.show()"
   ]
  },
  {
   "cell_type": "markdown",
   "metadata": {},
   "source": [
    "Sales in North America and Europe performed similarly according to ratings, with M being the rating that sold the most games. However, top sales in Japan were for T and E, with games in the M rating performing much lower."
   ]
  },
  {
   "cell_type": "markdown",
   "metadata": {},
   "source": [
    "### Test hypotheses\n",
    "\n",
    "<b> Null Hypothesis: Average user ratings of the Xbox One and PC platforms are the same."
   ]
  },
  {
   "cell_type": "code",
   "execution_count": 47,
   "metadata": {},
   "outputs": [
    {
     "name": "stdout",
     "output_type": "stream",
     "text": [
      "T-statistic: 1.577760647447497\n",
      "P-value: 0.11601398086668832\n",
      "Fail to reject the null hypothesis: No significant difference in average user ratings between Xbox One and PC.\n"
     ]
    }
   ],
   "source": [
    "#Filter for user ratings for each platform\n",
    "xone_ratings = latest_years[latest_years['platform'] == 'XOne']['user_score']\n",
    "xone_ratings = xone_ratings.dropna()\n",
    "\n",
    "pc_ratings = latest_years[latest_years['platform'] == 'PC']['user_score']\n",
    "pc_ratings = pc_ratings.dropna()\n",
    "\n",
    "#perform ttest\n",
    "t_stat, p_value = st.ttest_ind(xone_ratings, pc_ratings, equal_var=False)\n",
    "\n",
    "print(f\"T-statistic: {t_stat}\")\n",
    "print(f\"P-value: {p_value}\")\n",
    "\n",
    "#set alpha\n",
    "alpha = 0.05\n",
    "\n",
    "if p_value < alpha:\n",
    "    print(\"Reject the null hypothesis: Average user ratings differ between Xbox One and PC.\")\n",
    "else:\n",
    "    print(\"Fail to reject the null hypothesis: No significant difference in average user ratings between Xbox One and PC.\")"
   ]
  },
  {
   "cell_type": "markdown",
   "metadata": {},
   "source": [
    "<b> Test the null hypothesis: Average user ratings for the Action and Sports genres are the same."
   ]
  },
  {
   "cell_type": "code",
   "execution_count": 48,
   "metadata": {},
   "outputs": [
    {
     "name": "stdout",
     "output_type": "stream",
     "text": [
      "T-statistic: 8.384614718486121\n",
      "P-value: 1.1825550382644557e-14\n",
      "Reject the null hypothesis: Average user ratings differ between Action and Sports genres.\n"
     ]
    }
   ],
   "source": [
    "#Filter for user ratings for each platform\n",
    "action_ratings = latest_years[latest_years['genre'] == 'Action']['user_score']\n",
    "action_ratings = action_ratings.dropna()\n",
    "\n",
    "sports_ratings = latest_years[latest_years['genre'] == 'Sports']['user_score']\n",
    "sports_ratings = sports_ratings.dropna()\n",
    "\n",
    "t_stat, p_value = st.ttest_ind(action_ratings, sports_ratings, equal_var=False)\n",
    "\n",
    "print(f\"T-statistic: {t_stat}\")\n",
    "print(f\"P-value: {p_value}\")\n",
    "\n",
    "alpha = 0.05\n",
    "if p_value < alpha:\n",
    "    print(\"Reject the null hypothesis: Average user ratings differ between Action and Sports genres.\")\n",
    "else:\n",
    "    print(\"Fail to reject the null hypothesis: No significant difference in average user ratings between Action and Sports genres.\")"
   ]
  },
  {
   "cell_type": "markdown",
   "metadata": {},
   "source": [
    "I selected the null hypotheses to be where there is no difference between the two items being compared. The alternative hypothesis would be to have found that user ratings differ between Xbox One and PC, and that average user ratings differ between Action and Sports genres.\n",
    "\n",
    "I chose to set the alpha threshold at 0.05 because that is a widely accepted standard in hypothesis testing for critical statistical significance. If the p-value is less than the alpha, we reject the hypothesis."
   ]
  },
  {
   "cell_type": "markdown",
   "metadata": {},
   "source": [
    "### General Conclusion"
   ]
  },
  {
   "cell_type": "markdown",
   "metadata": {},
   "source": [
    "Step 1. In this project I examined the data for video game sales all over the world, becoming familiar with what the dataframe contained.\n",
    "\n",
    "Step 2. Then, I preprocessed the data by changing column names to be properly formatted with all lowercase letters and filled in missing values according to each column. I also checked the data types of each column and changed the 'year_of_release' and 'user_score' columns to be numeric. I added a column that contained the total sales for all of the regions. Finally, I checked to be sure there were no duplicate entries.\n",
    "\n",
    "Step 3. To analyze the data, first I looked at the distribution of games sales over the years. Sales peaked around 2008-2009, and there were not a significant amount of games sold before 1995.\n",
    "    \n",
    "I also found the top performing platforms and looked at the distribution of sales for those top six platforms. I found that platforms seem to have a life of around 10 years before they are replaced by new platforms. Sales are heavily affected by the release of newer platforms. \n",
    "    \n",
    "Sales have been declining since around 2014, which could mean that different platforms have been released. 3DS is the only platform from 2015-16 to have sales increase, so that could be a great platform to focus on marketing for 2017. The PS4 and XOne are two other platforms that still have significant sales in 2015-16, indicating that customers may still be interested in these platforms.\n",
    "   \n",
    "I also created a boxplot exploring the global sales of all platforms and found that there is a significant difference in sales between platforms. GB and PS4 stand out as having the highest average sales globally.\n",
    "    \n",
    "When looking at the effect of professional and user reviews on the PS4, I created a scatterplot and found that shows that positive professional reviews do make a slight difference in sales. Calculating the correlation supported this finding.\n",
    "    \n",
    "I also created a pivot table to compare the sales of the same game sold on different platforms.\n",
    "    \n",
    "When looking at the distribution of games sold by genre, Shooter and Sports games have the highest sales, although far more Action games have been released. I would suggest that the Action market is saturated and it could be more profitable to focus on Shooter and Sports games. \n",
    "    \n",
    "Step 4. Then, I created a user profile for each region (NA, EU, and JP) to compare top platforms and genres as well as the affects of ESRB on sales in each region. I found that Japan sells a significantly lower amount of games than Europe and North America, which would lead me to not focus on that region for major marketing campaigns. At least, the marketing would need to have a different focus for Japan as the genres, platforms, and ratings all follow different patterns in Japan than Europe and North America, which have more similar patterns in types of games sold. Therefore, future marketing efforts might be able to be shared between North America and Europe. Action, Sports, and Shooter games are the top 3 selling genres in North America and Europe, where Role-playing, Action, and Fighting are the most popular genres in Japan.\n",
    "    \n",
    "Step 5. Finally, I tested two hypotheses and found that there is no difference in average user ratings between Xbox One and PC, but there is a significant difference in average user ratings between Action and Sports genres."
   ]
  }
 ],
 "metadata": {
  "ExecuteTimeLog": [
   {
    "duration": 434,
    "start_time": "2024-10-29T20:30:37.606Z"
   },
   {
    "duration": 34,
    "start_time": "2024-10-29T20:31:26.970Z"
   },
   {
    "duration": 2470,
    "start_time": "2024-10-29T20:33:35.642Z"
   },
   {
    "duration": 31,
    "start_time": "2024-10-29T20:33:41.825Z"
   },
   {
    "duration": 12,
    "start_time": "2024-10-29T20:34:04.881Z"
   },
   {
    "duration": 257,
    "start_time": "2024-10-29T20:34:14.179Z"
   },
   {
    "duration": 4,
    "start_time": "2024-10-29T20:34:23.678Z"
   },
   {
    "duration": 11,
    "start_time": "2024-10-29T20:34:42.147Z"
   },
   {
    "duration": 16,
    "start_time": "2024-10-29T20:43:10.966Z"
   },
   {
    "duration": 964,
    "start_time": "2024-10-29T20:48:28.388Z"
   },
   {
    "duration": 3,
    "start_time": "2024-10-29T20:49:30.863Z"
   },
   {
    "duration": 6,
    "start_time": "2024-10-29T20:51:38.886Z"
   },
   {
    "duration": 15,
    "start_time": "2024-10-29T21:03:32.401Z"
   },
   {
    "duration": 6,
    "start_time": "2024-10-29T21:04:06.792Z"
   },
   {
    "duration": 5,
    "start_time": "2024-10-29T21:07:02.322Z"
   },
   {
    "duration": 15,
    "start_time": "2024-10-29T21:08:18.183Z"
   },
   {
    "duration": 14,
    "start_time": "2024-10-29T21:08:40.294Z"
   },
   {
    "duration": 15,
    "start_time": "2024-10-29T21:08:56.214Z"
   },
   {
    "duration": 6,
    "start_time": "2024-10-29T21:12:15.106Z"
   },
   {
    "duration": 8,
    "start_time": "2024-10-29T21:12:36.317Z"
   },
   {
    "duration": 2497,
    "start_time": "2024-10-29T22:46:39.204Z"
   },
   {
    "duration": 35,
    "start_time": "2024-10-29T22:46:41.704Z"
   },
   {
    "duration": 14,
    "start_time": "2024-10-29T22:46:41.740Z"
   },
   {
    "duration": 3,
    "start_time": "2024-10-29T22:46:41.756Z"
   },
   {
    "duration": 12,
    "start_time": "2024-10-29T22:46:41.761Z"
   },
   {
    "duration": 13,
    "start_time": "2024-10-29T22:46:41.774Z"
   },
   {
    "duration": 6,
    "start_time": "2024-10-29T22:46:41.789Z"
   },
   {
    "duration": 35,
    "start_time": "2024-10-29T22:46:41.797Z"
   },
   {
    "duration": 11,
    "start_time": "2024-10-29T22:48:29.618Z"
   },
   {
    "duration": 9,
    "start_time": "2024-10-29T22:48:50.320Z"
   },
   {
    "duration": 5,
    "start_time": "2024-10-29T22:54:32.924Z"
   },
   {
    "duration": 7,
    "start_time": "2024-10-29T22:54:38.307Z"
   },
   {
    "duration": 7,
    "start_time": "2024-10-29T23:22:13.536Z"
   },
   {
    "duration": 12,
    "start_time": "2024-10-29T23:22:58.298Z"
   },
   {
    "duration": 10,
    "start_time": "2024-10-29T23:23:40.709Z"
   },
   {
    "duration": 5,
    "start_time": "2024-10-29T23:23:52.377Z"
   },
   {
    "duration": 11,
    "start_time": "2024-10-29T23:24:04.130Z"
   },
   {
    "duration": 8,
    "start_time": "2024-10-29T23:26:35.937Z"
   },
   {
    "duration": 6,
    "start_time": "2024-10-29T23:32:06.665Z"
   },
   {
    "duration": 4,
    "start_time": "2024-10-29T23:33:12.831Z"
   },
   {
    "duration": 3,
    "start_time": "2024-10-29T23:33:32.371Z"
   },
   {
    "duration": 7,
    "start_time": "2024-10-29T23:33:43.832Z"
   },
   {
    "duration": 31,
    "start_time": "2024-10-29T23:37:07.114Z"
   },
   {
    "duration": 23,
    "start_time": "2024-10-29T23:37:31.691Z"
   },
   {
    "duration": 24,
    "start_time": "2024-10-29T23:38:41.306Z"
   },
   {
    "duration": 3,
    "start_time": "2024-10-29T23:39:07.061Z"
   },
   {
    "duration": 5,
    "start_time": "2024-10-29T23:39:16.588Z"
   },
   {
    "duration": 3,
    "start_time": "2024-10-29T23:39:26.733Z"
   },
   {
    "duration": 3,
    "start_time": "2024-10-29T23:39:29.702Z"
   },
   {
    "duration": 214,
    "start_time": "2024-10-29T23:39:33.660Z"
   },
   {
    "duration": 5,
    "start_time": "2024-10-29T23:39:41.377Z"
   },
   {
    "duration": 24,
    "start_time": "2024-10-29T23:42:19.913Z"
   },
   {
    "duration": 15,
    "start_time": "2024-10-29T23:42:35.012Z"
   },
   {
    "duration": 4,
    "start_time": "2024-10-29T23:44:36.199Z"
   },
   {
    "duration": 13,
    "start_time": "2024-10-29T23:48:03.456Z"
   },
   {
    "duration": 15,
    "start_time": "2024-10-29T23:48:23.138Z"
   },
   {
    "duration": 5,
    "start_time": "2024-10-29T23:52:01.934Z"
   },
   {
    "duration": 26,
    "start_time": "2024-10-29T23:52:08.502Z"
   },
   {
    "duration": 16,
    "start_time": "2024-10-29T23:53:01.802Z"
   },
   {
    "duration": 13,
    "start_time": "2024-10-29T23:53:46.535Z"
   },
   {
    "duration": 25,
    "start_time": "2024-10-29T23:56:32.567Z"
   },
   {
    "duration": 17,
    "start_time": "2024-10-29T23:56:38.066Z"
   },
   {
    "duration": 11,
    "start_time": "2024-10-29T23:56:42.812Z"
   },
   {
    "duration": 24,
    "start_time": "2024-10-29T23:56:59.142Z"
   },
   {
    "duration": 16,
    "start_time": "2024-10-29T23:57:05.406Z"
   },
   {
    "duration": 11,
    "start_time": "2024-10-29T23:57:15.121Z"
   },
   {
    "duration": 739,
    "start_time": "2024-10-29T23:57:22.818Z"
   },
   {
    "duration": 34,
    "start_time": "2024-10-29T23:57:23.559Z"
   },
   {
    "duration": 13,
    "start_time": "2024-10-29T23:57:23.595Z"
   },
   {
    "duration": 4,
    "start_time": "2024-10-29T23:57:23.609Z"
   },
   {
    "duration": 30,
    "start_time": "2024-10-29T23:57:23.616Z"
   },
   {
    "duration": 15,
    "start_time": "2024-10-29T23:57:23.648Z"
   },
   {
    "duration": 6,
    "start_time": "2024-10-29T23:57:23.665Z"
   },
   {
    "duration": 27,
    "start_time": "2024-10-29T23:57:23.673Z"
   },
   {
    "duration": 32,
    "start_time": "2024-10-29T23:57:23.701Z"
   },
   {
    "duration": 11,
    "start_time": "2024-10-29T23:57:23.735Z"
   },
   {
    "duration": 12,
    "start_time": "2024-10-30T00:08:31.912Z"
   },
   {
    "duration": 22,
    "start_time": "2024-10-30T00:19:06.814Z"
   },
   {
    "duration": 757,
    "start_time": "2024-10-30T00:19:26.288Z"
   },
   {
    "duration": 24,
    "start_time": "2024-10-30T00:19:27.047Z"
   },
   {
    "duration": 13,
    "start_time": "2024-10-30T00:19:27.072Z"
   },
   {
    "duration": 3,
    "start_time": "2024-10-30T00:19:27.087Z"
   },
   {
    "duration": 11,
    "start_time": "2024-10-30T00:19:27.093Z"
   },
   {
    "duration": 34,
    "start_time": "2024-10-30T00:19:27.105Z"
   },
   {
    "duration": 5,
    "start_time": "2024-10-30T00:19:27.141Z"
   },
   {
    "duration": 22,
    "start_time": "2024-10-30T00:19:27.148Z"
   },
   {
    "duration": 16,
    "start_time": "2024-10-30T00:19:27.171Z"
   },
   {
    "duration": 13,
    "start_time": "2024-10-30T00:19:27.188Z"
   },
   {
    "duration": 4,
    "start_time": "2024-10-30T00:20:40.540Z"
   },
   {
    "duration": 6,
    "start_time": "2024-10-30T00:21:26.581Z"
   },
   {
    "duration": 228,
    "start_time": "2024-10-30T00:23:14.739Z"
   },
   {
    "duration": 10,
    "start_time": "2024-10-30T00:28:14.854Z"
   },
   {
    "duration": 284,
    "start_time": "2024-10-30T00:32:24.688Z"
   },
   {
    "duration": 26,
    "start_time": "2024-10-30T00:32:34.732Z"
   },
   {
    "duration": 17,
    "start_time": "2024-10-30T00:32:53.412Z"
   },
   {
    "duration": 303,
    "start_time": "2024-10-30T00:35:31.683Z"
   },
   {
    "duration": 499,
    "start_time": "2024-10-30T00:35:52.937Z"
   },
   {
    "duration": 67,
    "start_time": "2024-10-30T00:38:46.336Z"
   },
   {
    "duration": 179,
    "start_time": "2024-10-30T00:39:09.584Z"
   },
   {
    "duration": 34,
    "start_time": "2024-10-30T00:39:33.196Z"
   },
   {
    "duration": 259,
    "start_time": "2024-10-30T00:39:53.175Z"
   },
   {
    "duration": 38,
    "start_time": "2024-10-30T00:40:08.518Z"
   },
   {
    "duration": 15,
    "start_time": "2024-10-30T01:02:53.269Z"
   },
   {
    "duration": 23,
    "start_time": "2024-10-30T01:08:09.300Z"
   },
   {
    "duration": 23,
    "start_time": "2024-10-30T01:10:28.668Z"
   },
   {
    "duration": 2,
    "start_time": "2024-10-30T01:13:36.386Z"
   },
   {
    "duration": 23,
    "start_time": "2024-10-30T01:13:40.415Z"
   },
   {
    "duration": 817,
    "start_time": "2024-10-30T01:13:56.191Z"
   },
   {
    "duration": 29,
    "start_time": "2024-10-30T01:13:57.010Z"
   },
   {
    "duration": 15,
    "start_time": "2024-10-30T01:13:57.041Z"
   },
   {
    "duration": 3,
    "start_time": "2024-10-30T01:13:57.058Z"
   },
   {
    "duration": 13,
    "start_time": "2024-10-30T01:13:57.064Z"
   },
   {
    "duration": 13,
    "start_time": "2024-10-30T01:13:57.079Z"
   },
   {
    "duration": 5,
    "start_time": "2024-10-30T01:13:57.095Z"
   },
   {
    "duration": 24,
    "start_time": "2024-10-30T01:13:57.132Z"
   },
   {
    "duration": 15,
    "start_time": "2024-10-30T01:13:57.157Z"
   },
   {
    "duration": 12,
    "start_time": "2024-10-30T01:13:57.174Z"
   },
   {
    "duration": 11,
    "start_time": "2024-10-30T01:13:57.188Z"
   },
   {
    "duration": 388,
    "start_time": "2024-10-30T01:13:57.201Z"
   },
   {
    "duration": 5,
    "start_time": "2024-10-30T01:13:57.591Z"
   },
   {
    "duration": 33,
    "start_time": "2024-10-30T01:13:57.599Z"
   },
   {
    "duration": 2,
    "start_time": "2024-10-30T01:13:57.634Z"
   },
   {
    "duration": 7,
    "start_time": "2024-10-30T01:14:39.492Z"
   },
   {
    "duration": 10,
    "start_time": "2024-10-30T01:15:28.922Z"
   },
   {
    "duration": 7,
    "start_time": "2024-10-30T01:16:16.533Z"
   },
   {
    "duration": 7,
    "start_time": "2024-10-30T01:18:37.100Z"
   },
   {
    "duration": 5,
    "start_time": "2024-10-30T01:24:27.859Z"
   },
   {
    "duration": 218,
    "start_time": "2024-10-30T01:24:55.133Z"
   },
   {
    "duration": 217,
    "start_time": "2024-10-30T01:26:06.457Z"
   },
   {
    "duration": 178,
    "start_time": "2024-10-30T01:36:06.839Z"
   },
   {
    "duration": 17,
    "start_time": "2024-10-30T01:36:37.239Z"
   },
   {
    "duration": 14,
    "start_time": "2024-10-30T01:38:22.836Z"
   },
   {
    "duration": 17,
    "start_time": "2024-10-30T01:39:16.863Z"
   },
   {
    "duration": 16,
    "start_time": "2024-10-30T01:39:41.653Z"
   },
   {
    "duration": 14,
    "start_time": "2024-10-30T01:39:58.219Z"
   },
   {
    "duration": 5,
    "start_time": "2024-10-30T01:40:48.860Z"
   },
   {
    "duration": 11,
    "start_time": "2024-10-30T01:40:59.643Z"
   },
   {
    "duration": 576,
    "start_time": "2024-10-30T01:43:29.728Z"
   },
   {
    "duration": 3,
    "start_time": "2024-10-30T01:44:39.448Z"
   },
   {
    "duration": 14,
    "start_time": "2024-10-30T01:45:37.042Z"
   },
   {
    "duration": 11,
    "start_time": "2024-10-30T01:46:24.383Z"
   },
   {
    "duration": 11,
    "start_time": "2024-10-30T01:46:52.937Z"
   },
   {
    "duration": 4,
    "start_time": "2024-10-30T01:49:13.291Z"
   },
   {
    "duration": 18,
    "start_time": "2024-10-30T01:49:24.156Z"
   },
   {
    "duration": 26,
    "start_time": "2024-10-30T01:49:42.809Z"
   },
   {
    "duration": 16,
    "start_time": "2024-10-30T01:50:00.748Z"
   },
   {
    "duration": 759,
    "start_time": "2024-10-30T01:54:38.488Z"
   },
   {
    "duration": 113,
    "start_time": "2024-10-30T01:55:12.224Z"
   },
   {
    "duration": 107,
    "start_time": "2024-10-30T01:56:27.902Z"
   },
   {
    "duration": 114,
    "start_time": "2024-10-30T01:57:47.431Z"
   },
   {
    "duration": 23,
    "start_time": "2024-10-30T02:15:18.984Z"
   },
   {
    "duration": 2,
    "start_time": "2024-10-30T02:15:37.791Z"
   },
   {
    "duration": 17,
    "start_time": "2024-10-30T02:24:04.864Z"
   },
   {
    "duration": 116,
    "start_time": "2024-10-30T02:24:34.126Z"
   },
   {
    "duration": 21,
    "start_time": "2024-10-30T02:55:51.770Z"
   },
   {
    "duration": 745,
    "start_time": "2024-10-30T03:03:07.543Z"
   },
   {
    "duration": 83,
    "start_time": "2024-10-30T03:04:21.068Z"
   },
   {
    "duration": 5,
    "start_time": "2024-10-30T03:05:02.299Z"
   },
   {
    "duration": 12,
    "start_time": "2024-10-30T03:05:13.071Z"
   },
   {
    "duration": 1052,
    "start_time": "2024-10-30T03:07:36.481Z"
   },
   {
    "duration": 1112,
    "start_time": "2024-10-30T03:08:08.636Z"
   },
   {
    "duration": 1059,
    "start_time": "2024-10-30T03:14:35.208Z"
   },
   {
    "duration": 12,
    "start_time": "2024-10-30T03:23:47.425Z"
   },
   {
    "duration": 196,
    "start_time": "2024-10-30T03:28:33.076Z"
   },
   {
    "duration": 1087,
    "start_time": "2024-10-30T03:28:55.151Z"
   },
   {
    "duration": 1136,
    "start_time": "2024-10-30T03:29:09.499Z"
   },
   {
    "duration": 5,
    "start_time": "2024-10-30T03:44:28.948Z"
   },
   {
    "duration": 489,
    "start_time": "2024-10-30T03:49:44.253Z"
   },
   {
    "duration": 419,
    "start_time": "2024-10-30T03:50:04.107Z"
   },
   {
    "duration": 253,
    "start_time": "2024-10-30T03:50:58.452Z"
   },
   {
    "duration": 271,
    "start_time": "2024-10-30T03:51:23.979Z"
   },
   {
    "duration": 266,
    "start_time": "2024-10-30T03:53:10.947Z"
   },
   {
    "duration": 1025,
    "start_time": "2024-10-30T03:59:00.680Z"
   },
   {
    "duration": 1123,
    "start_time": "2024-10-30T03:59:12.420Z"
   },
   {
    "duration": 4,
    "start_time": "2024-10-30T04:05:33.920Z"
   },
   {
    "duration": 2984,
    "start_time": "2024-10-30T17:39:57.072Z"
   },
   {
    "duration": 45,
    "start_time": "2024-10-30T17:40:00.059Z"
   },
   {
    "duration": 15,
    "start_time": "2024-10-30T17:40:00.106Z"
   },
   {
    "duration": 4,
    "start_time": "2024-10-30T17:40:00.124Z"
   },
   {
    "duration": 24,
    "start_time": "2024-10-30T17:40:00.130Z"
   },
   {
    "duration": 14,
    "start_time": "2024-10-30T17:40:00.157Z"
   },
   {
    "duration": 7,
    "start_time": "2024-10-30T17:40:00.173Z"
   },
   {
    "duration": 32,
    "start_time": "2024-10-30T17:40:00.182Z"
   },
   {
    "duration": 38,
    "start_time": "2024-10-30T17:40:00.216Z"
   },
   {
    "duration": 16,
    "start_time": "2024-10-30T17:40:00.257Z"
   },
   {
    "duration": 13,
    "start_time": "2024-10-30T17:40:00.275Z"
   },
   {
    "duration": 435,
    "start_time": "2024-10-30T17:40:00.290Z"
   },
   {
    "duration": 22,
    "start_time": "2024-10-30T17:40:00.727Z"
   },
   {
    "duration": 287,
    "start_time": "2024-10-30T17:40:00.751Z"
   },
   {
    "duration": 1090,
    "start_time": "2024-10-30T17:40:01.044Z"
   },
   {
    "duration": 4,
    "start_time": "2024-10-30T17:40:02.143Z"
   },
   {
    "duration": 309,
    "start_time": "2024-10-30T17:40:02.149Z"
   },
   {
    "duration": 24,
    "start_time": "2024-10-30T17:40:02.464Z"
   },
   {
    "duration": 4,
    "start_time": "2024-10-30T17:40:02.490Z"
   },
   {
    "duration": 1094,
    "start_time": "2024-10-30T17:40:22.843Z"
   },
   {
    "duration": 5,
    "start_time": "2024-10-30T17:42:39.302Z"
   },
   {
    "duration": 1143,
    "start_time": "2024-10-30T17:42:40.675Z"
   },
   {
    "duration": 302,
    "start_time": "2024-10-30T17:43:03.657Z"
   },
   {
    "duration": 1094,
    "start_time": "2024-10-30T17:43:19.992Z"
   },
   {
    "duration": 280,
    "start_time": "2024-10-30T17:58:44.573Z"
   },
   {
    "duration": 19,
    "start_time": "2024-10-30T17:59:02.483Z"
   },
   {
    "duration": 127,
    "start_time": "2024-10-30T18:05:02.945Z"
   },
   {
    "duration": 699,
    "start_time": "2024-10-30T18:07:11.047Z"
   },
   {
    "duration": 250,
    "start_time": "2024-10-30T18:09:02.692Z"
   },
   {
    "duration": 148,
    "start_time": "2024-10-30T18:10:04.547Z"
   },
   {
    "duration": 131,
    "start_time": "2024-10-30T18:27:24.942Z"
   },
   {
    "duration": 5,
    "start_time": "2024-10-30T18:39:44.671Z"
   },
   {
    "duration": 357,
    "start_time": "2024-10-30T18:40:30.167Z"
   },
   {
    "duration": 326,
    "start_time": "2024-10-30T18:40:47.521Z"
   },
   {
    "duration": 18,
    "start_time": "2024-10-30T18:43:36.364Z"
   },
   {
    "duration": 11,
    "start_time": "2024-10-30T18:43:49.276Z"
   },
   {
    "duration": 14,
    "start_time": "2024-10-30T18:44:44.152Z"
   },
   {
    "duration": 327,
    "start_time": "2024-10-30T18:44:51.996Z"
   },
   {
    "duration": 303,
    "start_time": "2024-10-30T18:45:46.443Z"
   },
   {
    "duration": 342,
    "start_time": "2024-10-30T18:46:15.137Z"
   },
   {
    "duration": 303,
    "start_time": "2024-10-30T18:46:59.679Z"
   },
   {
    "duration": 215,
    "start_time": "2024-10-30T19:01:37.506Z"
   },
   {
    "duration": 252,
    "start_time": "2024-10-30T19:02:39.094Z"
   },
   {
    "duration": 159,
    "start_time": "2024-10-30T20:22:56.445Z"
   },
   {
    "duration": 2824,
    "start_time": "2024-10-30T20:23:07.195Z"
   },
   {
    "duration": 35,
    "start_time": "2024-10-30T20:23:10.021Z"
   },
   {
    "duration": 13,
    "start_time": "2024-10-30T20:23:10.058Z"
   },
   {
    "duration": 4,
    "start_time": "2024-10-30T20:23:10.072Z"
   },
   {
    "duration": 10,
    "start_time": "2024-10-30T20:23:10.079Z"
   },
   {
    "duration": 22,
    "start_time": "2024-10-30T20:23:10.091Z"
   },
   {
    "duration": 5,
    "start_time": "2024-10-30T20:23:10.115Z"
   },
   {
    "duration": 23,
    "start_time": "2024-10-30T20:23:10.121Z"
   },
   {
    "duration": 15,
    "start_time": "2024-10-30T20:23:10.147Z"
   },
   {
    "duration": 42,
    "start_time": "2024-10-30T20:23:10.163Z"
   },
   {
    "duration": 12,
    "start_time": "2024-10-30T20:23:10.207Z"
   },
   {
    "duration": 375,
    "start_time": "2024-10-30T20:23:10.220Z"
   },
   {
    "duration": 13,
    "start_time": "2024-10-30T20:23:10.597Z"
   },
   {
    "duration": 245,
    "start_time": "2024-10-30T20:23:10.613Z"
   },
   {
    "duration": 1092,
    "start_time": "2024-10-30T20:23:10.860Z"
   },
   {
    "duration": 5,
    "start_time": "2024-10-30T20:23:11.954Z"
   },
   {
    "duration": 1093,
    "start_time": "2024-10-30T20:23:11.961Z"
   },
   {
    "duration": 126,
    "start_time": "2024-10-30T20:23:13.056Z"
   },
   {
    "duration": 12,
    "start_time": "2024-10-30T20:23:13.184Z"
   },
   {
    "duration": 222,
    "start_time": "2024-10-30T20:23:13.197Z"
   },
   {
    "duration": 24,
    "start_time": "2024-10-30T20:23:13.421Z"
   },
   {
    "duration": 3,
    "start_time": "2024-10-30T20:23:13.446Z"
   },
   {
    "duration": 7,
    "start_time": "2024-10-30T20:24:30.714Z"
   },
   {
    "duration": 9,
    "start_time": "2024-10-30T20:25:12.085Z"
   },
   {
    "duration": 9,
    "start_time": "2024-10-30T20:26:17.282Z"
   },
   {
    "duration": 202,
    "start_time": "2024-10-30T20:26:59.376Z"
   },
   {
    "duration": 9,
    "start_time": "2024-10-30T20:27:07.139Z"
   },
   {
    "duration": 314,
    "start_time": "2024-10-30T20:27:24.991Z"
   },
   {
    "duration": 227,
    "start_time": "2024-10-30T20:29:05.032Z"
   },
   {
    "duration": 231,
    "start_time": "2024-10-30T20:29:47.154Z"
   },
   {
    "duration": 225,
    "start_time": "2024-10-30T20:30:00.240Z"
   },
   {
    "duration": 10,
    "start_time": "2024-10-30T20:30:06.911Z"
   },
   {
    "duration": 271,
    "start_time": "2024-10-30T20:30:26.871Z"
   },
   {
    "duration": 8,
    "start_time": "2024-10-30T20:30:39.596Z"
   },
   {
    "duration": 17,
    "start_time": "2024-10-30T20:42:43.201Z"
   },
   {
    "duration": 24,
    "start_time": "2024-10-30T20:46:31.520Z"
   },
   {
    "duration": 23,
    "start_time": "2024-10-30T20:46:47.892Z"
   },
   {
    "duration": 4,
    "start_time": "2024-10-30T21:02:40.627Z"
   },
   {
    "duration": 112,
    "start_time": "2024-10-30T21:02:47.257Z"
   },
   {
    "duration": 14,
    "start_time": "2024-10-30T21:02:56.840Z"
   },
   {
    "duration": 777,
    "start_time": "2024-10-30T21:11:23.799Z"
   },
   {
    "duration": 909,
    "start_time": "2024-10-30T21:11:37.704Z"
   },
   {
    "duration": 974,
    "start_time": "2024-10-30T21:12:13.307Z"
   },
   {
    "duration": 803,
    "start_time": "2024-10-30T21:14:40.789Z"
   },
   {
    "duration": 1016,
    "start_time": "2024-10-30T21:15:43.974Z"
   },
   {
    "duration": 1022,
    "start_time": "2024-10-30T21:16:08.727Z"
   },
   {
    "duration": 861,
    "start_time": "2024-10-30T21:18:07.455Z"
   },
   {
    "duration": 32,
    "start_time": "2024-10-30T21:32:38.273Z"
   },
   {
    "duration": 42,
    "start_time": "2024-10-30T21:32:48.650Z"
   },
   {
    "duration": 33,
    "start_time": "2024-10-30T21:35:41.130Z"
   },
   {
    "duration": 8,
    "start_time": "2024-10-30T21:36:13.351Z"
   },
   {
    "duration": 4,
    "start_time": "2024-10-30T21:37:00.352Z"
   },
   {
    "duration": 4,
    "start_time": "2024-10-30T21:37:23.395Z"
   },
   {
    "duration": 4,
    "start_time": "2024-10-30T21:37:55.234Z"
   },
   {
    "duration": 394,
    "start_time": "2024-10-30T21:38:06.066Z"
   },
   {
    "duration": 1201,
    "start_time": "2024-10-30T21:48:12.360Z"
   },
   {
    "duration": 33,
    "start_time": "2024-10-30T21:48:59.982Z"
   },
   {
    "duration": 37,
    "start_time": "2024-10-30T21:49:56.576Z"
   },
   {
    "duration": 47,
    "start_time": "2024-10-30T21:52:18.390Z"
   },
   {
    "duration": 41,
    "start_time": "2024-10-30T21:54:34.870Z"
   },
   {
    "duration": 19,
    "start_time": "2024-10-30T22:13:10.894Z"
   },
   {
    "duration": 21,
    "start_time": "2024-10-30T22:14:03.762Z"
   },
   {
    "duration": 4,
    "start_time": "2024-10-30T22:14:36.989Z"
   },
   {
    "duration": 4,
    "start_time": "2024-10-30T22:14:53.766Z"
   },
   {
    "duration": 18,
    "start_time": "2024-10-30T22:15:02.256Z"
   },
   {
    "duration": 222,
    "start_time": "2024-10-30T22:22:22.745Z"
   },
   {
    "duration": 18,
    "start_time": "2024-10-30T22:22:40.751Z"
   },
   {
    "duration": 142,
    "start_time": "2024-10-30T22:27:28.857Z"
   },
   {
    "duration": 154,
    "start_time": "2024-10-30T22:28:02.341Z"
   },
   {
    "duration": 5,
    "start_time": "2024-10-30T22:31:06.063Z"
   },
   {
    "duration": 142,
    "start_time": "2024-10-30T23:06:05.667Z"
   },
   {
    "duration": 4,
    "start_time": "2024-10-30T23:07:05.974Z"
   },
   {
    "duration": 367,
    "start_time": "2024-10-30T23:22:35.333Z"
   },
   {
    "duration": 18,
    "start_time": "2024-10-30T23:23:01.495Z"
   },
   {
    "duration": 12,
    "start_time": "2024-10-30T23:23:10.806Z"
   },
   {
    "duration": 14,
    "start_time": "2024-10-30T23:23:36.972Z"
   },
   {
    "duration": 12,
    "start_time": "2024-10-30T23:23:46.468Z"
   },
   {
    "duration": 8,
    "start_time": "2024-10-30T23:24:18.669Z"
   },
   {
    "duration": 8,
    "start_time": "2024-10-30T23:25:09.554Z"
   },
   {
    "duration": 4,
    "start_time": "2024-10-30T23:27:48.998Z"
   },
   {
    "duration": 20,
    "start_time": "2024-10-30T23:28:59.223Z"
   },
   {
    "duration": 13,
    "start_time": "2024-10-30T23:29:52.193Z"
   },
   {
    "duration": 853,
    "start_time": "2024-10-30T23:32:00.366Z"
   },
   {
    "duration": 24,
    "start_time": "2024-10-30T23:32:01.222Z"
   },
   {
    "duration": 20,
    "start_time": "2024-10-30T23:32:01.248Z"
   },
   {
    "duration": 7,
    "start_time": "2024-10-30T23:32:01.270Z"
   },
   {
    "duration": 31,
    "start_time": "2024-10-30T23:32:01.279Z"
   },
   {
    "duration": 11,
    "start_time": "2024-10-30T23:32:01.312Z"
   },
   {
    "duration": 6,
    "start_time": "2024-10-30T23:32:01.324Z"
   },
   {
    "duration": 22,
    "start_time": "2024-10-30T23:32:01.332Z"
   },
   {
    "duration": 150,
    "start_time": "2024-10-30T23:32:01.356Z"
   },
   {
    "duration": 0,
    "start_time": "2024-10-30T23:32:01.509Z"
   },
   {
    "duration": 0,
    "start_time": "2024-10-30T23:32:01.510Z"
   },
   {
    "duration": 0,
    "start_time": "2024-10-30T23:32:01.512Z"
   },
   {
    "duration": 1,
    "start_time": "2024-10-30T23:32:01.513Z"
   },
   {
    "duration": 0,
    "start_time": "2024-10-30T23:32:01.514Z"
   },
   {
    "duration": 0,
    "start_time": "2024-10-30T23:32:01.515Z"
   },
   {
    "duration": 0,
    "start_time": "2024-10-30T23:32:01.516Z"
   },
   {
    "duration": 0,
    "start_time": "2024-10-30T23:32:01.518Z"
   },
   {
    "duration": 0,
    "start_time": "2024-10-30T23:32:01.519Z"
   },
   {
    "duration": 0,
    "start_time": "2024-10-30T23:32:01.520Z"
   },
   {
    "duration": 0,
    "start_time": "2024-10-30T23:32:01.522Z"
   },
   {
    "duration": 0,
    "start_time": "2024-10-30T23:32:01.523Z"
   },
   {
    "duration": 0,
    "start_time": "2024-10-30T23:32:01.524Z"
   },
   {
    "duration": 0,
    "start_time": "2024-10-30T23:32:01.525Z"
   },
   {
    "duration": 0,
    "start_time": "2024-10-30T23:32:01.526Z"
   },
   {
    "duration": 0,
    "start_time": "2024-10-30T23:32:01.527Z"
   },
   {
    "duration": 0,
    "start_time": "2024-10-30T23:32:01.529Z"
   },
   {
    "duration": 0,
    "start_time": "2024-10-30T23:32:01.531Z"
   },
   {
    "duration": 0,
    "start_time": "2024-10-30T23:32:01.534Z"
   },
   {
    "duration": 0,
    "start_time": "2024-10-30T23:32:01.535Z"
   },
   {
    "duration": 13,
    "start_time": "2024-10-30T23:32:50.929Z"
   },
   {
    "duration": 15,
    "start_time": "2024-10-30T23:33:03.133Z"
   },
   {
    "duration": 16,
    "start_time": "2024-10-30T23:33:28.509Z"
   },
   {
    "duration": 13,
    "start_time": "2024-10-30T23:33:42.534Z"
   },
   {
    "duration": 13,
    "start_time": "2024-10-30T23:33:47.847Z"
   },
   {
    "duration": 338,
    "start_time": "2024-10-30T23:33:58.258Z"
   },
   {
    "duration": 12,
    "start_time": "2024-10-30T23:34:18.859Z"
   },
   {
    "duration": 206,
    "start_time": "2024-10-30T23:34:29.370Z"
   },
   {
    "duration": 1020,
    "start_time": "2024-10-30T23:34:47.410Z"
   },
   {
    "duration": 3,
    "start_time": "2024-10-30T23:35:45.699Z"
   },
   {
    "duration": 1012,
    "start_time": "2024-10-30T23:35:47.190Z"
   },
   {
    "duration": 180,
    "start_time": "2024-10-30T23:35:58.491Z"
   },
   {
    "duration": 13,
    "start_time": "2024-10-30T23:36:02.540Z"
   },
   {
    "duration": 222,
    "start_time": "2024-10-30T23:36:10.069Z"
   },
   {
    "duration": 842,
    "start_time": "2024-10-30T23:36:26.741Z"
   },
   {
    "duration": 31,
    "start_time": "2024-10-30T23:37:36.154Z"
   },
   {
    "duration": 142,
    "start_time": "2024-10-30T23:37:40.996Z"
   },
   {
    "duration": 3,
    "start_time": "2024-10-30T23:37:44.243Z"
   },
   {
    "duration": 10,
    "start_time": "2024-10-30T23:37:47.095Z"
   },
   {
    "duration": 14,
    "start_time": "2024-10-30T23:38:29.925Z"
   },
   {
    "duration": 17,
    "start_time": "2024-10-30T23:39:57.174Z"
   },
   {
    "duration": 265,
    "start_time": "2024-10-30T23:42:37.135Z"
   },
   {
    "duration": 17,
    "start_time": "2024-10-30T23:42:51.175Z"
   },
   {
    "duration": 32,
    "start_time": "2024-10-30T23:44:35.137Z"
   },
   {
    "duration": 26,
    "start_time": "2024-10-30T23:46:56.765Z"
   },
   {
    "duration": 36,
    "start_time": "2024-10-30T23:48:20.674Z"
   },
   {
    "duration": 2558,
    "start_time": "2024-10-30T23:48:35.718Z"
   },
   {
    "duration": 28,
    "start_time": "2024-10-31T00:02:12.103Z"
   },
   {
    "duration": 8,
    "start_time": "2024-10-31T00:02:24.353Z"
   },
   {
    "duration": 10,
    "start_time": "2024-10-31T00:02:31.889Z"
   },
   {
    "duration": 37,
    "start_time": "2024-10-31T00:03:15.488Z"
   },
   {
    "duration": 4,
    "start_time": "2024-10-31T00:22:12.688Z"
   },
   {
    "duration": 4,
    "start_time": "2024-10-31T00:22:29.964Z"
   },
   {
    "duration": 7,
    "start_time": "2024-10-31T00:26:38.964Z"
   },
   {
    "duration": 6,
    "start_time": "2024-10-31T00:28:19.671Z"
   },
   {
    "duration": 1096,
    "start_time": "2024-10-31T00:29:32.074Z"
   },
   {
    "duration": 380,
    "start_time": "2024-10-31T00:35:07.495Z"
   },
   {
    "duration": 1069,
    "start_time": "2024-10-31T00:36:13.581Z"
   },
   {
    "duration": 364,
    "start_time": "2024-10-31T00:37:57.356Z"
   },
   {
    "duration": 526,
    "start_time": "2024-10-31T00:38:22.295Z"
   },
   {
    "duration": 5,
    "start_time": "2024-10-31T00:53:29.672Z"
   },
   {
    "duration": 5,
    "start_time": "2024-10-31T00:56:50.050Z"
   },
   {
    "duration": 15,
    "start_time": "2024-10-31T00:57:41.214Z"
   },
   {
    "duration": 5,
    "start_time": "2024-10-31T00:57:50.393Z"
   },
   {
    "duration": 6,
    "start_time": "2024-10-31T01:06:02.685Z"
   },
   {
    "duration": 4,
    "start_time": "2024-10-31T01:07:24.184Z"
   },
   {
    "duration": 7,
    "start_time": "2024-10-31T01:07:37.440Z"
   },
   {
    "duration": 3,
    "start_time": "2024-10-31T01:07:40.972Z"
   },
   {
    "duration": 7,
    "start_time": "2024-10-31T01:07:52.029Z"
   },
   {
    "duration": 4,
    "start_time": "2024-10-31T01:07:56.186Z"
   },
   {
    "duration": 8,
    "start_time": "2024-10-31T01:09:25.421Z"
   },
   {
    "duration": 4,
    "start_time": "2024-10-31T01:09:52.696Z"
   },
   {
    "duration": 17,
    "start_time": "2024-10-31T01:10:10.962Z"
   },
   {
    "duration": 5,
    "start_time": "2024-10-31T01:10:32.434Z"
   },
   {
    "duration": 7,
    "start_time": "2024-10-31T01:11:30.630Z"
   },
   {
    "duration": 145,
    "start_time": "2024-10-31T01:26:28.650Z"
   },
   {
    "duration": 4,
    "start_time": "2024-10-31T01:27:08.886Z"
   },
   {
    "duration": 2608,
    "start_time": "2024-10-31T18:00:43.310Z"
   },
   {
    "duration": 33,
    "start_time": "2024-10-31T18:00:45.920Z"
   },
   {
    "duration": 14,
    "start_time": "2024-10-31T18:00:45.954Z"
   },
   {
    "duration": 3,
    "start_time": "2024-10-31T18:00:45.971Z"
   },
   {
    "duration": 11,
    "start_time": "2024-10-31T18:00:45.976Z"
   },
   {
    "duration": 25,
    "start_time": "2024-10-31T18:00:45.989Z"
   },
   {
    "duration": 5,
    "start_time": "2024-10-31T18:00:46.015Z"
   },
   {
    "duration": 22,
    "start_time": "2024-10-31T18:00:46.021Z"
   },
   {
    "duration": 14,
    "start_time": "2024-10-31T18:00:46.044Z"
   },
   {
    "duration": 14,
    "start_time": "2024-10-31T18:00:46.060Z"
   },
   {
    "duration": 40,
    "start_time": "2024-10-31T18:00:46.075Z"
   },
   {
    "duration": 12,
    "start_time": "2024-10-31T18:00:46.117Z"
   },
   {
    "duration": 372,
    "start_time": "2024-10-31T18:00:46.131Z"
   },
   {
    "duration": 14,
    "start_time": "2024-10-31T18:00:46.505Z"
   },
   {
    "duration": 268,
    "start_time": "2024-10-31T18:00:46.520Z"
   },
   {
    "duration": 7,
    "start_time": "2024-10-31T18:00:46.791Z"
   },
   {
    "duration": 339,
    "start_time": "2024-10-31T18:00:46.800Z"
   },
   {
    "duration": 1089,
    "start_time": "2024-10-31T18:00:47.140Z"
   },
   {
    "duration": 7,
    "start_time": "2024-10-31T18:00:48.231Z"
   },
   {
    "duration": 4,
    "start_time": "2024-10-31T18:00:48.240Z"
   },
   {
    "duration": 1008,
    "start_time": "2024-10-31T18:00:48.246Z"
   },
   {
    "duration": 137,
    "start_time": "2024-10-31T18:00:49.256Z"
   },
   {
    "duration": 21,
    "start_time": "2024-10-31T18:00:49.395Z"
   },
   {
    "duration": 249,
    "start_time": "2024-10-31T18:00:49.417Z"
   },
   {
    "duration": 917,
    "start_time": "2024-10-31T18:00:49.669Z"
   },
   {
    "duration": 153,
    "start_time": "2024-10-31T18:00:50.588Z"
   },
   {
    "duration": 3,
    "start_time": "2024-10-31T18:00:50.743Z"
   },
   {
    "duration": 34,
    "start_time": "2024-10-31T18:00:50.750Z"
   },
   {
    "duration": 41,
    "start_time": "2024-10-31T18:00:50.786Z"
   },
   {
    "duration": 2,
    "start_time": "2024-10-31T18:00:50.828Z"
   },
   {
    "duration": 9,
    "start_time": "2024-10-31T18:02:03.911Z"
   },
   {
    "duration": 5,
    "start_time": "2024-10-31T18:06:05.015Z"
   },
   {
    "duration": 10,
    "start_time": "2024-10-31T18:06:36.608Z"
   },
   {
    "duration": 6,
    "start_time": "2024-10-31T18:06:55.034Z"
   },
   {
    "duration": 298,
    "start_time": "2024-10-31T18:11:04.821Z"
   },
   {
    "duration": 338,
    "start_time": "2024-10-31T18:11:40.878Z"
   },
   {
    "duration": 9,
    "start_time": "2024-10-31T19:24:33.679Z"
   },
   {
    "duration": 174,
    "start_time": "2024-10-31T19:24:42.994Z"
   },
   {
    "duration": 2794,
    "start_time": "2024-10-31T19:24:54.083Z"
   },
   {
    "duration": 36,
    "start_time": "2024-10-31T19:24:56.879Z"
   },
   {
    "duration": 13,
    "start_time": "2024-10-31T19:24:56.917Z"
   },
   {
    "duration": 4,
    "start_time": "2024-10-31T19:24:56.932Z"
   },
   {
    "duration": 11,
    "start_time": "2024-10-31T19:24:56.938Z"
   },
   {
    "duration": 12,
    "start_time": "2024-10-31T19:24:56.951Z"
   },
   {
    "duration": 5,
    "start_time": "2024-10-31T19:24:56.966Z"
   },
   {
    "duration": 51,
    "start_time": "2024-10-31T19:24:56.973Z"
   },
   {
    "duration": 15,
    "start_time": "2024-10-31T19:24:57.026Z"
   },
   {
    "duration": 14,
    "start_time": "2024-10-31T19:24:57.044Z"
   },
   {
    "duration": 14,
    "start_time": "2024-10-31T19:24:57.059Z"
   },
   {
    "duration": 37,
    "start_time": "2024-10-31T19:24:57.075Z"
   },
   {
    "duration": 413,
    "start_time": "2024-10-31T19:24:57.115Z"
   },
   {
    "duration": 13,
    "start_time": "2024-10-31T19:24:57.529Z"
   },
   {
    "duration": 266,
    "start_time": "2024-10-31T19:24:57.544Z"
   },
   {
    "duration": 9,
    "start_time": "2024-10-31T19:24:57.813Z"
   },
   {
    "duration": 382,
    "start_time": "2024-10-31T19:24:57.824Z"
   },
   {
    "duration": 1058,
    "start_time": "2024-10-31T19:24:58.207Z"
   },
   {
    "duration": 8,
    "start_time": "2024-10-31T19:24:59.268Z"
   },
   {
    "duration": 5,
    "start_time": "2024-10-31T19:24:59.277Z"
   },
   {
    "duration": 1189,
    "start_time": "2024-10-31T19:24:59.283Z"
   },
   {
    "duration": 122,
    "start_time": "2024-10-31T19:25:00.474Z"
   },
   {
    "duration": 23,
    "start_time": "2024-10-31T19:25:00.598Z"
   },
   {
    "duration": 258,
    "start_time": "2024-10-31T19:25:00.623Z"
   },
   {
    "duration": 914,
    "start_time": "2024-10-31T19:25:00.883Z"
   },
   {
    "duration": 185,
    "start_time": "2024-10-31T19:25:01.798Z"
   },
   {
    "duration": 4,
    "start_time": "2024-10-31T19:25:01.985Z"
   },
   {
    "duration": 49,
    "start_time": "2024-10-31T19:25:01.993Z"
   },
   {
    "duration": 346,
    "start_time": "2024-10-31T19:25:02.044Z"
   },
   {
    "duration": 32,
    "start_time": "2024-10-31T19:25:02.392Z"
   },
   {
    "duration": 2,
    "start_time": "2024-10-31T19:25:02.426Z"
   },
   {
    "duration": 289,
    "start_time": "2024-10-31T19:26:01.779Z"
   },
   {
    "duration": 150,
    "start_time": "2024-10-31T19:26:41.358Z"
   },
   {
    "duration": 141,
    "start_time": "2024-10-31T19:27:02.991Z"
   },
   {
    "duration": 5,
    "start_time": "2024-10-31T19:28:28.720Z"
   },
   {
    "duration": 11,
    "start_time": "2024-10-31T19:29:10.446Z"
   },
   {
    "duration": 2578,
    "start_time": "2024-11-01T21:21:34.253Z"
   },
   {
    "duration": 34,
    "start_time": "2024-11-01T21:21:36.834Z"
   },
   {
    "duration": 18,
    "start_time": "2024-11-01T21:21:36.869Z"
   },
   {
    "duration": 3,
    "start_time": "2024-11-01T21:21:36.889Z"
   },
   {
    "duration": 12,
    "start_time": "2024-11-01T21:21:36.893Z"
   },
   {
    "duration": 10,
    "start_time": "2024-11-01T21:21:36.906Z"
   },
   {
    "duration": 5,
    "start_time": "2024-11-01T21:21:36.918Z"
   },
   {
    "duration": 48,
    "start_time": "2024-11-01T21:21:36.924Z"
   },
   {
    "duration": 15,
    "start_time": "2024-11-01T21:21:36.974Z"
   },
   {
    "duration": 14,
    "start_time": "2024-11-01T21:21:36.992Z"
   },
   {
    "duration": 12,
    "start_time": "2024-11-01T21:21:37.009Z"
   },
   {
    "duration": 12,
    "start_time": "2024-11-01T21:21:37.022Z"
   },
   {
    "duration": 395,
    "start_time": "2024-11-01T21:21:37.037Z"
   },
   {
    "duration": 14,
    "start_time": "2024-11-01T21:21:37.434Z"
   },
   {
    "duration": 257,
    "start_time": "2024-11-01T21:21:37.450Z"
   },
   {
    "duration": 8,
    "start_time": "2024-11-01T21:21:37.709Z"
   },
   {
    "duration": 343,
    "start_time": "2024-11-01T21:21:37.719Z"
   },
   {
    "duration": 1028,
    "start_time": "2024-11-01T21:21:38.069Z"
   },
   {
    "duration": 8,
    "start_time": "2024-11-01T21:21:39.100Z"
   },
   {
    "duration": 4,
    "start_time": "2024-11-01T21:21:39.110Z"
   },
   {
    "duration": 1043,
    "start_time": "2024-11-01T21:21:39.116Z"
   },
   {
    "duration": 119,
    "start_time": "2024-11-01T21:21:40.161Z"
   },
   {
    "duration": 14,
    "start_time": "2024-11-01T21:21:40.282Z"
   },
   {
    "duration": 328,
    "start_time": "2024-11-01T21:21:40.298Z"
   },
   {
    "duration": 830,
    "start_time": "2024-11-01T21:21:40.628Z"
   },
   {
    "duration": 157,
    "start_time": "2024-11-01T21:21:41.460Z"
   },
   {
    "duration": 153,
    "start_time": "2024-11-01T21:21:41.619Z"
   },
   {
    "duration": 5,
    "start_time": "2024-11-01T21:21:41.776Z"
   },
   {
    "duration": 37,
    "start_time": "2024-11-01T21:21:41.783Z"
   },
   {
    "duration": 371,
    "start_time": "2024-11-01T21:21:41.822Z"
   },
   {
    "duration": 25,
    "start_time": "2024-11-01T21:21:42.195Z"
   },
   {
    "duration": 3,
    "start_time": "2024-11-01T21:21:42.221Z"
   },
   {
    "duration": 3,
    "start_time": "2024-11-01T21:40:16.367Z"
   },
   {
    "duration": 356,
    "start_time": "2024-11-01T21:40:29.400Z"
   },
   {
    "duration": 10,
    "start_time": "2024-11-01T21:41:31.512Z"
   },
   {
    "duration": 8,
    "start_time": "2024-11-01T21:48:48.140Z"
   },
   {
    "duration": 11,
    "start_time": "2024-11-01T21:50:27.802Z"
   },
   {
    "duration": 10,
    "start_time": "2024-11-01T21:54:38.346Z"
   },
   {
    "duration": 10,
    "start_time": "2024-11-01T21:57:16.862Z"
   },
   {
    "duration": 819,
    "start_time": "2024-11-01T22:00:24.217Z"
   },
   {
    "duration": 450,
    "start_time": "2024-11-01T22:01:03.758Z"
   },
   {
    "duration": 866,
    "start_time": "2024-11-01T22:01:26.385Z"
   },
   {
    "duration": 786,
    "start_time": "2024-11-01T22:01:44.962Z"
   },
   {
    "duration": 921,
    "start_time": "2024-11-01T22:02:03.724Z"
   },
   {
    "duration": 305,
    "start_time": "2024-11-01T22:02:12.998Z"
   },
   {
    "duration": 770,
    "start_time": "2024-11-01T22:02:22.414Z"
   },
   {
    "duration": 699,
    "start_time": "2024-11-01T22:02:37.531Z"
   },
   {
    "duration": 4,
    "start_time": "2024-11-01T22:12:14.495Z"
   },
   {
    "duration": 5,
    "start_time": "2024-11-01T22:13:45.802Z"
   },
   {
    "duration": 7,
    "start_time": "2024-11-01T22:14:21.264Z"
   },
   {
    "duration": 415,
    "start_time": "2024-11-01T22:16:40.462Z"
   },
   {
    "duration": 8,
    "start_time": "2024-11-01T22:17:00.524Z"
   },
   {
    "duration": 8,
    "start_time": "2024-11-01T22:17:28.558Z"
   },
   {
    "duration": 6,
    "start_time": "2024-11-01T22:17:39.033Z"
   },
   {
    "duration": 30,
    "start_time": "2024-11-01T22:18:12.299Z"
   },
   {
    "duration": 8,
    "start_time": "2024-11-01T22:18:41.151Z"
   },
   {
    "duration": 6,
    "start_time": "2024-11-01T22:19:02.965Z"
   },
   {
    "duration": 10,
    "start_time": "2024-11-01T22:20:55.111Z"
   },
   {
    "duration": 23,
    "start_time": "2024-11-01T22:24:33.603Z"
   },
   {
    "duration": 8,
    "start_time": "2024-11-01T22:25:09.581Z"
   },
   {
    "duration": 5,
    "start_time": "2024-11-01T22:27:58.196Z"
   },
   {
    "duration": 9,
    "start_time": "2024-11-01T22:30:16.600Z"
   },
   {
    "duration": 2615,
    "start_time": "2024-11-02T02:27:40.538Z"
   },
   {
    "duration": 36,
    "start_time": "2024-11-02T02:27:43.155Z"
   },
   {
    "duration": 14,
    "start_time": "2024-11-02T02:27:43.192Z"
   },
   {
    "duration": 3,
    "start_time": "2024-11-02T02:27:43.208Z"
   },
   {
    "duration": 11,
    "start_time": "2024-11-02T02:27:43.214Z"
   },
   {
    "duration": 23,
    "start_time": "2024-11-02T02:27:43.227Z"
   },
   {
    "duration": 6,
    "start_time": "2024-11-02T02:27:43.251Z"
   },
   {
    "duration": 22,
    "start_time": "2024-11-02T02:27:43.258Z"
   },
   {
    "duration": 15,
    "start_time": "2024-11-02T02:27:43.282Z"
   },
   {
    "duration": 13,
    "start_time": "2024-11-02T02:27:43.299Z"
   },
   {
    "duration": 39,
    "start_time": "2024-11-02T02:27:43.314Z"
   },
   {
    "duration": 12,
    "start_time": "2024-11-02T02:27:43.355Z"
   },
   {
    "duration": 367,
    "start_time": "2024-11-02T02:27:43.370Z"
   },
   {
    "duration": 11,
    "start_time": "2024-11-02T02:27:43.741Z"
   },
   {
    "duration": 238,
    "start_time": "2024-11-02T02:27:43.754Z"
   },
   {
    "duration": 7,
    "start_time": "2024-11-02T02:27:43.994Z"
   },
   {
    "duration": 351,
    "start_time": "2024-11-02T02:27:44.002Z"
   },
   {
    "duration": 1109,
    "start_time": "2024-11-02T02:27:44.354Z"
   },
   {
    "duration": 7,
    "start_time": "2024-11-02T02:27:45.465Z"
   },
   {
    "duration": 3,
    "start_time": "2024-11-02T02:27:45.473Z"
   },
   {
    "duration": 1023,
    "start_time": "2024-11-02T02:27:45.478Z"
   },
   {
    "duration": 194,
    "start_time": "2024-11-02T02:27:46.503Z"
   },
   {
    "duration": 12,
    "start_time": "2024-11-02T02:27:46.699Z"
   },
   {
    "duration": 254,
    "start_time": "2024-11-02T02:27:46.714Z"
   },
   {
    "duration": 871,
    "start_time": "2024-11-02T02:27:46.969Z"
   },
   {
    "duration": 152,
    "start_time": "2024-11-02T02:27:47.843Z"
   },
   {
    "duration": 153,
    "start_time": "2024-11-02T02:27:47.996Z"
   },
   {
    "duration": 4,
    "start_time": "2024-11-02T02:27:48.151Z"
   },
   {
    "duration": 36,
    "start_time": "2024-11-02T02:27:48.157Z"
   },
   {
    "duration": 368,
    "start_time": "2024-11-02T02:27:48.194Z"
   },
   {
    "duration": 17,
    "start_time": "2024-11-02T02:27:48.564Z"
   },
   {
    "duration": 14,
    "start_time": "2024-11-02T02:27:48.582Z"
   },
   {
    "duration": 11,
    "start_time": "2024-11-02T02:27:48.597Z"
   },
   {
    "duration": 34,
    "start_time": "2024-11-02T02:27:48.610Z"
   },
   {
    "duration": 1046,
    "start_time": "2024-11-02T02:27:48.646Z"
   },
   {
    "duration": 9,
    "start_time": "2024-11-02T02:27:49.694Z"
   },
   {
    "duration": 8,
    "start_time": "2024-11-02T02:27:49.704Z"
   },
   {
    "duration": 30,
    "start_time": "2024-11-02T02:30:49.467Z"
   },
   {
    "duration": 42,
    "start_time": "2024-11-02T02:31:51.635Z"
   },
   {
    "duration": 722,
    "start_time": "2024-11-02T02:38:00.882Z"
   },
   {
    "duration": 898,
    "start_time": "2024-11-02T02:38:24.170Z"
   },
   {
    "duration": 25,
    "start_time": "2024-11-02T02:38:25.070Z"
   },
   {
    "duration": 13,
    "start_time": "2024-11-02T02:38:25.097Z"
   },
   {
    "duration": 3,
    "start_time": "2024-11-02T02:38:25.113Z"
   },
   {
    "duration": 32,
    "start_time": "2024-11-02T02:38:25.117Z"
   },
   {
    "duration": 10,
    "start_time": "2024-11-02T02:38:25.151Z"
   },
   {
    "duration": 5,
    "start_time": "2024-11-02T02:38:25.164Z"
   },
   {
    "duration": 35,
    "start_time": "2024-11-02T02:38:25.172Z"
   },
   {
    "duration": 34,
    "start_time": "2024-11-02T02:38:25.209Z"
   },
   {
    "duration": 17,
    "start_time": "2024-11-02T02:38:25.246Z"
   },
   {
    "duration": 13,
    "start_time": "2024-11-02T02:38:25.265Z"
   },
   {
    "duration": 12,
    "start_time": "2024-11-02T02:38:25.279Z"
   },
   {
    "duration": 368,
    "start_time": "2024-11-02T02:38:25.293Z"
   },
   {
    "duration": 15,
    "start_time": "2024-11-02T02:38:25.664Z"
   },
   {
    "duration": 249,
    "start_time": "2024-11-02T02:38:25.681Z"
   },
   {
    "duration": 11,
    "start_time": "2024-11-02T02:38:25.933Z"
   },
   {
    "duration": 354,
    "start_time": "2024-11-02T02:38:25.945Z"
   },
   {
    "duration": 1095,
    "start_time": "2024-11-02T02:38:26.301Z"
   },
   {
    "duration": 7,
    "start_time": "2024-11-02T02:38:27.398Z"
   },
   {
    "duration": 3,
    "start_time": "2024-11-02T02:38:27.407Z"
   },
   {
    "duration": 1153,
    "start_time": "2024-11-02T02:38:27.411Z"
   },
   {
    "duration": 129,
    "start_time": "2024-11-02T02:38:28.566Z"
   },
   {
    "duration": 14,
    "start_time": "2024-11-02T02:38:28.697Z"
   },
   {
    "duration": 253,
    "start_time": "2024-11-02T02:38:28.713Z"
   },
   {
    "duration": 957,
    "start_time": "2024-11-02T02:38:28.968Z"
   },
   {
    "duration": 164,
    "start_time": "2024-11-02T02:38:29.927Z"
   },
   {
    "duration": 234,
    "start_time": "2024-11-02T02:38:30.093Z"
   },
   {
    "duration": 5,
    "start_time": "2024-11-02T02:38:30.331Z"
   },
   {
    "duration": 42,
    "start_time": "2024-11-02T02:38:30.337Z"
   },
   {
    "duration": 353,
    "start_time": "2024-11-02T02:38:30.381Z"
   },
   {
    "duration": 42,
    "start_time": "2024-11-02T02:38:30.736Z"
   },
   {
    "duration": 12,
    "start_time": "2024-11-02T02:38:30.779Z"
   },
   {
    "duration": 14,
    "start_time": "2024-11-02T02:38:30.792Z"
   },
   {
    "duration": 35,
    "start_time": "2024-11-02T02:38:30.808Z"
   },
   {
    "duration": 1022,
    "start_time": "2024-11-02T02:38:30.847Z"
   },
   {
    "duration": 11,
    "start_time": "2024-11-02T02:38:31.870Z"
   },
   {
    "duration": 9,
    "start_time": "2024-11-02T02:38:31.884Z"
   },
   {
    "duration": 35,
    "start_time": "2024-11-02T02:41:29.701Z"
   },
   {
    "duration": 31,
    "start_time": "2024-11-02T02:43:53.960Z"
   },
   {
    "duration": 42,
    "start_time": "2024-11-02T02:44:10.167Z"
   },
   {
    "duration": 44,
    "start_time": "2024-11-02T02:45:06.041Z"
   },
   {
    "duration": 31,
    "start_time": "2024-11-02T02:47:37.983Z"
   },
   {
    "duration": 291,
    "start_time": "2024-11-02T02:50:24.009Z"
   },
   {
    "duration": 22,
    "start_time": "2024-11-02T02:50:40.189Z"
   },
   {
    "duration": 22,
    "start_time": "2024-11-02T02:53:45.603Z"
   },
   {
    "duration": 27,
    "start_time": "2024-11-02T02:59:23.285Z"
   },
   {
    "duration": 25,
    "start_time": "2024-11-02T03:03:01.759Z"
   },
   {
    "duration": 158,
    "start_time": "2024-11-02T16:50:30.185Z"
   },
   {
    "duration": 2626,
    "start_time": "2024-11-02T16:50:55.866Z"
   },
   {
    "duration": 45,
    "start_time": "2024-11-02T16:50:58.494Z"
   },
   {
    "duration": 18,
    "start_time": "2024-11-02T16:50:58.541Z"
   },
   {
    "duration": 3,
    "start_time": "2024-11-02T16:50:58.562Z"
   },
   {
    "duration": 15,
    "start_time": "2024-11-02T16:50:58.567Z"
   },
   {
    "duration": 35,
    "start_time": "2024-11-02T16:50:58.584Z"
   },
   {
    "duration": 7,
    "start_time": "2024-11-02T16:50:58.622Z"
   },
   {
    "duration": 20,
    "start_time": "2024-11-02T16:50:58.630Z"
   },
   {
    "duration": 11,
    "start_time": "2024-11-02T16:50:58.651Z"
   },
   {
    "duration": 19,
    "start_time": "2024-11-02T16:50:58.666Z"
   },
   {
    "duration": 42,
    "start_time": "2024-11-02T16:50:58.686Z"
   },
   {
    "duration": 21,
    "start_time": "2024-11-02T16:50:58.730Z"
   },
   {
    "duration": 390,
    "start_time": "2024-11-02T16:50:58.752Z"
   },
   {
    "duration": 17,
    "start_time": "2024-11-02T16:50:59.145Z"
   },
   {
    "duration": 318,
    "start_time": "2024-11-02T16:50:59.164Z"
   },
   {
    "duration": 10,
    "start_time": "2024-11-02T16:50:59.484Z"
   },
   {
    "duration": 382,
    "start_time": "2024-11-02T16:50:59.497Z"
   },
   {
    "duration": 1162,
    "start_time": "2024-11-02T16:50:59.881Z"
   },
   {
    "duration": 8,
    "start_time": "2024-11-02T16:51:01.045Z"
   },
   {
    "duration": 3,
    "start_time": "2024-11-02T16:51:01.054Z"
   },
   {
    "duration": 1165,
    "start_time": "2024-11-02T16:51:01.058Z"
   },
   {
    "duration": 122,
    "start_time": "2024-11-02T16:51:02.224Z"
   },
   {
    "duration": 13,
    "start_time": "2024-11-02T16:51:02.347Z"
   },
   {
    "duration": 271,
    "start_time": "2024-11-02T16:51:02.362Z"
   },
   {
    "duration": 1012,
    "start_time": "2024-11-02T16:51:02.635Z"
   },
   {
    "duration": 156,
    "start_time": "2024-11-02T16:51:03.648Z"
   },
   {
    "duration": 161,
    "start_time": "2024-11-02T16:51:03.806Z"
   },
   {
    "duration": 4,
    "start_time": "2024-11-02T16:51:03.971Z"
   },
   {
    "duration": 54,
    "start_time": "2024-11-02T16:51:03.977Z"
   },
   {
    "duration": 295,
    "start_time": "2024-11-02T16:51:04.032Z"
   },
   {
    "duration": 23,
    "start_time": "2024-11-02T16:51:04.328Z"
   },
   {
    "duration": 20,
    "start_time": "2024-11-02T16:51:04.353Z"
   },
   {
    "duration": 50,
    "start_time": "2024-11-02T16:51:04.375Z"
   },
   {
    "duration": 32,
    "start_time": "2024-11-02T16:51:04.428Z"
   },
   {
    "duration": 22,
    "start_time": "2024-11-02T16:51:04.463Z"
   },
   {
    "duration": 28,
    "start_time": "2024-11-02T16:51:04.487Z"
   },
   {
    "duration": 14,
    "start_time": "2024-11-02T16:51:04.517Z"
   },
   {
    "duration": 11,
    "start_time": "2024-11-02T16:51:04.533Z"
   },
   {
    "duration": 1019,
    "start_time": "2024-11-02T16:51:04.547Z"
   },
   {
    "duration": 7,
    "start_time": "2024-11-02T16:51:05.569Z"
   },
   {
    "duration": 8,
    "start_time": "2024-11-02T16:51:05.578Z"
   },
   {
    "duration": 8,
    "start_time": "2024-11-02T16:55:52.757Z"
   },
   {
    "duration": 2833,
    "start_time": "2024-11-02T17:47:07.103Z"
   },
   {
    "duration": 46,
    "start_time": "2024-11-02T17:47:09.939Z"
   },
   {
    "duration": 15,
    "start_time": "2024-11-02T17:47:09.987Z"
   },
   {
    "duration": 4,
    "start_time": "2024-11-02T17:47:10.008Z"
   },
   {
    "duration": 12,
    "start_time": "2024-11-02T17:47:10.015Z"
   },
   {
    "duration": 12,
    "start_time": "2024-11-02T17:47:10.029Z"
   },
   {
    "duration": 7,
    "start_time": "2024-11-02T17:47:10.044Z"
   },
   {
    "duration": 22,
    "start_time": "2024-11-02T17:47:10.054Z"
   },
   {
    "duration": 39,
    "start_time": "2024-11-02T17:47:10.078Z"
   },
   {
    "duration": 15,
    "start_time": "2024-11-02T17:47:10.119Z"
   },
   {
    "duration": 13,
    "start_time": "2024-11-02T17:47:10.136Z"
   },
   {
    "duration": 13,
    "start_time": "2024-11-02T17:47:10.151Z"
   },
   {
    "duration": 423,
    "start_time": "2024-11-02T17:47:10.166Z"
   },
   {
    "duration": 15,
    "start_time": "2024-11-02T17:47:10.594Z"
   },
   {
    "duration": 319,
    "start_time": "2024-11-02T17:47:10.611Z"
   },
   {
    "duration": 8,
    "start_time": "2024-11-02T17:47:10.933Z"
   },
   {
    "duration": 354,
    "start_time": "2024-11-02T17:47:10.943Z"
   },
   {
    "duration": 16,
    "start_time": "2024-11-02T17:47:11.298Z"
   },
   {
    "duration": 4,
    "start_time": "2024-11-02T17:47:11.318Z"
   },
   {
    "duration": 1091,
    "start_time": "2024-11-02T17:47:11.324Z"
   },
   {
    "duration": 121,
    "start_time": "2024-11-02T17:47:12.417Z"
   },
   {
    "duration": 14,
    "start_time": "2024-11-02T17:47:12.540Z"
   },
   {
    "duration": 331,
    "start_time": "2024-11-02T17:47:12.555Z"
   },
   {
    "duration": 897,
    "start_time": "2024-11-02T17:47:12.888Z"
   },
   {
    "duration": 156,
    "start_time": "2024-11-02T17:47:13.786Z"
   },
   {
    "duration": 198,
    "start_time": "2024-11-02T17:47:13.945Z"
   },
   {
    "duration": 6,
    "start_time": "2024-11-02T17:47:14.145Z"
   },
   {
    "duration": 39,
    "start_time": "2024-11-02T17:47:14.153Z"
   },
   {
    "duration": 395,
    "start_time": "2024-11-02T17:47:14.209Z"
   },
   {
    "duration": 31,
    "start_time": "2024-11-02T17:47:14.606Z"
   },
   {
    "duration": 31,
    "start_time": "2024-11-02T17:47:14.639Z"
   },
   {
    "duration": 48,
    "start_time": "2024-11-02T17:47:14.672Z"
   },
   {
    "duration": 24,
    "start_time": "2024-11-02T17:47:14.723Z"
   },
   {
    "duration": 63,
    "start_time": "2024-11-02T17:47:14.749Z"
   },
   {
    "duration": 13,
    "start_time": "2024-11-02T17:47:14.814Z"
   },
   {
    "duration": 11,
    "start_time": "2024-11-02T17:47:14.829Z"
   },
   {
    "duration": 9,
    "start_time": "2024-11-02T17:47:14.842Z"
   },
   {
    "duration": 1259,
    "start_time": "2024-11-02T17:47:14.853Z"
   },
   {
    "duration": 10,
    "start_time": "2024-11-02T17:47:16.114Z"
   },
   {
    "duration": 10,
    "start_time": "2024-11-02T17:47:16.126Z"
   },
   {
    "duration": 152,
    "start_time": "2024-11-02T17:48:23.049Z"
   },
   {
    "duration": 143,
    "start_time": "2024-11-02T17:48:50.565Z"
   },
   {
    "duration": 4,
    "start_time": "2024-11-02T17:49:45.448Z"
   },
   {
    "duration": 396,
    "start_time": "2024-11-02T18:15:16.246Z"
   },
   {
    "duration": 592,
    "start_time": "2024-11-02T18:18:04.692Z"
   },
   {
    "duration": 23,
    "start_time": "2024-11-02T18:20:07.934Z"
   },
   {
    "duration": 23,
    "start_time": "2024-11-02T18:20:10.085Z"
   },
   {
    "duration": 23,
    "start_time": "2024-11-02T18:20:14.545Z"
   },
   {
    "duration": 467,
    "start_time": "2024-11-02T18:23:21.900Z"
   },
   {
    "duration": 521,
    "start_time": "2024-11-02T18:23:37.177Z"
   },
   {
    "duration": 480,
    "start_time": "2024-11-02T18:25:22.586Z"
   },
   {
    "duration": 696,
    "start_time": "2024-11-02T18:27:23.891Z"
   },
   {
    "duration": 548,
    "start_time": "2024-11-02T18:41:26.843Z"
   },
   {
    "duration": 595,
    "start_time": "2024-11-02T18:43:50.852Z"
   },
   {
    "duration": 271,
    "start_time": "2024-11-02T18:47:13.551Z"
   },
   {
    "duration": 494,
    "start_time": "2024-11-02T18:47:26.781Z"
   },
   {
    "duration": 483,
    "start_time": "2024-11-02T18:48:13.630Z"
   },
   {
    "duration": 536,
    "start_time": "2024-11-02T18:48:26.254Z"
   },
   {
    "duration": 514,
    "start_time": "2024-11-02T18:48:32.214Z"
   },
   {
    "duration": 497,
    "start_time": "2024-11-02T18:57:07.519Z"
   },
   {
    "duration": 490,
    "start_time": "2024-11-02T18:57:21.934Z"
   },
   {
    "duration": 607,
    "start_time": "2024-11-02T18:57:48.685Z"
   },
   {
    "duration": 537,
    "start_time": "2024-11-02T18:58:04.394Z"
   },
   {
    "duration": 9,
    "start_time": "2024-11-02T19:18:15.277Z"
   },
   {
    "duration": 9,
    "start_time": "2024-11-02T19:19:30.492Z"
   },
   {
    "duration": 3,
    "start_time": "2024-11-02T19:45:56.797Z"
   },
   {
    "duration": 877,
    "start_time": "2024-11-02T20:20:20.650Z"
   },
   {
    "duration": 26,
    "start_time": "2024-11-02T20:20:21.529Z"
   },
   {
    "duration": 14,
    "start_time": "2024-11-02T20:20:21.557Z"
   },
   {
    "duration": 3,
    "start_time": "2024-11-02T20:20:21.573Z"
   },
   {
    "duration": 35,
    "start_time": "2024-11-02T20:20:21.578Z"
   },
   {
    "duration": 12,
    "start_time": "2024-11-02T20:20:21.615Z"
   },
   {
    "duration": 5,
    "start_time": "2024-11-02T20:20:21.629Z"
   },
   {
    "duration": 15,
    "start_time": "2024-11-02T20:20:21.636Z"
   },
   {
    "duration": 7,
    "start_time": "2024-11-02T20:20:21.652Z"
   },
   {
    "duration": 51,
    "start_time": "2024-11-02T20:20:21.662Z"
   },
   {
    "duration": 13,
    "start_time": "2024-11-02T20:20:21.715Z"
   },
   {
    "duration": 12,
    "start_time": "2024-11-02T20:20:21.730Z"
   },
   {
    "duration": 380,
    "start_time": "2024-11-02T20:20:21.744Z"
   },
   {
    "duration": 11,
    "start_time": "2024-11-02T20:20:22.127Z"
   },
   {
    "duration": 280,
    "start_time": "2024-11-02T20:20:22.140Z"
   },
   {
    "duration": 7,
    "start_time": "2024-11-02T20:20:22.422Z"
   },
   {
    "duration": 353,
    "start_time": "2024-11-02T20:20:22.430Z"
   },
   {
    "duration": 9,
    "start_time": "2024-11-02T20:20:22.785Z"
   },
   {
    "duration": 16,
    "start_time": "2024-11-02T20:20:22.795Z"
   },
   {
    "duration": 1105,
    "start_time": "2024-11-02T20:20:22.812Z"
   },
   {
    "duration": 124,
    "start_time": "2024-11-02T20:20:23.919Z"
   },
   {
    "duration": 12,
    "start_time": "2024-11-02T20:20:24.046Z"
   },
   {
    "duration": 248,
    "start_time": "2024-11-02T20:20:24.060Z"
   },
   {
    "duration": 884,
    "start_time": "2024-11-02T20:20:24.310Z"
   },
   {
    "duration": 164,
    "start_time": "2024-11-02T20:20:25.196Z"
   },
   {
    "duration": 158,
    "start_time": "2024-11-02T20:20:25.362Z"
   },
   {
    "duration": 5,
    "start_time": "2024-11-02T20:20:25.523Z"
   },
   {
    "duration": 42,
    "start_time": "2024-11-02T20:20:25.533Z"
   },
   {
    "duration": 361,
    "start_time": "2024-11-02T20:20:25.577Z"
   },
   {
    "duration": 23,
    "start_time": "2024-11-02T20:20:25.940Z"
   },
   {
    "duration": 50,
    "start_time": "2024-11-02T20:20:25.965Z"
   },
   {
    "duration": 140,
    "start_time": "2024-11-02T20:20:26.017Z"
   },
   {
    "duration": 23,
    "start_time": "2024-11-02T20:20:26.159Z"
   },
   {
    "duration": 517,
    "start_time": "2024-11-02T20:20:26.210Z"
   },
   {
    "duration": 614,
    "start_time": "2024-11-02T20:20:26.728Z"
   },
   {
    "duration": 568,
    "start_time": "2024-11-02T20:20:27.344Z"
   },
   {
    "duration": 9,
    "start_time": "2024-11-02T20:20:27.914Z"
   },
   {
    "duration": 9,
    "start_time": "2024-11-02T20:20:27.924Z"
   },
   {
    "duration": 378,
    "start_time": "2024-11-02T20:22:54.866Z"
   },
   {
    "duration": 473,
    "start_time": "2024-11-02T20:23:13.279Z"
   },
   {
    "duration": 441,
    "start_time": "2024-11-02T20:23:42.042Z"
   },
   {
    "duration": 388,
    "start_time": "2024-11-02T20:23:56.363Z"
   },
   {
    "duration": 389,
    "start_time": "2024-11-02T20:24:10.722Z"
   },
   {
    "duration": 510,
    "start_time": "2024-11-02T20:24:27.450Z"
   },
   {
    "duration": 2736,
    "start_time": "2024-11-02T20:35:11.332Z"
   },
   {
    "duration": 36,
    "start_time": "2024-11-02T20:35:14.070Z"
   },
   {
    "duration": 15,
    "start_time": "2024-11-02T20:35:14.108Z"
   },
   {
    "duration": 5,
    "start_time": "2024-11-02T20:35:14.130Z"
   },
   {
    "duration": 12,
    "start_time": "2024-11-02T20:35:14.137Z"
   },
   {
    "duration": 11,
    "start_time": "2024-11-02T20:35:14.150Z"
   },
   {
    "duration": 5,
    "start_time": "2024-11-02T20:35:14.162Z"
   },
   {
    "duration": 17,
    "start_time": "2024-11-02T20:35:14.168Z"
   },
   {
    "duration": 7,
    "start_time": "2024-11-02T20:35:14.187Z"
   },
   {
    "duration": 16,
    "start_time": "2024-11-02T20:35:14.232Z"
   },
   {
    "duration": 12,
    "start_time": "2024-11-02T20:35:14.250Z"
   },
   {
    "duration": 12,
    "start_time": "2024-11-02T20:35:14.264Z"
   },
   {
    "duration": 379,
    "start_time": "2024-11-02T20:35:14.279Z"
   },
   {
    "duration": 11,
    "start_time": "2024-11-02T20:35:14.660Z"
   },
   {
    "duration": 260,
    "start_time": "2024-11-02T20:35:14.673Z"
   },
   {
    "duration": 7,
    "start_time": "2024-11-02T20:35:14.935Z"
   },
   {
    "duration": 366,
    "start_time": "2024-11-02T20:35:14.943Z"
   },
   {
    "duration": 20,
    "start_time": "2024-11-02T20:35:15.311Z"
   },
   {
    "duration": 4,
    "start_time": "2024-11-02T20:35:15.333Z"
   },
   {
    "duration": 1055,
    "start_time": "2024-11-02T20:35:15.338Z"
   },
   {
    "duration": 119,
    "start_time": "2024-11-02T20:35:16.395Z"
   },
   {
    "duration": 22,
    "start_time": "2024-11-02T20:35:16.516Z"
   },
   {
    "duration": 315,
    "start_time": "2024-11-02T20:35:16.541Z"
   },
   {
    "duration": 860,
    "start_time": "2024-11-02T20:35:16.858Z"
   },
   {
    "duration": 161,
    "start_time": "2024-11-02T20:35:17.720Z"
   },
   {
    "duration": 154,
    "start_time": "2024-11-02T20:35:17.884Z"
   },
   {
    "duration": 5,
    "start_time": "2024-11-02T20:35:18.040Z"
   },
   {
    "duration": 37,
    "start_time": "2024-11-02T20:35:18.049Z"
   },
   {
    "duration": 369,
    "start_time": "2024-11-02T20:35:18.088Z"
   },
   {
    "duration": 20,
    "start_time": "2024-11-02T20:35:18.458Z"
   },
   {
    "duration": 24,
    "start_time": "2024-11-02T20:35:18.480Z"
   },
   {
    "duration": 22,
    "start_time": "2024-11-02T20:35:18.531Z"
   },
   {
    "duration": 21,
    "start_time": "2024-11-02T20:35:18.555Z"
   },
   {
    "duration": 628,
    "start_time": "2024-11-02T20:35:18.579Z"
   },
   {
    "duration": 492,
    "start_time": "2024-11-02T20:35:19.209Z"
   },
   {
    "duration": 553,
    "start_time": "2024-11-02T20:35:19.703Z"
   },
   {
    "duration": 7,
    "start_time": "2024-11-02T20:35:20.259Z"
   },
   {
    "duration": 8,
    "start_time": "2024-11-02T20:35:20.268Z"
   },
   {
    "duration": 186,
    "start_time": "2024-11-03T00:51:58.111Z"
   },
   {
    "duration": 2947,
    "start_time": "2024-11-03T00:52:21.974Z"
   },
   {
    "duration": 35,
    "start_time": "2024-11-03T00:52:24.926Z"
   },
   {
    "duration": 15,
    "start_time": "2024-11-03T00:52:24.963Z"
   },
   {
    "duration": 3,
    "start_time": "2024-11-03T00:52:24.981Z"
   },
   {
    "duration": 16,
    "start_time": "2024-11-03T00:52:24.986Z"
   },
   {
    "duration": 12,
    "start_time": "2024-11-03T00:52:25.004Z"
   },
   {
    "duration": 7,
    "start_time": "2024-11-03T00:52:25.017Z"
   },
   {
    "duration": 20,
    "start_time": "2024-11-03T00:52:25.025Z"
   },
   {
    "duration": 8,
    "start_time": "2024-11-03T00:52:25.047Z"
   },
   {
    "duration": 34,
    "start_time": "2024-11-03T00:52:25.059Z"
   },
   {
    "duration": 18,
    "start_time": "2024-11-03T00:52:25.095Z"
   },
   {
    "duration": 24,
    "start_time": "2024-11-03T00:52:25.115Z"
   },
   {
    "duration": 379,
    "start_time": "2024-11-03T00:52:25.141Z"
   },
   {
    "duration": 13,
    "start_time": "2024-11-03T00:52:25.522Z"
   },
   {
    "duration": 295,
    "start_time": "2024-11-03T00:52:25.536Z"
   },
   {
    "duration": 7,
    "start_time": "2024-11-03T00:52:25.833Z"
   },
   {
    "duration": 384,
    "start_time": "2024-11-03T00:52:25.842Z"
   },
   {
    "duration": 8,
    "start_time": "2024-11-03T00:52:26.228Z"
   },
   {
    "duration": 5,
    "start_time": "2024-11-03T00:52:26.238Z"
   },
   {
    "duration": 1221,
    "start_time": "2024-11-03T00:52:26.245Z"
   },
   {
    "duration": 210,
    "start_time": "2024-11-03T00:52:27.468Z"
   },
   {
    "duration": 37,
    "start_time": "2024-11-03T00:52:27.679Z"
   },
   {
    "duration": 270,
    "start_time": "2024-11-03T00:52:27.718Z"
   },
   {
    "duration": 929,
    "start_time": "2024-11-03T00:52:27.990Z"
   },
   {
    "duration": 168,
    "start_time": "2024-11-03T00:52:28.921Z"
   },
   {
    "duration": 161,
    "start_time": "2024-11-03T00:52:29.091Z"
   },
   {
    "duration": 5,
    "start_time": "2024-11-03T00:52:29.254Z"
   },
   {
    "duration": 68,
    "start_time": "2024-11-03T00:52:29.265Z"
   },
   {
    "duration": 379,
    "start_time": "2024-11-03T00:52:29.334Z"
   },
   {
    "duration": 30,
    "start_time": "2024-11-03T00:52:29.715Z"
   },
   {
    "duration": 21,
    "start_time": "2024-11-03T00:52:29.748Z"
   },
   {
    "duration": 128,
    "start_time": "2024-11-03T00:52:29.771Z"
   },
   {
    "duration": 33,
    "start_time": "2024-11-03T00:52:29.910Z"
   },
   {
    "duration": 558,
    "start_time": "2024-11-03T00:52:29.945Z"
   },
   {
    "duration": 548,
    "start_time": "2024-11-03T00:52:30.505Z"
   },
   {
    "duration": 587,
    "start_time": "2024-11-03T00:52:31.055Z"
   },
   {
    "duration": 10,
    "start_time": "2024-11-03T00:52:31.644Z"
   },
   {
    "duration": 9,
    "start_time": "2024-11-03T00:52:31.655Z"
   },
   {
    "duration": 179,
    "start_time": "2024-11-03T00:56:34.464Z"
   },
   {
    "duration": 6,
    "start_time": "2024-11-03T00:57:00.751Z"
   },
   {
    "duration": 51,
    "start_time": "2024-11-03T01:00:53.658Z"
   },
   {
    "duration": 465,
    "start_time": "2024-11-03T01:01:12.974Z"
   },
   {
    "duration": 18,
    "start_time": "2024-11-03T01:02:07.158Z"
   },
   {
    "duration": 62,
    "start_time": "2024-11-03T01:02:13.900Z"
   },
   {
    "duration": 33,
    "start_time": "2024-11-03T01:02:25.140Z"
   },
   {
    "duration": 47,
    "start_time": "2024-11-03T01:02:27.199Z"
   },
   {
    "duration": 630,
    "start_time": "2024-11-03T01:02:51.511Z"
   },
   {
    "duration": 803,
    "start_time": "2024-11-03T01:03:09.434Z"
   },
   {
    "duration": 722,
    "start_time": "2024-11-03T01:03:48.635Z"
   },
   {
    "duration": 32,
    "start_time": "2024-11-03T01:04:48.581Z"
   },
   {
    "duration": 414,
    "start_time": "2024-11-03T01:05:55.707Z"
   },
   {
    "duration": 22,
    "start_time": "2024-11-03T01:06:05.275Z"
   },
   {
    "duration": 5,
    "start_time": "2024-11-03T01:09:35.961Z"
   },
   {
    "duration": 926,
    "start_time": "2024-11-03T01:12:35.475Z"
   },
   {
    "duration": 24,
    "start_time": "2024-11-03T01:12:36.545Z"
   },
   {
    "duration": 18,
    "start_time": "2024-11-03T01:12:37.764Z"
   },
   {
    "duration": 10,
    "start_time": "2024-11-03T01:12:39.503Z"
   },
   {
    "duration": 18,
    "start_time": "2024-11-03T01:12:41.795Z"
   },
   {
    "duration": 27,
    "start_time": "2024-11-03T01:12:53.114Z"
   },
   {
    "duration": 16,
    "start_time": "2024-11-03T01:13:05.128Z"
   },
   {
    "duration": 10,
    "start_time": "2024-11-03T01:13:18.784Z"
   },
   {
    "duration": 30,
    "start_time": "2024-11-03T01:13:23.504Z"
   },
   {
    "duration": 11,
    "start_time": "2024-11-03T01:13:58.336Z"
   },
   {
    "duration": 855,
    "start_time": "2024-11-03T01:14:35.429Z"
   },
   {
    "duration": 46,
    "start_time": "2024-11-03T01:14:36.402Z"
   },
   {
    "duration": 18,
    "start_time": "2024-11-03T01:14:37.560Z"
   },
   {
    "duration": 3,
    "start_time": "2024-11-03T01:14:40.676Z"
   },
   {
    "duration": 16,
    "start_time": "2024-11-03T01:14:42.033Z"
   },
   {
    "duration": 18,
    "start_time": "2024-11-03T01:14:44.885Z"
   },
   {
    "duration": 4,
    "start_time": "2024-11-03T01:14:50.245Z"
   },
   {
    "duration": 10,
    "start_time": "2024-11-03T01:14:53.765Z"
   },
   {
    "duration": 5,
    "start_time": "2024-11-03T01:23:22.184Z"
   },
   {
    "duration": 3,
    "start_time": "2024-11-03T01:23:57.362Z"
   },
   {
    "duration": 7,
    "start_time": "2024-11-03T01:25:32.711Z"
   },
   {
    "duration": 14,
    "start_time": "2024-11-03T01:30:46.215Z"
   },
   {
    "duration": 22,
    "start_time": "2024-11-03T01:34:27.740Z"
   },
   {
    "duration": 15,
    "start_time": "2024-11-03T01:34:43.479Z"
   },
   {
    "duration": 19,
    "start_time": "2024-11-03T01:34:47.853Z"
   },
   {
    "duration": 346,
    "start_time": "2024-11-03T01:34:58.939Z"
   },
   {
    "duration": 13,
    "start_time": "2024-11-03T01:35:50.111Z"
   },
   {
    "duration": 259,
    "start_time": "2024-11-03T01:35:58.955Z"
   },
   {
    "duration": 227,
    "start_time": "2024-11-03T01:36:27.635Z"
   },
   {
    "duration": 14,
    "start_time": "2024-11-03T01:37:38.057Z"
   },
   {
    "duration": 10,
    "start_time": "2024-11-03T01:38:20.111Z"
   },
   {
    "duration": 438,
    "start_time": "2024-11-03T01:38:27.725Z"
   },
   {
    "duration": 17,
    "start_time": "2024-11-03T01:39:38.195Z"
   },
   {
    "duration": 4,
    "start_time": "2024-11-03T01:39:42.748Z"
   },
   {
    "duration": 1277,
    "start_time": "2024-11-03T01:39:47.993Z"
   },
   {
    "duration": 138,
    "start_time": "2024-11-03T01:40:00.859Z"
   },
   {
    "duration": 5392,
    "start_time": "2024-11-03T01:42:58.883Z"
   },
   {
    "duration": 5434,
    "start_time": "2024-11-03T01:43:31.291Z"
   },
   {
    "duration": 160,
    "start_time": "2024-11-03T01:46:26.973Z"
   },
   {
    "duration": 22,
    "start_time": "2024-11-03T01:50:14.486Z"
   },
   {
    "duration": 370,
    "start_time": "2024-11-03T01:50:26.147Z"
   },
   {
    "duration": 941,
    "start_time": "2024-11-03T01:50:37.585Z"
   },
   {
    "duration": 169,
    "start_time": "2024-11-03T01:51:27.199Z"
   },
   {
    "duration": 148,
    "start_time": "2024-11-03T01:51:33.624Z"
   },
   {
    "duration": 5,
    "start_time": "2024-11-03T01:51:44.148Z"
   },
   {
    "duration": 27,
    "start_time": "2024-11-03T01:53:15.911Z"
   },
   {
    "duration": 345,
    "start_time": "2024-11-03T01:53:46.555Z"
   },
   {
    "duration": 5,
    "start_time": "2024-11-03T02:01:09.878Z"
   },
   {
    "duration": 4,
    "start_time": "2024-11-03T02:04:13.958Z"
   },
   {
    "duration": 761,
    "start_time": "2024-11-03T02:04:37.828Z"
   },
   {
    "duration": 214,
    "start_time": "2024-11-03T02:04:56.442Z"
   },
   {
    "duration": 221,
    "start_time": "2024-11-03T02:05:06.253Z"
   },
   {
    "duration": 248,
    "start_time": "2024-11-03T02:05:32.961Z"
   },
   {
    "duration": 226,
    "start_time": "2024-11-03T02:07:20.737Z"
   },
   {
    "duration": 382,
    "start_time": "2024-11-03T02:07:42.669Z"
   },
   {
    "duration": 386,
    "start_time": "2024-11-03T02:08:50.593Z"
   },
   {
    "duration": 243,
    "start_time": "2024-11-03T02:09:04.403Z"
   },
   {
    "duration": 9,
    "start_time": "2024-11-03T02:10:50.830Z"
   },
   {
    "duration": 254,
    "start_time": "2024-11-03T02:12:16.410Z"
   },
   {
    "duration": 4,
    "start_time": "2024-11-03T02:12:57.873Z"
   },
   {
    "duration": 341,
    "start_time": "2024-11-03T02:18:29.490Z"
   },
   {
    "duration": 218,
    "start_time": "2024-11-03T02:21:38.259Z"
   },
   {
    "duration": 402,
    "start_time": "2024-11-03T02:22:16.904Z"
   },
   {
    "duration": 403,
    "start_time": "2024-11-03T02:22:35.360Z"
   },
   {
    "duration": 4,
    "start_time": "2024-11-03T02:23:29.354Z"
   },
   {
    "duration": 387,
    "start_time": "2024-11-03T02:23:40.260Z"
   },
   {
    "duration": 396,
    "start_time": "2024-11-03T02:23:55.009Z"
   },
   {
    "duration": 538,
    "start_time": "2024-11-03T02:24:43.545Z"
   },
   {
    "duration": 386,
    "start_time": "2024-11-03T02:26:13.857Z"
   },
   {
    "duration": 392,
    "start_time": "2024-11-03T02:26:22.695Z"
   },
   {
    "duration": 374,
    "start_time": "2024-11-03T02:26:31.734Z"
   },
   {
    "duration": 393,
    "start_time": "2024-11-03T02:26:48.901Z"
   },
   {
    "duration": 17,
    "start_time": "2024-11-03T02:42:39.385Z"
   },
   {
    "duration": 21,
    "start_time": "2024-11-03T02:42:46.907Z"
   },
   {
    "duration": 23,
    "start_time": "2024-11-03T02:42:54.643Z"
   },
   {
    "duration": 23,
    "start_time": "2024-11-03T02:43:01.003Z"
   },
   {
    "duration": 481,
    "start_time": "2024-11-03T02:43:05.277Z"
   },
   {
    "duration": 653,
    "start_time": "2024-11-03T02:57:35.055Z"
   },
   {
    "duration": 516,
    "start_time": "2024-11-03T03:02:15.070Z"
   },
   {
    "duration": 8,
    "start_time": "2024-11-03T03:04:01.689Z"
   },
   {
    "duration": 4,
    "start_time": "2024-11-03T03:05:22.315Z"
   },
   {
    "duration": 151,
    "start_time": "2024-11-03T03:06:31.878Z"
   },
   {
    "duration": 146,
    "start_time": "2024-11-03T03:06:40.234Z"
   },
   {
    "duration": 5,
    "start_time": "2024-11-03T03:06:48.761Z"
   },
   {
    "duration": 31,
    "start_time": "2024-11-03T03:07:28.636Z"
   },
   {
    "duration": 336,
    "start_time": "2024-11-03T03:07:42.083Z"
   },
   {
    "duration": 381,
    "start_time": "2024-11-03T03:07:50.541Z"
   },
   {
    "duration": 21,
    "start_time": "2024-11-03T03:09:14.756Z"
   },
   {
    "duration": 8,
    "start_time": "2024-11-03T03:09:44.383Z"
   },
   {
    "duration": 842,
    "start_time": "2024-11-03T03:23:49.950Z"
   },
   {
    "duration": 23,
    "start_time": "2024-11-03T03:23:50.795Z"
   },
   {
    "duration": 12,
    "start_time": "2024-11-03T03:23:50.820Z"
   },
   {
    "duration": 4,
    "start_time": "2024-11-03T03:23:50.833Z"
   },
   {
    "duration": 11,
    "start_time": "2024-11-03T03:23:50.839Z"
   },
   {
    "duration": 36,
    "start_time": "2024-11-03T03:23:50.851Z"
   },
   {
    "duration": 4,
    "start_time": "2024-11-03T03:23:50.888Z"
   },
   {
    "duration": 8,
    "start_time": "2024-11-03T03:23:50.894Z"
   },
   {
    "duration": 14,
    "start_time": "2024-11-03T03:23:50.904Z"
   },
   {
    "duration": 13,
    "start_time": "2024-11-03T03:23:50.919Z"
   },
   {
    "duration": 13,
    "start_time": "2024-11-03T03:23:50.934Z"
   },
   {
    "duration": 45,
    "start_time": "2024-11-03T03:23:50.948Z"
   },
   {
    "duration": 354,
    "start_time": "2024-11-03T03:23:50.994Z"
   },
   {
    "duration": 12,
    "start_time": "2024-11-03T03:23:51.353Z"
   },
   {
    "duration": 225,
    "start_time": "2024-11-03T03:23:51.367Z"
   },
   {
    "duration": 6,
    "start_time": "2024-11-03T03:23:51.594Z"
   },
   {
    "duration": 356,
    "start_time": "2024-11-03T03:23:51.602Z"
   },
   {
    "duration": 8,
    "start_time": "2024-11-03T03:23:51.960Z"
   },
   {
    "duration": 17,
    "start_time": "2024-11-03T03:23:51.970Z"
   },
   {
    "duration": 1097,
    "start_time": "2024-11-03T03:23:51.989Z"
   },
   {
    "duration": 149,
    "start_time": "2024-11-03T03:23:53.088Z"
   },
   {
    "duration": 12,
    "start_time": "2024-11-03T03:23:53.239Z"
   },
   {
    "duration": 243,
    "start_time": "2024-11-03T03:23:53.253Z"
   },
   {
    "duration": 854,
    "start_time": "2024-11-03T03:23:53.499Z"
   },
   {
    "duration": 159,
    "start_time": "2024-11-03T03:23:54.354Z"
   },
   {
    "duration": 154,
    "start_time": "2024-11-03T03:23:54.515Z"
   },
   {
    "duration": 15,
    "start_time": "2024-11-03T03:23:54.671Z"
   },
   {
    "duration": 103,
    "start_time": "2024-11-03T03:23:54.688Z"
   },
   {
    "duration": 315,
    "start_time": "2024-11-03T03:23:54.793Z"
   },
   {
    "duration": 459,
    "start_time": "2024-11-03T03:23:55.109Z"
   },
   {
    "duration": 23,
    "start_time": "2024-11-03T03:23:55.570Z"
   },
   {
    "duration": 21,
    "start_time": "2024-11-03T03:23:55.594Z"
   },
   {
    "duration": 21,
    "start_time": "2024-11-03T03:23:55.618Z"
   },
   {
    "duration": 52,
    "start_time": "2024-11-03T03:23:55.641Z"
   },
   {
    "duration": 485,
    "start_time": "2024-11-03T03:23:55.695Z"
   },
   {
    "duration": 490,
    "start_time": "2024-11-03T03:23:56.182Z"
   },
   {
    "duration": 459,
    "start_time": "2024-11-03T03:23:56.673Z"
   },
   {
    "duration": 7,
    "start_time": "2024-11-03T03:23:57.134Z"
   },
   {
    "duration": 6,
    "start_time": "2024-11-03T03:23:57.142Z"
   },
   {
    "duration": 18,
    "start_time": "2024-11-03T03:30:17.349Z"
   },
   {
    "duration": 9,
    "start_time": "2024-11-03T03:32:04.991Z"
   },
   {
    "duration": 932,
    "start_time": "2024-11-03T03:32:15.694Z"
   },
   {
    "duration": 7,
    "start_time": "2024-11-03T03:33:25.325Z"
   },
   {
    "duration": 7,
    "start_time": "2024-11-03T03:33:39.239Z"
   },
   {
    "duration": 8,
    "start_time": "2024-11-03T03:33:50.838Z"
   },
   {
    "duration": 44,
    "start_time": "2024-11-03T03:34:08.655Z"
   },
   {
    "duration": 8,
    "start_time": "2024-11-03T03:34:18.856Z"
   },
   {
    "duration": 26,
    "start_time": "2024-11-03T03:35:13.136Z"
   },
   {
    "duration": 125,
    "start_time": "2024-11-03T03:35:42.800Z"
   },
   {
    "duration": 17,
    "start_time": "2024-11-03T03:36:44.160Z"
   },
   {
    "duration": 17,
    "start_time": "2024-11-03T03:36:52.271Z"
   },
   {
    "duration": 126,
    "start_time": "2024-11-03T03:37:08.448Z"
   },
   {
    "duration": 7,
    "start_time": "2024-11-03T03:37:37.348Z"
   },
   {
    "duration": 413,
    "start_time": "2024-11-03T03:38:24.533Z"
   },
   {
    "duration": 78,
    "start_time": "2024-11-03T03:38:33.014Z"
   },
   {
    "duration": 17,
    "start_time": "2024-11-03T03:38:54.283Z"
   },
   {
    "duration": 16,
    "start_time": "2024-11-03T03:39:17.275Z"
   },
   {
    "duration": 77,
    "start_time": "2024-11-03T03:40:48.180Z"
   },
   {
    "duration": 8,
    "start_time": "2024-11-03T03:41:08.897Z"
   },
   {
    "duration": 9,
    "start_time": "2024-11-03T03:41:29.255Z"
   },
   {
    "duration": 8,
    "start_time": "2024-11-03T03:41:39.557Z"
   },
   {
    "duration": 22,
    "start_time": "2024-11-03T03:41:54.271Z"
   },
   {
    "duration": 9,
    "start_time": "2024-11-03T03:43:31.463Z"
   },
   {
    "duration": 8,
    "start_time": "2024-11-03T03:43:50.590Z"
   },
   {
    "duration": 21,
    "start_time": "2024-11-03T03:43:56.610Z"
   },
   {
    "duration": 10,
    "start_time": "2024-11-03T03:44:36.331Z"
   },
   {
    "duration": 22,
    "start_time": "2024-11-03T03:45:39.763Z"
   },
   {
    "duration": 26,
    "start_time": "2024-11-03T03:45:47.076Z"
   },
   {
    "duration": 9,
    "start_time": "2024-11-03T03:45:52.260Z"
   },
   {
    "duration": 19,
    "start_time": "2024-11-03T03:46:10.691Z"
   },
   {
    "duration": 4,
    "start_time": "2024-11-03T03:46:27.335Z"
   },
   {
    "duration": 21,
    "start_time": "2024-11-03T03:46:31.224Z"
   },
   {
    "duration": 9,
    "start_time": "2024-11-03T03:46:34.771Z"
   },
   {
    "duration": 126,
    "start_time": "2024-11-03T03:47:00.364Z"
   },
   {
    "duration": 3163,
    "start_time": "2024-11-03T04:34:33.224Z"
   },
   {
    "duration": 62,
    "start_time": "2024-11-03T04:34:36.389Z"
   },
   {
    "duration": 15,
    "start_time": "2024-11-03T04:34:36.453Z"
   },
   {
    "duration": 4,
    "start_time": "2024-11-03T04:34:36.471Z"
   },
   {
    "duration": 11,
    "start_time": "2024-11-03T04:34:36.477Z"
   },
   {
    "duration": 10,
    "start_time": "2024-11-03T04:34:36.490Z"
   },
   {
    "duration": 4,
    "start_time": "2024-11-03T04:34:36.509Z"
   },
   {
    "duration": 10,
    "start_time": "2024-11-03T04:34:36.515Z"
   },
   {
    "duration": 18,
    "start_time": "2024-11-03T04:34:36.527Z"
   },
   {
    "duration": 16,
    "start_time": "2024-11-03T04:34:36.549Z"
   },
   {
    "duration": 43,
    "start_time": "2024-11-03T04:34:36.567Z"
   },
   {
    "duration": 14,
    "start_time": "2024-11-03T04:34:36.612Z"
   },
   {
    "duration": 383,
    "start_time": "2024-11-03T04:34:36.628Z"
   },
   {
    "duration": 16,
    "start_time": "2024-11-03T04:34:37.013Z"
   },
   {
    "duration": 317,
    "start_time": "2024-11-03T04:34:37.031Z"
   },
   {
    "duration": 9,
    "start_time": "2024-11-03T04:34:37.350Z"
   },
   {
    "duration": 414,
    "start_time": "2024-11-03T04:34:37.361Z"
   },
   {
    "duration": 7,
    "start_time": "2024-11-03T04:34:37.777Z"
   },
   {
    "duration": 3,
    "start_time": "2024-11-03T04:34:37.786Z"
   },
   {
    "duration": 1263,
    "start_time": "2024-11-03T04:34:37.791Z"
   },
   {
    "duration": 136,
    "start_time": "2024-11-03T04:34:39.056Z"
   },
   {
    "duration": 22,
    "start_time": "2024-11-03T04:34:39.194Z"
   },
   {
    "duration": 267,
    "start_time": "2024-11-03T04:34:39.218Z"
   },
   {
    "duration": 1080,
    "start_time": "2024-11-03T04:34:39.487Z"
   },
   {
    "duration": 185,
    "start_time": "2024-11-03T04:34:40.569Z"
   },
   {
    "duration": 170,
    "start_time": "2024-11-03T04:34:40.756Z"
   },
   {
    "duration": 7,
    "start_time": "2024-11-03T04:34:40.928Z"
   },
   {
    "duration": 31,
    "start_time": "2024-11-03T04:34:40.939Z"
   },
   {
    "duration": 378,
    "start_time": "2024-11-03T04:34:40.972Z"
   },
   {
    "duration": 638,
    "start_time": "2024-11-03T04:34:41.352Z"
   },
   {
    "duration": 27,
    "start_time": "2024-11-03T04:34:41.992Z"
   },
   {
    "duration": 24,
    "start_time": "2024-11-03T04:34:42.021Z"
   },
   {
    "duration": 25,
    "start_time": "2024-11-03T04:34:42.050Z"
   },
   {
    "duration": 48,
    "start_time": "2024-11-03T04:34:42.077Z"
   },
   {
    "duration": 566,
    "start_time": "2024-11-03T04:34:42.127Z"
   },
   {
    "duration": 524,
    "start_time": "2024-11-03T04:34:42.695Z"
   },
   {
    "duration": 495,
    "start_time": "2024-11-03T04:34:43.220Z"
   },
   {
    "duration": 8,
    "start_time": "2024-11-03T04:34:43.717Z"
   },
   {
    "duration": 7,
    "start_time": "2024-11-03T04:34:43.726Z"
   },
   {
    "duration": 2637,
    "start_time": "2024-11-03T05:04:40.070Z"
   },
   {
    "duration": 34,
    "start_time": "2024-11-03T05:04:42.709Z"
   },
   {
    "duration": 13,
    "start_time": "2024-11-03T05:04:42.745Z"
   },
   {
    "duration": 10,
    "start_time": "2024-11-03T05:04:42.761Z"
   },
   {
    "duration": 11,
    "start_time": "2024-11-03T05:04:42.772Z"
   },
   {
    "duration": 10,
    "start_time": "2024-11-03T05:04:42.785Z"
   },
   {
    "duration": 3,
    "start_time": "2024-11-03T05:04:42.797Z"
   },
   {
    "duration": 8,
    "start_time": "2024-11-03T05:04:42.802Z"
   },
   {
    "duration": 14,
    "start_time": "2024-11-03T05:04:42.812Z"
   },
   {
    "duration": 42,
    "start_time": "2024-11-03T05:04:42.829Z"
   },
   {
    "duration": 13,
    "start_time": "2024-11-03T05:04:42.872Z"
   },
   {
    "duration": 11,
    "start_time": "2024-11-03T05:04:42.887Z"
   },
   {
    "duration": 380,
    "start_time": "2024-11-03T05:04:42.900Z"
   },
   {
    "duration": 14,
    "start_time": "2024-11-03T05:04:43.282Z"
   },
   {
    "duration": 274,
    "start_time": "2024-11-03T05:04:43.298Z"
   },
   {
    "duration": 6,
    "start_time": "2024-11-03T05:04:43.574Z"
   },
   {
    "duration": 355,
    "start_time": "2024-11-03T05:04:43.583Z"
   },
   {
    "duration": 8,
    "start_time": "2024-11-03T05:04:43.940Z"
   },
   {
    "duration": 4,
    "start_time": "2024-11-03T05:04:43.949Z"
   },
   {
    "duration": 1015,
    "start_time": "2024-11-03T05:04:43.971Z"
   },
   {
    "duration": 121,
    "start_time": "2024-11-03T05:04:44.989Z"
   },
   {
    "duration": 13,
    "start_time": "2024-11-03T05:04:45.113Z"
   },
   {
    "duration": 245,
    "start_time": "2024-11-03T05:04:45.127Z"
   },
   {
    "duration": 983,
    "start_time": "2024-11-03T05:04:45.375Z"
   },
   {
    "duration": 161,
    "start_time": "2024-11-03T05:04:46.360Z"
   },
   {
    "duration": 163,
    "start_time": "2024-11-03T05:04:46.523Z"
   },
   {
    "duration": 5,
    "start_time": "2024-11-03T05:04:46.688Z"
   },
   {
    "duration": 26,
    "start_time": "2024-11-03T05:04:46.697Z"
   },
   {
    "duration": 375,
    "start_time": "2024-11-03T05:04:46.724Z"
   },
   {
    "duration": 569,
    "start_time": "2024-11-03T05:04:47.101Z"
   },
   {
    "duration": 16,
    "start_time": "2024-11-03T05:04:47.671Z"
   },
   {
    "duration": 21,
    "start_time": "2024-11-03T05:04:47.689Z"
   },
   {
    "duration": 20,
    "start_time": "2024-11-03T05:04:47.711Z"
   },
   {
    "duration": 54,
    "start_time": "2024-11-03T05:04:47.734Z"
   },
   {
    "duration": 502,
    "start_time": "2024-11-03T05:04:47.790Z"
   },
   {
    "duration": 534,
    "start_time": "2024-11-03T05:04:48.294Z"
   },
   {
    "duration": 479,
    "start_time": "2024-11-03T05:04:48.830Z"
   },
   {
    "duration": 6,
    "start_time": "2024-11-03T05:04:49.311Z"
   },
   {
    "duration": 6,
    "start_time": "2024-11-03T05:04:49.319Z"
   },
   {
    "duration": 8,
    "start_time": "2024-11-03T05:05:29.114Z"
   },
   {
    "duration": 8,
    "start_time": "2024-11-03T05:21:50.854Z"
   },
   {
    "duration": 280,
    "start_time": "2024-11-03T05:22:07.619Z"
   },
   {
    "duration": 19,
    "start_time": "2024-11-03T05:22:25.484Z"
   },
   {
    "duration": 8,
    "start_time": "2024-11-03T05:23:48.468Z"
   },
   {
    "duration": 8,
    "start_time": "2024-11-03T05:24:06.402Z"
   },
   {
    "duration": 21,
    "start_time": "2024-11-03T05:24:23.719Z"
   },
   {
    "duration": 27,
    "start_time": "2024-11-03T05:24:37.099Z"
   },
   {
    "duration": 21,
    "start_time": "2024-11-03T05:24:47.584Z"
   },
   {
    "duration": 7,
    "start_time": "2024-11-03T05:25:07.220Z"
   },
   {
    "duration": 8,
    "start_time": "2024-11-03T05:26:26.656Z"
   },
   {
    "duration": 472,
    "start_time": "2024-11-03T05:26:39.673Z"
   },
   {
    "duration": 8,
    "start_time": "2024-11-03T05:27:26.830Z"
   },
   {
    "duration": 6,
    "start_time": "2024-11-03T05:30:07.400Z"
   },
   {
    "duration": 6,
    "start_time": "2024-11-03T05:30:21.656Z"
   },
   {
    "duration": 20,
    "start_time": "2024-11-03T05:30:41.640Z"
   },
   {
    "duration": 7,
    "start_time": "2024-11-03T05:30:52.834Z"
   },
   {
    "duration": 23,
    "start_time": "2024-11-03T05:31:01.152Z"
   },
   {
    "duration": 7,
    "start_time": "2024-11-03T05:31:09.876Z"
   },
   {
    "duration": 8,
    "start_time": "2024-11-03T05:31:20.119Z"
   },
   {
    "duration": 331,
    "start_time": "2024-11-03T05:32:30.108Z"
   },
   {
    "duration": 18,
    "start_time": "2024-11-03T05:32:51.406Z"
   },
   {
    "duration": 54,
    "start_time": "2024-11-03T05:33:04.154Z"
   },
   {
    "duration": 9,
    "start_time": "2024-11-03T05:33:43.606Z"
   },
   {
    "duration": 125,
    "start_time": "2024-11-03T05:33:49.268Z"
   },
   {
    "duration": 134,
    "start_time": "2024-11-03T05:35:08.665Z"
   },
   {
    "duration": 19,
    "start_time": "2024-11-03T05:36:40.693Z"
   },
   {
    "duration": 5,
    "start_time": "2024-11-03T05:37:20.193Z"
   },
   {
    "duration": 119,
    "start_time": "2024-11-03T05:37:28.397Z"
   },
   {
    "duration": 7,
    "start_time": "2024-11-03T05:38:29.686Z"
   },
   {
    "duration": 119,
    "start_time": "2024-11-03T05:38:42.315Z"
   },
   {
    "duration": 857,
    "start_time": "2024-11-03T05:39:18.418Z"
   },
   {
    "duration": 24,
    "start_time": "2024-11-03T05:39:19.278Z"
   },
   {
    "duration": 12,
    "start_time": "2024-11-03T05:39:19.303Z"
   },
   {
    "duration": 4,
    "start_time": "2024-11-03T05:39:19.317Z"
   },
   {
    "duration": 11,
    "start_time": "2024-11-03T05:39:19.324Z"
   },
   {
    "duration": 37,
    "start_time": "2024-11-03T05:39:19.336Z"
   },
   {
    "duration": 4,
    "start_time": "2024-11-03T05:39:19.374Z"
   },
   {
    "duration": 8,
    "start_time": "2024-11-03T05:39:19.380Z"
   },
   {
    "duration": 14,
    "start_time": "2024-11-03T05:39:19.390Z"
   },
   {
    "duration": 14,
    "start_time": "2024-11-03T05:39:19.405Z"
   },
   {
    "duration": 13,
    "start_time": "2024-11-03T05:39:19.420Z"
   },
   {
    "duration": 41,
    "start_time": "2024-11-03T05:39:19.434Z"
   },
   {
    "duration": 340,
    "start_time": "2024-11-03T05:39:19.476Z"
   },
   {
    "duration": 11,
    "start_time": "2024-11-03T05:39:19.820Z"
   },
   {
    "duration": 224,
    "start_time": "2024-11-03T05:39:19.833Z"
   },
   {
    "duration": 12,
    "start_time": "2024-11-03T05:39:20.059Z"
   },
   {
    "duration": 349,
    "start_time": "2024-11-03T05:39:20.072Z"
   },
   {
    "duration": 7,
    "start_time": "2024-11-03T05:39:20.423Z"
   },
   {
    "duration": 3,
    "start_time": "2024-11-03T05:39:20.432Z"
   },
   {
    "duration": 1088,
    "start_time": "2024-11-03T05:39:20.436Z"
   },
   {
    "duration": 7,
    "start_time": "2024-11-03T05:39:21.526Z"
   },
   {
    "duration": 127,
    "start_time": "2024-11-03T05:39:21.534Z"
   },
   {
    "duration": 18,
    "start_time": "2024-11-03T05:39:21.662Z"
   },
   {
    "duration": 242,
    "start_time": "2024-11-03T05:39:21.681Z"
   },
   {
    "duration": 818,
    "start_time": "2024-11-03T05:39:21.924Z"
   },
   {
    "duration": 158,
    "start_time": "2024-11-03T05:39:22.743Z"
   },
   {
    "duration": 151,
    "start_time": "2024-11-03T05:39:22.902Z"
   },
   {
    "duration": 5,
    "start_time": "2024-11-03T05:39:23.055Z"
   },
   {
    "duration": 110,
    "start_time": "2024-11-03T05:39:23.071Z"
   },
   {
    "duration": 317,
    "start_time": "2024-11-03T05:39:23.182Z"
   },
   {
    "duration": 451,
    "start_time": "2024-11-03T05:39:23.500Z"
   },
   {
    "duration": 23,
    "start_time": "2024-11-03T05:39:23.953Z"
   },
   {
    "duration": 20,
    "start_time": "2024-11-03T05:39:23.978Z"
   },
   {
    "duration": 21,
    "start_time": "2024-11-03T05:39:24.000Z"
   },
   {
    "duration": 58,
    "start_time": "2024-11-03T05:39:24.022Z"
   },
   {
    "duration": 474,
    "start_time": "2024-11-03T05:39:24.082Z"
   },
   {
    "duration": 486,
    "start_time": "2024-11-03T05:39:24.558Z"
   },
   {
    "duration": 471,
    "start_time": "2024-11-03T05:39:25.045Z"
   },
   {
    "duration": 6,
    "start_time": "2024-11-03T05:39:25.518Z"
   },
   {
    "duration": 7,
    "start_time": "2024-11-03T05:39:25.526Z"
   },
   {
    "duration": 256,
    "start_time": "2024-11-03T05:44:12.658Z"
   }
  ],
  "kernelspec": {
   "display_name": "base",
   "language": "python",
   "name": "python3"
  },
  "language_info": {
   "codemirror_mode": {
    "name": "ipython",
    "version": 3
   },
   "file_extension": ".py",
   "mimetype": "text/x-python",
   "name": "python",
   "nbconvert_exporter": "python",
   "pygments_lexer": "ipython3",
   "version": "3.12.4"
  },
  "toc": {
   "base_numbering": 1,
   "nav_menu": {},
   "number_sections": true,
   "sideBar": true,
   "skip_h1_title": true,
   "title_cell": "Table of Contents",
   "title_sidebar": "Contents",
   "toc_cell": false,
   "toc_position": {},
   "toc_section_display": true,
   "toc_window_display": false
  }
 },
 "nbformat": 4,
 "nbformat_minor": 2
}
